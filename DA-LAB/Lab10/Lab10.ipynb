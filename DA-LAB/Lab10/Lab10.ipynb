{
 "cells": [
  {
   "cell_type": "markdown",
   "id": "d89996e4",
   "metadata": {},
   "source": [
    "# 1. Create a CSV file as Student.csv having 5 columns as rollno, name, branch, percentage and DOA with 10 records. Now read the Student.csv file to the R-workspace and display that."
   ]
  },
  {
   "cell_type": "code",
   "execution_count": 1,
   "id": "abfe782d",
   "metadata": {},
   "outputs": [
    {
     "data": {
      "text/html": [
       "<table>\n",
       "<thead><tr><th scope=col>rollno</th><th scope=col>name</th><th scope=col>branch</th><th scope=col>percentage</th><th scope=col>DOA</th></tr></thead>\n",
       "<tbody>\n",
       "\t<tr><td>1906354              </td><td>Rudrashis Kumar Dutta</td><td>IT                   </td><td>82                   </td><td>2019-06-02           </td></tr>\n",
       "\t<tr><td>1905330              </td><td>Pooja Agarwal        </td><td>CSE                  </td><td>92                   </td><td>2019-06-02           </td></tr>\n",
       "\t<tr><td>1906336              </td><td>Manjima Banerjee     </td><td>IT                   </td><td>85                   </td><td>2019-06-02           </td></tr>\n",
       "\t<tr><td>1906396              </td><td>Diya Pal             </td><td>IT                   </td><td>89                   </td><td>2019-06-02           </td></tr>\n",
       "\t<tr><td>1906009              </td><td>XYZ                  </td><td>IT                   </td><td>89                   </td><td>2015-06-02           </td></tr>\n",
       "\t<tr><td>1906890              </td><td>RJS                  </td><td>CSE                  </td><td>96                   </td><td>2016-06-02           </td></tr>\n",
       "\t<tr><td>1906357              </td><td>KJKL                 </td><td>IT                   </td><td>98                   </td><td>2014-06-02           </td></tr>\n",
       "\t<tr><td>1906970              </td><td>RXCv                 </td><td>IT                   </td><td>71                   </td><td>2018-06-02           </td></tr>\n",
       "\t<tr><td>1906000              </td><td>NA                   </td><td>IT                   </td><td>81                   </td><td>2017-06-02           </td></tr>\n",
       "\t<tr><td>1905000              </td><td>OPSJ                 </td><td>CSE                  </td><td>93                   </td><td>2013-06-02           </td></tr>\n",
       "</tbody>\n",
       "</table>\n"
      ],
      "text/latex": [
       "\\begin{tabular}{r|lllll}\n",
       " rollno & name & branch & percentage & DOA\\\\\n",
       "\\hline\n",
       "\t 1906354               & Rudrashis Kumar Dutta & IT                    & 82                    & 2019-06-02           \\\\\n",
       "\t 1905330               & Pooja Agarwal         & CSE                   & 92                    & 2019-06-02           \\\\\n",
       "\t 1906336               & Manjima Banerjee      & IT                    & 85                    & 2019-06-02           \\\\\n",
       "\t 1906396               & Diya Pal              & IT                    & 89                    & 2019-06-02           \\\\\n",
       "\t 1906009               & XYZ                   & IT                    & 89                    & 2015-06-02           \\\\\n",
       "\t 1906890               & RJS                   & CSE                   & 96                    & 2016-06-02           \\\\\n",
       "\t 1906357               & KJKL                  & IT                    & 98                    & 2014-06-02           \\\\\n",
       "\t 1906970               & RXCv                  & IT                    & 71                    & 2018-06-02           \\\\\n",
       "\t 1906000               & NA                    & IT                    & 81                    & 2017-06-02           \\\\\n",
       "\t 1905000               & OPSJ                  & CSE                   & 93                    & 2013-06-02           \\\\\n",
       "\\end{tabular}\n"
      ],
      "text/markdown": [
       "\n",
       "| rollno | name | branch | percentage | DOA |\n",
       "|---|---|---|---|---|\n",
       "| 1906354               | Rudrashis Kumar Dutta | IT                    | 82                    | 2019-06-02            |\n",
       "| 1905330               | Pooja Agarwal         | CSE                   | 92                    | 2019-06-02            |\n",
       "| 1906336               | Manjima Banerjee      | IT                    | 85                    | 2019-06-02            |\n",
       "| 1906396               | Diya Pal              | IT                    | 89                    | 2019-06-02            |\n",
       "| 1906009               | XYZ                   | IT                    | 89                    | 2015-06-02            |\n",
       "| 1906890               | RJS                   | CSE                   | 96                    | 2016-06-02            |\n",
       "| 1906357               | KJKL                  | IT                    | 98                    | 2014-06-02            |\n",
       "| 1906970               | RXCv                  | IT                    | 71                    | 2018-06-02            |\n",
       "| 1906000               | NA                    | IT                    | 81                    | 2017-06-02            |\n",
       "| 1905000               | OPSJ                  | CSE                   | 93                    | 2013-06-02            |\n",
       "\n"
      ],
      "text/plain": [
       "   rollno  name                  branch percentage DOA       \n",
       "1  1906354 Rudrashis Kumar Dutta IT     82         2019-06-02\n",
       "2  1905330 Pooja Agarwal         CSE    92         2019-06-02\n",
       "3  1906336 Manjima Banerjee      IT     85         2019-06-02\n",
       "4  1906396 Diya Pal              IT     89         2019-06-02\n",
       "5  1906009 XYZ                   IT     89         2015-06-02\n",
       "6  1906890 RJS                   CSE    96         2016-06-02\n",
       "7  1906357 KJKL                  IT     98         2014-06-02\n",
       "8  1906970 RXCv                  IT     71         2018-06-02\n",
       "9  1906000 NA                    IT     81         2017-06-02\n",
       "10 1905000 OPSJ                  CSE    93         2013-06-02"
      ]
     },
     "metadata": {},
     "output_type": "display_data"
    }
   ],
   "source": [
    "students <- read.csv('student.csv')\n",
    "students"
   ]
  },
  {
   "cell_type": "markdown",
   "id": "6b4931f0",
   "metadata": {},
   "source": [
    "# 2. Retrieve and display the details of that student who has maximum percentage."
   ]
  },
  {
   "cell_type": "code",
   "execution_count": 2,
   "id": "1a70ed17",
   "metadata": {},
   "outputs": [
    {
     "data": {
      "text/html": [
       "<table>\n",
       "<thead><tr><th></th><th scope=col>rollno</th><th scope=col>name</th><th scope=col>branch</th><th scope=col>percentage</th><th scope=col>DOA</th></tr></thead>\n",
       "<tbody>\n",
       "\t<tr><th scope=row>7</th><td>1906357   </td><td>KJKL      </td><td>IT        </td><td>98        </td><td>2014-06-02</td></tr>\n",
       "</tbody>\n",
       "</table>\n"
      ],
      "text/latex": [
       "\\begin{tabular}{r|lllll}\n",
       "  & rollno & name & branch & percentage & DOA\\\\\n",
       "\\hline\n",
       "\t7 & 1906357    & KJKL       & IT         & 98         & 2014-06-02\\\\\n",
       "\\end{tabular}\n"
      ],
      "text/markdown": [
       "\n",
       "| <!--/--> | rollno | name | branch | percentage | DOA |\n",
       "|---|---|---|---|---|---|\n",
       "| 7 | 1906357    | KJKL       | IT         | 98         | 2014-06-02 |\n",
       "\n"
      ],
      "text/plain": [
       "  rollno  name branch percentage DOA       \n",
       "7 1906357 KJKL IT     98         2014-06-02"
      ]
     },
     "metadata": {},
     "output_type": "display_data"
    }
   ],
   "source": [
    "student_with_max_perc <- subset(students, percentage == max(percentage))\n",
    "student_with_max_perc"
   ]
  },
  {
   "cell_type": "markdown",
   "id": "bf112aad",
   "metadata": {},
   "source": [
    "# 3. Retrieve and display the details of those students who are studying in IT or CSE branch."
   ]
  },
  {
   "cell_type": "code",
   "execution_count": 3,
   "id": "dc426f64",
   "metadata": {},
   "outputs": [
    {
     "data": {
      "text/html": [
       "<table>\n",
       "<thead><tr><th></th><th scope=col>rollno</th><th scope=col>name</th><th scope=col>branch</th><th scope=col>percentage</th><th scope=col>DOA</th></tr></thead>\n",
       "<tbody>\n",
       "\t<tr><th scope=row>1</th><td>1906354              </td><td>Rudrashis Kumar Dutta</td><td>IT                   </td><td>82                   </td><td>2019-06-02           </td></tr>\n",
       "\t<tr><th scope=row>3</th><td>1906336              </td><td>Manjima Banerjee     </td><td>IT                   </td><td>85                   </td><td>2019-06-02           </td></tr>\n",
       "\t<tr><th scope=row>4</th><td>1906396              </td><td>Diya Pal             </td><td>IT                   </td><td>89                   </td><td>2019-06-02           </td></tr>\n",
       "\t<tr><th scope=row>5</th><td>1906009              </td><td>XYZ                  </td><td>IT                   </td><td>89                   </td><td>2015-06-02           </td></tr>\n",
       "\t<tr><th scope=row>7</th><td>1906357              </td><td>KJKL                 </td><td>IT                   </td><td>98                   </td><td>2014-06-02           </td></tr>\n",
       "\t<tr><th scope=row>8</th><td>1906970              </td><td>RXCv                 </td><td>IT                   </td><td>71                   </td><td>2018-06-02           </td></tr>\n",
       "\t<tr><th scope=row>9</th><td>1906000              </td><td>NA                   </td><td>IT                   </td><td>81                   </td><td>2017-06-02           </td></tr>\n",
       "</tbody>\n",
       "</table>\n"
      ],
      "text/latex": [
       "\\begin{tabular}{r|lllll}\n",
       "  & rollno & name & branch & percentage & DOA\\\\\n",
       "\\hline\n",
       "\t1 & 1906354               & Rudrashis Kumar Dutta & IT                    & 82                    & 2019-06-02           \\\\\n",
       "\t3 & 1906336               & Manjima Banerjee      & IT                    & 85                    & 2019-06-02           \\\\\n",
       "\t4 & 1906396               & Diya Pal              & IT                    & 89                    & 2019-06-02           \\\\\n",
       "\t5 & 1906009               & XYZ                   & IT                    & 89                    & 2015-06-02           \\\\\n",
       "\t7 & 1906357               & KJKL                  & IT                    & 98                    & 2014-06-02           \\\\\n",
       "\t8 & 1906970               & RXCv                  & IT                    & 71                    & 2018-06-02           \\\\\n",
       "\t9 & 1906000               & NA                    & IT                    & 81                    & 2017-06-02           \\\\\n",
       "\\end{tabular}\n"
      ],
      "text/markdown": [
       "\n",
       "| <!--/--> | rollno | name | branch | percentage | DOA |\n",
       "|---|---|---|---|---|---|\n",
       "| 1 | 1906354               | Rudrashis Kumar Dutta | IT                    | 82                    | 2019-06-02            |\n",
       "| 3 | 1906336               | Manjima Banerjee      | IT                    | 85                    | 2019-06-02            |\n",
       "| 4 | 1906396               | Diya Pal              | IT                    | 89                    | 2019-06-02            |\n",
       "| 5 | 1906009               | XYZ                   | IT                    | 89                    | 2015-06-02            |\n",
       "| 7 | 1906357               | KJKL                  | IT                    | 98                    | 2014-06-02            |\n",
       "| 8 | 1906970               | RXCv                  | IT                    | 71                    | 2018-06-02            |\n",
       "| 9 | 1906000               | NA                    | IT                    | 81                    | 2017-06-02            |\n",
       "\n"
      ],
      "text/plain": [
       "  rollno  name                  branch percentage DOA       \n",
       "1 1906354 Rudrashis Kumar Dutta IT     82         2019-06-02\n",
       "3 1906336 Manjima Banerjee      IT     85         2019-06-02\n",
       "4 1906396 Diya Pal              IT     89         2019-06-02\n",
       "5 1906009 XYZ                   IT     89         2015-06-02\n",
       "7 1906357 KJKL                  IT     98         2014-06-02\n",
       "8 1906970 RXCv                  IT     71         2018-06-02\n",
       "9 1906000 NA                    IT     81         2017-06-02"
      ]
     },
     "metadata": {},
     "output_type": "display_data"
    }
   ],
   "source": [
    "IT <- subset(students, branch == 'IT')\n",
    "IT"
   ]
  },
  {
   "cell_type": "code",
   "execution_count": 4,
   "id": "25e3225f",
   "metadata": {},
   "outputs": [
    {
     "data": {
      "text/html": [
       "<table>\n",
       "<thead><tr><th></th><th scope=col>rollno</th><th scope=col>name</th><th scope=col>branch</th><th scope=col>percentage</th><th scope=col>DOA</th></tr></thead>\n",
       "<tbody>\n",
       "\t<tr><th scope=row>2</th><td>1905330      </td><td>Pooja Agarwal</td><td>CSE          </td><td>92           </td><td>2019-06-02   </td></tr>\n",
       "\t<tr><th scope=row>6</th><td>1906890      </td><td>RJS          </td><td>CSE          </td><td>96           </td><td>2016-06-02   </td></tr>\n",
       "\t<tr><th scope=row>10</th><td>1905000      </td><td>OPSJ         </td><td>CSE          </td><td>93           </td><td>2013-06-02   </td></tr>\n",
       "</tbody>\n",
       "</table>\n"
      ],
      "text/latex": [
       "\\begin{tabular}{r|lllll}\n",
       "  & rollno & name & branch & percentage & DOA\\\\\n",
       "\\hline\n",
       "\t2 & 1905330       & Pooja Agarwal & CSE           & 92            & 2019-06-02   \\\\\n",
       "\t6 & 1906890       & RJS           & CSE           & 96            & 2016-06-02   \\\\\n",
       "\t10 & 1905000       & OPSJ          & CSE           & 93            & 2013-06-02   \\\\\n",
       "\\end{tabular}\n"
      ],
      "text/markdown": [
       "\n",
       "| <!--/--> | rollno | name | branch | percentage | DOA |\n",
       "|---|---|---|---|---|---|\n",
       "| 2 | 1905330       | Pooja Agarwal | CSE           | 92            | 2019-06-02    |\n",
       "| 6 | 1906890       | RJS           | CSE           | 96            | 2016-06-02    |\n",
       "| 10 | 1905000       | OPSJ          | CSE           | 93            | 2013-06-02    |\n",
       "\n"
      ],
      "text/plain": [
       "   rollno  name          branch percentage DOA       \n",
       "2  1905330 Pooja Agarwal CSE    92         2019-06-02\n",
       "6  1906890 RJS           CSE    96         2016-06-02\n",
       "10 1905000 OPSJ          CSE    93         2013-06-02"
      ]
     },
     "metadata": {},
     "output_type": "display_data"
    }
   ],
   "source": [
    "CSE <- subset(students, branch == 'CSE')\n",
    "CSE"
   ]
  },
  {
   "cell_type": "markdown",
   "id": "198ac76f",
   "metadata": {},
   "source": [
    "# 4. Retrieve and display the details of those CSE students whose percentage is more than or equal to 80."
   ]
  },
  {
   "cell_type": "code",
   "execution_count": 5,
   "id": "25106c47",
   "metadata": {},
   "outputs": [
    {
     "data": {
      "text/html": [
       "<table>\n",
       "<thead><tr><th></th><th scope=col>rollno</th><th scope=col>name</th><th scope=col>branch</th><th scope=col>percentage</th><th scope=col>DOA</th></tr></thead>\n",
       "<tbody>\n",
       "\t<tr><th scope=row>2</th><td>1905330      </td><td>Pooja Agarwal</td><td>CSE          </td><td>92           </td><td>2019-06-02   </td></tr>\n",
       "\t<tr><th scope=row>6</th><td>1906890      </td><td>RJS          </td><td>CSE          </td><td>96           </td><td>2016-06-02   </td></tr>\n",
       "\t<tr><th scope=row>10</th><td>1905000      </td><td>OPSJ         </td><td>CSE          </td><td>93           </td><td>2013-06-02   </td></tr>\n",
       "</tbody>\n",
       "</table>\n"
      ],
      "text/latex": [
       "\\begin{tabular}{r|lllll}\n",
       "  & rollno & name & branch & percentage & DOA\\\\\n",
       "\\hline\n",
       "\t2 & 1905330       & Pooja Agarwal & CSE           & 92            & 2019-06-02   \\\\\n",
       "\t6 & 1906890       & RJS           & CSE           & 96            & 2016-06-02   \\\\\n",
       "\t10 & 1905000       & OPSJ          & CSE           & 93            & 2013-06-02   \\\\\n",
       "\\end{tabular}\n"
      ],
      "text/markdown": [
       "\n",
       "| <!--/--> | rollno | name | branch | percentage | DOA |\n",
       "|---|---|---|---|---|---|\n",
       "| 2 | 1905330       | Pooja Agarwal | CSE           | 92            | 2019-06-02    |\n",
       "| 6 | 1906890       | RJS           | CSE           | 96            | 2016-06-02    |\n",
       "| 10 | 1905000       | OPSJ          | CSE           | 93            | 2013-06-02    |\n",
       "\n"
      ],
      "text/plain": [
       "   rollno  name          branch percentage DOA       \n",
       "2  1905330 Pooja Agarwal CSE    92         2019-06-02\n",
       "6  1906890 RJS           CSE    96         2016-06-02\n",
       "10 1905000 OPSJ          CSE    93         2013-06-02"
      ]
     },
     "metadata": {},
     "output_type": "display_data"
    }
   ],
   "source": [
    "CSE_perc_80plus <- subset(students, branch == 'CSE' & percentage >= 80)\n",
    "CSE_perc_80plus"
   ]
  },
  {
   "cell_type": "markdown",
   "id": "28820ed8",
   "metadata": {},
   "source": [
    "# 5. Retrieve and display the details of those students who are admitted on or after 1st may 2017 (Lateral Entries)."
   ]
  },
  {
   "cell_type": "code",
   "execution_count": 6,
   "id": "d8afddf1",
   "metadata": {},
   "outputs": [
    {
     "data": {
      "text/html": [
       "<table>\n",
       "<thead><tr><th></th><th scope=col>rollno</th><th scope=col>name</th><th scope=col>branch</th><th scope=col>percentage</th><th scope=col>DOA</th></tr></thead>\n",
       "<tbody>\n",
       "\t<tr><th scope=row>1</th><td>1906354              </td><td>Rudrashis Kumar Dutta</td><td>IT                   </td><td>82                   </td><td>2019-06-02           </td></tr>\n",
       "\t<tr><th scope=row>2</th><td>1905330              </td><td>Pooja Agarwal        </td><td>CSE                  </td><td>92                   </td><td>2019-06-02           </td></tr>\n",
       "\t<tr><th scope=row>3</th><td>1906336              </td><td>Manjima Banerjee     </td><td>IT                   </td><td>85                   </td><td>2019-06-02           </td></tr>\n",
       "\t<tr><th scope=row>4</th><td>1906396              </td><td>Diya Pal             </td><td>IT                   </td><td>89                   </td><td>2019-06-02           </td></tr>\n",
       "\t<tr><th scope=row>8</th><td>1906970              </td><td>RXCv                 </td><td>IT                   </td><td>71                   </td><td>2018-06-02           </td></tr>\n",
       "\t<tr><th scope=row>9</th><td>1906000              </td><td>NA                   </td><td>IT                   </td><td>81                   </td><td>2017-06-02           </td></tr>\n",
       "</tbody>\n",
       "</table>\n"
      ],
      "text/latex": [
       "\\begin{tabular}{r|lllll}\n",
       "  & rollno & name & branch & percentage & DOA\\\\\n",
       "\\hline\n",
       "\t1 & 1906354               & Rudrashis Kumar Dutta & IT                    & 82                    & 2019-06-02           \\\\\n",
       "\t2 & 1905330               & Pooja Agarwal         & CSE                   & 92                    & 2019-06-02           \\\\\n",
       "\t3 & 1906336               & Manjima Banerjee      & IT                    & 85                    & 2019-06-02           \\\\\n",
       "\t4 & 1906396               & Diya Pal              & IT                    & 89                    & 2019-06-02           \\\\\n",
       "\t8 & 1906970               & RXCv                  & IT                    & 71                    & 2018-06-02           \\\\\n",
       "\t9 & 1906000               & NA                    & IT                    & 81                    & 2017-06-02           \\\\\n",
       "\\end{tabular}\n"
      ],
      "text/markdown": [
       "\n",
       "| <!--/--> | rollno | name | branch | percentage | DOA |\n",
       "|---|---|---|---|---|---|\n",
       "| 1 | 1906354               | Rudrashis Kumar Dutta | IT                    | 82                    | 2019-06-02            |\n",
       "| 2 | 1905330               | Pooja Agarwal         | CSE                   | 92                    | 2019-06-02            |\n",
       "| 3 | 1906336               | Manjima Banerjee      | IT                    | 85                    | 2019-06-02            |\n",
       "| 4 | 1906396               | Diya Pal              | IT                    | 89                    | 2019-06-02            |\n",
       "| 8 | 1906970               | RXCv                  | IT                    | 71                    | 2018-06-02            |\n",
       "| 9 | 1906000               | NA                    | IT                    | 81                    | 2017-06-02            |\n",
       "\n"
      ],
      "text/plain": [
       "  rollno  name                  branch percentage DOA       \n",
       "1 1906354 Rudrashis Kumar Dutta IT     82         2019-06-02\n",
       "2 1905330 Pooja Agarwal         CSE    92         2019-06-02\n",
       "3 1906336 Manjima Banerjee      IT     85         2019-06-02\n",
       "4 1906396 Diya Pal              IT     89         2019-06-02\n",
       "8 1906970 RXCv                  IT     71         2018-06-02\n",
       "9 1906000 NA                    IT     81         2017-06-02"
      ]
     },
     "metadata": {},
     "output_type": "display_data"
    }
   ],
   "source": [
    "students_after1May2017 = subset(students, as.Date(DOA) >= as.Date('2017-05-01'))\n",
    "students_after1May2017"
   ]
  },
  {
   "cell_type": "markdown",
   "id": "ecd4fdf8",
   "metadata": {},
   "source": [
    "# 6. Create an Excel file as Student.xlsx, where sheet1 contains rollno, name, branch, percentage and sheet2 contains name, DOA with 10 records. Now install and load xlsx package to the R workspace."
   ]
  },
  {
   "cell_type": "code",
   "execution_count": 7,
   "id": "3f69628e",
   "metadata": {},
   "outputs": [
    {
     "name": "stderr",
     "output_type": "stream",
     "text": [
      "Warning message:\n",
      "\"package 'xlsx' was built under R version 3.6.3\""
     ]
    }
   ],
   "source": [
    "library(xlsx)"
   ]
  },
  {
   "cell_type": "code",
   "execution_count": 8,
   "id": "91f31a78",
   "metadata": {},
   "outputs": [],
   "source": [
    "sheet1 <- subset(students, select=c(rollno, name, branch, percentage))\n",
    "write.xlsx(sheet1, file='student.xlsx', sheetName='sheet1', row.names=FALSE)"
   ]
  },
  {
   "cell_type": "code",
   "execution_count": 9,
   "id": "e2d74a17",
   "metadata": {},
   "outputs": [],
   "source": [
    "sheet2 <- subset(students, select=c(DOA))\n",
    "write.xlsx(sheet2, file='student.xlsx', sheetName='sheet2', append=TRUE, row.names=FALSE)"
   ]
  },
  {
   "cell_type": "markdown",
   "id": "d3957eb3",
   "metadata": {},
   "source": [
    "# 7. Read the details of sheet1 from Student.xlsx to the R workspace and display that, then read from the sheet2 and display that."
   ]
  },
  {
   "cell_type": "code",
   "execution_count": 10,
   "id": "cec93e34",
   "metadata": {
    "scrolled": true
   },
   "outputs": [
    {
     "data": {
      "text/html": [
       "<table>\n",
       "<thead><tr><th scope=col>rollno</th><th scope=col>name</th><th scope=col>branch</th><th scope=col>percentage</th></tr></thead>\n",
       "<tbody>\n",
       "\t<tr><td>1906354              </td><td>Rudrashis Kumar Dutta</td><td>IT                   </td><td>82                   </td></tr>\n",
       "\t<tr><td>1905330              </td><td>Pooja Agarwal        </td><td>CSE                  </td><td>92                   </td></tr>\n",
       "\t<tr><td>1906336              </td><td>Manjima Banerjee     </td><td>IT                   </td><td>85                   </td></tr>\n",
       "\t<tr><td>1906396              </td><td>Diya Pal             </td><td>IT                   </td><td>89                   </td></tr>\n",
       "\t<tr><td>1906009              </td><td>XYZ                  </td><td>IT                   </td><td>89                   </td></tr>\n",
       "\t<tr><td>1906890              </td><td>RJS                  </td><td>CSE                  </td><td>96                   </td></tr>\n",
       "\t<tr><td>1906357              </td><td>KJKL                 </td><td>IT                   </td><td>98                   </td></tr>\n",
       "\t<tr><td>1906970              </td><td>RXCv                 </td><td>IT                   </td><td>71                   </td></tr>\n",
       "\t<tr><td>1906000              </td><td>NA                   </td><td>IT                   </td><td>81                   </td></tr>\n",
       "\t<tr><td>1905000              </td><td>OPSJ                 </td><td>CSE                  </td><td>93                   </td></tr>\n",
       "</tbody>\n",
       "</table>\n"
      ],
      "text/latex": [
       "\\begin{tabular}{r|llll}\n",
       " rollno & name & branch & percentage\\\\\n",
       "\\hline\n",
       "\t 1906354               & Rudrashis Kumar Dutta & IT                    & 82                   \\\\\n",
       "\t 1905330               & Pooja Agarwal         & CSE                   & 92                   \\\\\n",
       "\t 1906336               & Manjima Banerjee      & IT                    & 85                   \\\\\n",
       "\t 1906396               & Diya Pal              & IT                    & 89                   \\\\\n",
       "\t 1906009               & XYZ                   & IT                    & 89                   \\\\\n",
       "\t 1906890               & RJS                   & CSE                   & 96                   \\\\\n",
       "\t 1906357               & KJKL                  & IT                    & 98                   \\\\\n",
       "\t 1906970               & RXCv                  & IT                    & 71                   \\\\\n",
       "\t 1906000               & NA                    & IT                    & 81                   \\\\\n",
       "\t 1905000               & OPSJ                  & CSE                   & 93                   \\\\\n",
       "\\end{tabular}\n"
      ],
      "text/markdown": [
       "\n",
       "| rollno | name | branch | percentage |\n",
       "|---|---|---|---|\n",
       "| 1906354               | Rudrashis Kumar Dutta | IT                    | 82                    |\n",
       "| 1905330               | Pooja Agarwal         | CSE                   | 92                    |\n",
       "| 1906336               | Manjima Banerjee      | IT                    | 85                    |\n",
       "| 1906396               | Diya Pal              | IT                    | 89                    |\n",
       "| 1906009               | XYZ                   | IT                    | 89                    |\n",
       "| 1906890               | RJS                   | CSE                   | 96                    |\n",
       "| 1906357               | KJKL                  | IT                    | 98                    |\n",
       "| 1906970               | RXCv                  | IT                    | 71                    |\n",
       "| 1906000               | NA                    | IT                    | 81                    |\n",
       "| 1905000               | OPSJ                  | CSE                   | 93                    |\n",
       "\n"
      ],
      "text/plain": [
       "   rollno  name                  branch percentage\n",
       "1  1906354 Rudrashis Kumar Dutta IT     82        \n",
       "2  1905330 Pooja Agarwal         CSE    92        \n",
       "3  1906336 Manjima Banerjee      IT     85        \n",
       "4  1906396 Diya Pal              IT     89        \n",
       "5  1906009 XYZ                   IT     89        \n",
       "6  1906890 RJS                   CSE    96        \n",
       "7  1906357 KJKL                  IT     98        \n",
       "8  1906970 RXCv                  IT     71        \n",
       "9  1906000 NA                    IT     81        \n",
       "10 1905000 OPSJ                  CSE    93        "
      ]
     },
     "metadata": {},
     "output_type": "display_data"
    }
   ],
   "source": [
    "student_sheet1 <- read.xlsx('student.xlsx',sheetName='sheet1')\n",
    "student_sheet1"
   ]
  },
  {
   "cell_type": "code",
   "execution_count": 11,
   "id": "65a862e1",
   "metadata": {},
   "outputs": [
    {
     "data": {
      "text/html": [
       "<table>\n",
       "<thead><tr><th scope=col>DOA</th></tr></thead>\n",
       "<tbody>\n",
       "\t<tr><td>2019-06-02</td></tr>\n",
       "\t<tr><td>2019-06-02</td></tr>\n",
       "\t<tr><td>2019-06-02</td></tr>\n",
       "\t<tr><td>2019-06-02</td></tr>\n",
       "\t<tr><td>2015-06-02</td></tr>\n",
       "\t<tr><td>2016-06-02</td></tr>\n",
       "\t<tr><td>2014-06-02</td></tr>\n",
       "\t<tr><td>2018-06-02</td></tr>\n",
       "\t<tr><td>2017-06-02</td></tr>\n",
       "\t<tr><td>2013-06-02</td></tr>\n",
       "</tbody>\n",
       "</table>\n"
      ],
      "text/latex": [
       "\\begin{tabular}{r|l}\n",
       " DOA\\\\\n",
       "\\hline\n",
       "\t 2019-06-02\\\\\n",
       "\t 2019-06-02\\\\\n",
       "\t 2019-06-02\\\\\n",
       "\t 2019-06-02\\\\\n",
       "\t 2015-06-02\\\\\n",
       "\t 2016-06-02\\\\\n",
       "\t 2014-06-02\\\\\n",
       "\t 2018-06-02\\\\\n",
       "\t 2017-06-02\\\\\n",
       "\t 2013-06-02\\\\\n",
       "\\end{tabular}\n"
      ],
      "text/markdown": [
       "\n",
       "| DOA |\n",
       "|---|\n",
       "| 2019-06-02 |\n",
       "| 2019-06-02 |\n",
       "| 2019-06-02 |\n",
       "| 2019-06-02 |\n",
       "| 2015-06-02 |\n",
       "| 2016-06-02 |\n",
       "| 2014-06-02 |\n",
       "| 2018-06-02 |\n",
       "| 2017-06-02 |\n",
       "| 2013-06-02 |\n",
       "\n"
      ],
      "text/plain": [
       "   DOA       \n",
       "1  2019-06-02\n",
       "2  2019-06-02\n",
       "3  2019-06-02\n",
       "4  2019-06-02\n",
       "5  2015-06-02\n",
       "6  2016-06-02\n",
       "7  2014-06-02\n",
       "8  2018-06-02\n",
       "9  2017-06-02\n",
       "10 2013-06-02"
      ]
     },
     "metadata": {},
     "output_type": "display_data"
    }
   ],
   "source": [
    "student_sheet2 <- read.xlsx('student.xlsx',sheetName='sheet2')\n",
    "student_sheet2"
   ]
  },
  {
   "cell_type": "markdown",
   "id": "6771d47d",
   "metadata": {},
   "source": [
    "# 8. Write the commands to merge by reading the data set of two sheets of Student.xlsx to the R workspace and display that."
   ]
  },
  {
   "cell_type": "code",
   "execution_count": 12,
   "id": "e7d09245",
   "metadata": {},
   "outputs": [
    {
     "data": {
      "text/html": [
       "<table>\n",
       "<thead><tr><th scope=col>rollno</th><th scope=col>name</th><th scope=col>branch</th><th scope=col>percentage</th><th scope=col>DOA</th></tr></thead>\n",
       "<tbody>\n",
       "\t<tr><td>1906354              </td><td>Rudrashis Kumar Dutta</td><td>IT                   </td><td>82                   </td><td>2019-06-02           </td></tr>\n",
       "\t<tr><td>1905330              </td><td>Pooja Agarwal        </td><td>CSE                  </td><td>92                   </td><td>2019-06-02           </td></tr>\n",
       "\t<tr><td>1906336              </td><td>Manjima Banerjee     </td><td>IT                   </td><td>85                   </td><td>2019-06-02           </td></tr>\n",
       "\t<tr><td>1906396              </td><td>Diya Pal             </td><td>IT                   </td><td>89                   </td><td>2019-06-02           </td></tr>\n",
       "\t<tr><td>1906009              </td><td>XYZ                  </td><td>IT                   </td><td>89                   </td><td>2015-06-02           </td></tr>\n",
       "\t<tr><td>1906890              </td><td>RJS                  </td><td>CSE                  </td><td>96                   </td><td>2016-06-02           </td></tr>\n",
       "\t<tr><td>1906357              </td><td>KJKL                 </td><td>IT                   </td><td>98                   </td><td>2014-06-02           </td></tr>\n",
       "\t<tr><td>1906970              </td><td>RXCv                 </td><td>IT                   </td><td>71                   </td><td>2018-06-02           </td></tr>\n",
       "\t<tr><td>1906000              </td><td>NA                   </td><td>IT                   </td><td>81                   </td><td>2017-06-02           </td></tr>\n",
       "\t<tr><td>1905000              </td><td>OPSJ                 </td><td>CSE                  </td><td>93                   </td><td>2013-06-02           </td></tr>\n",
       "</tbody>\n",
       "</table>\n"
      ],
      "text/latex": [
       "\\begin{tabular}{r|lllll}\n",
       " rollno & name & branch & percentage & DOA\\\\\n",
       "\\hline\n",
       "\t 1906354               & Rudrashis Kumar Dutta & IT                    & 82                    & 2019-06-02           \\\\\n",
       "\t 1905330               & Pooja Agarwal         & CSE                   & 92                    & 2019-06-02           \\\\\n",
       "\t 1906336               & Manjima Banerjee      & IT                    & 85                    & 2019-06-02           \\\\\n",
       "\t 1906396               & Diya Pal              & IT                    & 89                    & 2019-06-02           \\\\\n",
       "\t 1906009               & XYZ                   & IT                    & 89                    & 2015-06-02           \\\\\n",
       "\t 1906890               & RJS                   & CSE                   & 96                    & 2016-06-02           \\\\\n",
       "\t 1906357               & KJKL                  & IT                    & 98                    & 2014-06-02           \\\\\n",
       "\t 1906970               & RXCv                  & IT                    & 71                    & 2018-06-02           \\\\\n",
       "\t 1906000               & NA                    & IT                    & 81                    & 2017-06-02           \\\\\n",
       "\t 1905000               & OPSJ                  & CSE                   & 93                    & 2013-06-02           \\\\\n",
       "\\end{tabular}\n"
      ],
      "text/markdown": [
       "\n",
       "| rollno | name | branch | percentage | DOA |\n",
       "|---|---|---|---|---|\n",
       "| 1906354               | Rudrashis Kumar Dutta | IT                    | 82                    | 2019-06-02            |\n",
       "| 1905330               | Pooja Agarwal         | CSE                   | 92                    | 2019-06-02            |\n",
       "| 1906336               | Manjima Banerjee      | IT                    | 85                    | 2019-06-02            |\n",
       "| 1906396               | Diya Pal              | IT                    | 89                    | 2019-06-02            |\n",
       "| 1906009               | XYZ                   | IT                    | 89                    | 2015-06-02            |\n",
       "| 1906890               | RJS                   | CSE                   | 96                    | 2016-06-02            |\n",
       "| 1906357               | KJKL                  | IT                    | 98                    | 2014-06-02            |\n",
       "| 1906970               | RXCv                  | IT                    | 71                    | 2018-06-02            |\n",
       "| 1906000               | NA                    | IT                    | 81                    | 2017-06-02            |\n",
       "| 1905000               | OPSJ                  | CSE                   | 93                    | 2013-06-02            |\n",
       "\n"
      ],
      "text/plain": [
       "   rollno  name                  branch percentage DOA       \n",
       "1  1906354 Rudrashis Kumar Dutta IT     82         2019-06-02\n",
       "2  1905330 Pooja Agarwal         CSE    92         2019-06-02\n",
       "3  1906336 Manjima Banerjee      IT     85         2019-06-02\n",
       "4  1906396 Diya Pal              IT     89         2019-06-02\n",
       "5  1906009 XYZ                   IT     89         2015-06-02\n",
       "6  1906890 RJS                   CSE    96         2016-06-02\n",
       "7  1906357 KJKL                  IT     98         2014-06-02\n",
       "8  1906970 RXCv                  IT     71         2018-06-02\n",
       "9  1906000 NA                    IT     81         2017-06-02\n",
       "10 1905000 OPSJ                  CSE    93         2013-06-02"
      ]
     },
     "metadata": {},
     "output_type": "display_data"
    }
   ],
   "source": [
    "student_xlsx_merged <- student_sheet1\n",
    "student_xlsx_merged$DOA <- student_sheet2$DOA\n",
    "student_xlsx_merged"
   ]
  },
  {
   "cell_type": "markdown",
   "id": "55c9a8e8",
   "metadata": {},
   "source": [
    "# 9. Write the merge data to the new Excel file."
   ]
  },
  {
   "cell_type": "code",
   "execution_count": 13,
   "id": "aee15f75",
   "metadata": {},
   "outputs": [],
   "source": [
    "write.xlsx(student_xlsx_merged, file='student_merged.xlsx', sheetName = 'merged')"
   ]
  },
  {
   "cell_type": "markdown",
   "id": "bf2666f6",
   "metadata": {},
   "source": [
    "# 10. Write the merge data to the new Excel file by removing NA."
   ]
  },
  {
   "cell_type": "code",
   "execution_count": 14,
   "id": "2e181f52",
   "metadata": {},
   "outputs": [
    {
     "data": {
      "text/html": [
       "<table>\n",
       "<thead><tr><th></th><th scope=col>rollno</th><th scope=col>name</th><th scope=col>branch</th><th scope=col>percentage</th><th scope=col>DOA</th></tr></thead>\n",
       "<tbody>\n",
       "\t<tr><th scope=row>1</th><td>1906354              </td><td>Rudrashis Kumar Dutta</td><td>IT                   </td><td>82                   </td><td>2019-06-02           </td></tr>\n",
       "\t<tr><th scope=row>2</th><td>1905330              </td><td>Pooja Agarwal        </td><td>CSE                  </td><td>92                   </td><td>2019-06-02           </td></tr>\n",
       "\t<tr><th scope=row>3</th><td>1906336              </td><td>Manjima Banerjee     </td><td>IT                   </td><td>85                   </td><td>2019-06-02           </td></tr>\n",
       "\t<tr><th scope=row>4</th><td>1906396              </td><td>Diya Pal             </td><td>IT                   </td><td>89                   </td><td>2019-06-02           </td></tr>\n",
       "\t<tr><th scope=row>5</th><td>1906009              </td><td>XYZ                  </td><td>IT                   </td><td>89                   </td><td>2015-06-02           </td></tr>\n",
       "\t<tr><th scope=row>6</th><td>1906890              </td><td>RJS                  </td><td>CSE                  </td><td>96                   </td><td>2016-06-02           </td></tr>\n",
       "\t<tr><th scope=row>7</th><td>1906357              </td><td>KJKL                 </td><td>IT                   </td><td>98                   </td><td>2014-06-02           </td></tr>\n",
       "\t<tr><th scope=row>8</th><td>1906970              </td><td>RXCv                 </td><td>IT                   </td><td>71                   </td><td>2018-06-02           </td></tr>\n",
       "\t<tr><th scope=row>10</th><td>1905000              </td><td>OPSJ                 </td><td>CSE                  </td><td>93                   </td><td>2013-06-02           </td></tr>\n",
       "</tbody>\n",
       "</table>\n"
      ],
      "text/latex": [
       "\\begin{tabular}{r|lllll}\n",
       "  & rollno & name & branch & percentage & DOA\\\\\n",
       "\\hline\n",
       "\t1 & 1906354               & Rudrashis Kumar Dutta & IT                    & 82                    & 2019-06-02           \\\\\n",
       "\t2 & 1905330               & Pooja Agarwal         & CSE                   & 92                    & 2019-06-02           \\\\\n",
       "\t3 & 1906336               & Manjima Banerjee      & IT                    & 85                    & 2019-06-02           \\\\\n",
       "\t4 & 1906396               & Diya Pal              & IT                    & 89                    & 2019-06-02           \\\\\n",
       "\t5 & 1906009               & XYZ                   & IT                    & 89                    & 2015-06-02           \\\\\n",
       "\t6 & 1906890               & RJS                   & CSE                   & 96                    & 2016-06-02           \\\\\n",
       "\t7 & 1906357               & KJKL                  & IT                    & 98                    & 2014-06-02           \\\\\n",
       "\t8 & 1906970               & RXCv                  & IT                    & 71                    & 2018-06-02           \\\\\n",
       "\t10 & 1905000               & OPSJ                  & CSE                   & 93                    & 2013-06-02           \\\\\n",
       "\\end{tabular}\n"
      ],
      "text/markdown": [
       "\n",
       "| <!--/--> | rollno | name | branch | percentage | DOA |\n",
       "|---|---|---|---|---|---|\n",
       "| 1 | 1906354               | Rudrashis Kumar Dutta | IT                    | 82                    | 2019-06-02            |\n",
       "| 2 | 1905330               | Pooja Agarwal         | CSE                   | 92                    | 2019-06-02            |\n",
       "| 3 | 1906336               | Manjima Banerjee      | IT                    | 85                    | 2019-06-02            |\n",
       "| 4 | 1906396               | Diya Pal              | IT                    | 89                    | 2019-06-02            |\n",
       "| 5 | 1906009               | XYZ                   | IT                    | 89                    | 2015-06-02            |\n",
       "| 6 | 1906890               | RJS                   | CSE                   | 96                    | 2016-06-02            |\n",
       "| 7 | 1906357               | KJKL                  | IT                    | 98                    | 2014-06-02            |\n",
       "| 8 | 1906970               | RXCv                  | IT                    | 71                    | 2018-06-02            |\n",
       "| 10 | 1905000               | OPSJ                  | CSE                   | 93                    | 2013-06-02            |\n",
       "\n"
      ],
      "text/plain": [
       "   rollno  name                  branch percentage DOA       \n",
       "1  1906354 Rudrashis Kumar Dutta IT     82         2019-06-02\n",
       "2  1905330 Pooja Agarwal         CSE    92         2019-06-02\n",
       "3  1906336 Manjima Banerjee      IT     85         2019-06-02\n",
       "4  1906396 Diya Pal              IT     89         2019-06-02\n",
       "5  1906009 XYZ                   IT     89         2015-06-02\n",
       "6  1906890 RJS                   CSE    96         2016-06-02\n",
       "7  1906357 KJKL                  IT     98         2014-06-02\n",
       "8  1906970 RXCv                  IT     71         2018-06-02\n",
       "10 1905000 OPSJ                  CSE    93         2013-06-02"
      ]
     },
     "metadata": {},
     "output_type": "display_data"
    }
   ],
   "source": [
    "student_removed_na <- na.omit(student_xlsx_merged)\n",
    "student_removed_na"
   ]
  },
  {
   "cell_type": "code",
   "execution_count": 15,
   "id": "6f05a9e9",
   "metadata": {},
   "outputs": [],
   "source": [
    "write.xlsx(student_removed_na, file='student_no_NA.xlsx', sheetName = 'no_NA')"
   ]
  }
 ],
 "metadata": {
  "kernelspec": {
   "display_name": "R",
   "language": "R",
   "name": "ir"
  },
  "language_info": {
   "codemirror_mode": "r",
   "file_extension": ".r",
   "mimetype": "text/x-r-source",
   "name": "R",
   "pygments_lexer": "r",
   "version": "3.6.1"
  }
 },
 "nbformat": 4,
 "nbformat_minor": 5
}
