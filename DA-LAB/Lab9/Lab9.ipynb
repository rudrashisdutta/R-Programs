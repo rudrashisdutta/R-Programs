{
 "cells": [
  {
   "cell_type": "markdown",
   "id": "203c903c",
   "metadata": {},
   "source": [
    "<h6 align=\"center\" style=\"font-family: oxanium;font-size: 15px;\">1906354 RUDRASHIS KUMAR DUTTA</h6>"
   ]
  },
  {
   "cell_type": "markdown",
   "id": "6286d0fa",
   "metadata": {},
   "source": [
    "<h1 align=\"center\" style=\"font-family: century-gothic,sans-serif;font-size: 50px;\">1906354 DA LAB 9</h1>"
   ]
  },
  {
   "cell_type": "markdown",
   "id": "cede5b90",
   "metadata": {},
   "source": [
    "# 1. Explore any 5 built-in dataset and perform the following for each dataset\n",
    "\n",
    "* Display the summary\n",
    "\n",
    "* Display the structure\n",
    "\n",
    "* Display the first 5 rows\n",
    "\n",
    "* Display the number of rows\n",
    "\n",
    "* Display the number of columns"
   ]
  },
  {
   "cell_type": "code",
   "execution_count": 1,
   "id": "1df98940",
   "metadata": {
    "scrolled": false
   },
   "outputs": [
    {
     "data": {
      "text/plain": [
       "      mpg             cyl             disp             hp       \n",
       " Min.   :10.40   Min.   :4.000   Min.   : 71.1   Min.   : 52.0  \n",
       " 1st Qu.:15.43   1st Qu.:4.000   1st Qu.:120.8   1st Qu.: 96.5  \n",
       " Median :19.20   Median :6.000   Median :196.3   Median :123.0  \n",
       " Mean   :20.09   Mean   :6.188   Mean   :230.7   Mean   :146.7  \n",
       " 3rd Qu.:22.80   3rd Qu.:8.000   3rd Qu.:326.0   3rd Qu.:180.0  \n",
       " Max.   :33.90   Max.   :8.000   Max.   :472.0   Max.   :335.0  \n",
       "      drat             wt             qsec             vs        \n",
       " Min.   :2.760   Min.   :1.513   Min.   :14.50   Min.   :0.0000  \n",
       " 1st Qu.:3.080   1st Qu.:2.581   1st Qu.:16.89   1st Qu.:0.0000  \n",
       " Median :3.695   Median :3.325   Median :17.71   Median :0.0000  \n",
       " Mean   :3.597   Mean   :3.217   Mean   :17.85   Mean   :0.4375  \n",
       " 3rd Qu.:3.920   3rd Qu.:3.610   3rd Qu.:18.90   3rd Qu.:1.0000  \n",
       " Max.   :4.930   Max.   :5.424   Max.   :22.90   Max.   :1.0000  \n",
       "       am              gear            carb      \n",
       " Min.   :0.0000   Min.   :3.000   Min.   :1.000  \n",
       " 1st Qu.:0.0000   1st Qu.:3.000   1st Qu.:2.000  \n",
       " Median :0.0000   Median :4.000   Median :2.000  \n",
       " Mean   :0.4062   Mean   :3.688   Mean   :2.812  \n",
       " 3rd Qu.:1.0000   3rd Qu.:4.000   3rd Qu.:4.000  \n",
       " Max.   :1.0000   Max.   :5.000   Max.   :8.000  "
      ]
     },
     "metadata": {},
     "output_type": "display_data"
    }
   ],
   "source": [
    "summary(mtcars)"
   ]
  },
  {
   "cell_type": "code",
   "execution_count": 2,
   "id": "4af7caff",
   "metadata": {},
   "outputs": [
    {
     "data": {
      "text/html": [
       "<table>\n",
       "<thead><tr><th></th><th scope=col>mpg</th><th scope=col>cyl</th><th scope=col>disp</th><th scope=col>hp</th><th scope=col>drat</th><th scope=col>wt</th><th scope=col>qsec</th><th scope=col>vs</th><th scope=col>am</th><th scope=col>gear</th><th scope=col>carb</th></tr></thead>\n",
       "<tbody>\n",
       "\t<tr><th scope=row>Mazda RX4</th><td>21.0 </td><td>6    </td><td>160.0</td><td>110  </td><td>3.90 </td><td>2.620</td><td>16.46</td><td>0    </td><td>1    </td><td>4    </td><td>4    </td></tr>\n",
       "\t<tr><th scope=row>Mazda RX4 Wag</th><td>21.0 </td><td>6    </td><td>160.0</td><td>110  </td><td>3.90 </td><td>2.875</td><td>17.02</td><td>0    </td><td>1    </td><td>4    </td><td>4    </td></tr>\n",
       "\t<tr><th scope=row>Datsun 710</th><td>22.8 </td><td>4    </td><td>108.0</td><td> 93  </td><td>3.85 </td><td>2.320</td><td>18.61</td><td>1    </td><td>1    </td><td>4    </td><td>1    </td></tr>\n",
       "\t<tr><th scope=row>Hornet 4 Drive</th><td>21.4 </td><td>6    </td><td>258.0</td><td>110  </td><td>3.08 </td><td>3.215</td><td>19.44</td><td>1    </td><td>0    </td><td>3    </td><td>1    </td></tr>\n",
       "\t<tr><th scope=row>Hornet Sportabout</th><td>18.7 </td><td>8    </td><td>360.0</td><td>175  </td><td>3.15 </td><td>3.440</td><td>17.02</td><td>0    </td><td>0    </td><td>3    </td><td>2    </td></tr>\n",
       "\t<tr><th scope=row>Valiant</th><td>18.1 </td><td>6    </td><td>225.0</td><td>105  </td><td>2.76 </td><td>3.460</td><td>20.22</td><td>1    </td><td>0    </td><td>3    </td><td>1    </td></tr>\n",
       "\t<tr><th scope=row>Duster 360</th><td>14.3 </td><td>8    </td><td>360.0</td><td>245  </td><td>3.21 </td><td>3.570</td><td>15.84</td><td>0    </td><td>0    </td><td>3    </td><td>4    </td></tr>\n",
       "\t<tr><th scope=row>Merc 240D</th><td>24.4 </td><td>4    </td><td>146.7</td><td> 62  </td><td>3.69 </td><td>3.190</td><td>20.00</td><td>1    </td><td>0    </td><td>4    </td><td>2    </td></tr>\n",
       "\t<tr><th scope=row>Merc 230</th><td>22.8 </td><td>4    </td><td>140.8</td><td> 95  </td><td>3.92 </td><td>3.150</td><td>22.90</td><td>1    </td><td>0    </td><td>4    </td><td>2    </td></tr>\n",
       "\t<tr><th scope=row>Merc 280</th><td>19.2 </td><td>6    </td><td>167.6</td><td>123  </td><td>3.92 </td><td>3.440</td><td>18.30</td><td>1    </td><td>0    </td><td>4    </td><td>4    </td></tr>\n",
       "\t<tr><th scope=row>Merc 280C</th><td>17.8 </td><td>6    </td><td>167.6</td><td>123  </td><td>3.92 </td><td>3.440</td><td>18.90</td><td>1    </td><td>0    </td><td>4    </td><td>4    </td></tr>\n",
       "\t<tr><th scope=row>Merc 450SE</th><td>16.4 </td><td>8    </td><td>275.8</td><td>180  </td><td>3.07 </td><td>4.070</td><td>17.40</td><td>0    </td><td>0    </td><td>3    </td><td>3    </td></tr>\n",
       "\t<tr><th scope=row>Merc 450SL</th><td>17.3 </td><td>8    </td><td>275.8</td><td>180  </td><td>3.07 </td><td>3.730</td><td>17.60</td><td>0    </td><td>0    </td><td>3    </td><td>3    </td></tr>\n",
       "\t<tr><th scope=row>Merc 450SLC</th><td>15.2 </td><td>8    </td><td>275.8</td><td>180  </td><td>3.07 </td><td>3.780</td><td>18.00</td><td>0    </td><td>0    </td><td>3    </td><td>3    </td></tr>\n",
       "\t<tr><th scope=row>Cadillac Fleetwood</th><td>10.4 </td><td>8    </td><td>472.0</td><td>205  </td><td>2.93 </td><td>5.250</td><td>17.98</td><td>0    </td><td>0    </td><td>3    </td><td>4    </td></tr>\n",
       "\t<tr><th scope=row>Lincoln Continental</th><td>10.4 </td><td>8    </td><td>460.0</td><td>215  </td><td>3.00 </td><td>5.424</td><td>17.82</td><td>0    </td><td>0    </td><td>3    </td><td>4    </td></tr>\n",
       "\t<tr><th scope=row>Chrysler Imperial</th><td>14.7 </td><td>8    </td><td>440.0</td><td>230  </td><td>3.23 </td><td>5.345</td><td>17.42</td><td>0    </td><td>0    </td><td>3    </td><td>4    </td></tr>\n",
       "\t<tr><th scope=row>Fiat 128</th><td>32.4 </td><td>4    </td><td> 78.7</td><td> 66  </td><td>4.08 </td><td>2.200</td><td>19.47</td><td>1    </td><td>1    </td><td>4    </td><td>1    </td></tr>\n",
       "\t<tr><th scope=row>Honda Civic</th><td>30.4 </td><td>4    </td><td> 75.7</td><td> 52  </td><td>4.93 </td><td>1.615</td><td>18.52</td><td>1    </td><td>1    </td><td>4    </td><td>2    </td></tr>\n",
       "\t<tr><th scope=row>Toyota Corolla</th><td>33.9 </td><td>4    </td><td> 71.1</td><td> 65  </td><td>4.22 </td><td>1.835</td><td>19.90</td><td>1    </td><td>1    </td><td>4    </td><td>1    </td></tr>\n",
       "\t<tr><th scope=row>Toyota Corona</th><td>21.5 </td><td>4    </td><td>120.1</td><td> 97  </td><td>3.70 </td><td>2.465</td><td>20.01</td><td>1    </td><td>0    </td><td>3    </td><td>1    </td></tr>\n",
       "\t<tr><th scope=row>Dodge Challenger</th><td>15.5 </td><td>8    </td><td>318.0</td><td>150  </td><td>2.76 </td><td>3.520</td><td>16.87</td><td>0    </td><td>0    </td><td>3    </td><td>2    </td></tr>\n",
       "\t<tr><th scope=row>AMC Javelin</th><td>15.2 </td><td>8    </td><td>304.0</td><td>150  </td><td>3.15 </td><td>3.435</td><td>17.30</td><td>0    </td><td>0    </td><td>3    </td><td>2    </td></tr>\n",
       "\t<tr><th scope=row>Camaro Z28</th><td>13.3 </td><td>8    </td><td>350.0</td><td>245  </td><td>3.73 </td><td>3.840</td><td>15.41</td><td>0    </td><td>0    </td><td>3    </td><td>4    </td></tr>\n",
       "\t<tr><th scope=row>Pontiac Firebird</th><td>19.2 </td><td>8    </td><td>400.0</td><td>175  </td><td>3.08 </td><td>3.845</td><td>17.05</td><td>0    </td><td>0    </td><td>3    </td><td>2    </td></tr>\n",
       "\t<tr><th scope=row>Fiat X1-9</th><td>27.3 </td><td>4    </td><td> 79.0</td><td> 66  </td><td>4.08 </td><td>1.935</td><td>18.90</td><td>1    </td><td>1    </td><td>4    </td><td>1    </td></tr>\n",
       "\t<tr><th scope=row>Porsche 914-2</th><td>26.0 </td><td>4    </td><td>120.3</td><td> 91  </td><td>4.43 </td><td>2.140</td><td>16.70</td><td>0    </td><td>1    </td><td>5    </td><td>2    </td></tr>\n",
       "\t<tr><th scope=row>Lotus Europa</th><td>30.4 </td><td>4    </td><td> 95.1</td><td>113  </td><td>3.77 </td><td>1.513</td><td>16.90</td><td>1    </td><td>1    </td><td>5    </td><td>2    </td></tr>\n",
       "\t<tr><th scope=row>Ford Pantera L</th><td>15.8 </td><td>8    </td><td>351.0</td><td>264  </td><td>4.22 </td><td>3.170</td><td>14.50</td><td>0    </td><td>1    </td><td>5    </td><td>4    </td></tr>\n",
       "\t<tr><th scope=row>Ferrari Dino</th><td>19.7 </td><td>6    </td><td>145.0</td><td>175  </td><td>3.62 </td><td>2.770</td><td>15.50</td><td>0    </td><td>1    </td><td>5    </td><td>6    </td></tr>\n",
       "\t<tr><th scope=row>Maserati Bora</th><td>15.0 </td><td>8    </td><td>301.0</td><td>335  </td><td>3.54 </td><td>3.570</td><td>14.60</td><td>0    </td><td>1    </td><td>5    </td><td>8    </td></tr>\n",
       "\t<tr><th scope=row>Volvo 142E</th><td>21.4 </td><td>4    </td><td>121.0</td><td>109  </td><td>4.11 </td><td>2.780</td><td>18.60</td><td>1    </td><td>1    </td><td>4    </td><td>2    </td></tr>\n",
       "</tbody>\n",
       "</table>\n"
      ],
      "text/latex": [
       "\\begin{tabular}{r|lllllllllll}\n",
       "  & mpg & cyl & disp & hp & drat & wt & qsec & vs & am & gear & carb\\\\\n",
       "\\hline\n",
       "\tMazda RX4 & 21.0  & 6     & 160.0 & 110   & 3.90  & 2.620 & 16.46 & 0     & 1     & 4     & 4    \\\\\n",
       "\tMazda RX4 Wag & 21.0  & 6     & 160.0 & 110   & 3.90  & 2.875 & 17.02 & 0     & 1     & 4     & 4    \\\\\n",
       "\tDatsun 710 & 22.8  & 4     & 108.0 &  93   & 3.85  & 2.320 & 18.61 & 1     & 1     & 4     & 1    \\\\\n",
       "\tHornet 4 Drive & 21.4  & 6     & 258.0 & 110   & 3.08  & 3.215 & 19.44 & 1     & 0     & 3     & 1    \\\\\n",
       "\tHornet Sportabout & 18.7  & 8     & 360.0 & 175   & 3.15  & 3.440 & 17.02 & 0     & 0     & 3     & 2    \\\\\n",
       "\tValiant & 18.1  & 6     & 225.0 & 105   & 2.76  & 3.460 & 20.22 & 1     & 0     & 3     & 1    \\\\\n",
       "\tDuster 360 & 14.3  & 8     & 360.0 & 245   & 3.21  & 3.570 & 15.84 & 0     & 0     & 3     & 4    \\\\\n",
       "\tMerc 240D & 24.4  & 4     & 146.7 &  62   & 3.69  & 3.190 & 20.00 & 1     & 0     & 4     & 2    \\\\\n",
       "\tMerc 230 & 22.8  & 4     & 140.8 &  95   & 3.92  & 3.150 & 22.90 & 1     & 0     & 4     & 2    \\\\\n",
       "\tMerc 280 & 19.2  & 6     & 167.6 & 123   & 3.92  & 3.440 & 18.30 & 1     & 0     & 4     & 4    \\\\\n",
       "\tMerc 280C & 17.8  & 6     & 167.6 & 123   & 3.92  & 3.440 & 18.90 & 1     & 0     & 4     & 4    \\\\\n",
       "\tMerc 450SE & 16.4  & 8     & 275.8 & 180   & 3.07  & 4.070 & 17.40 & 0     & 0     & 3     & 3    \\\\\n",
       "\tMerc 450SL & 17.3  & 8     & 275.8 & 180   & 3.07  & 3.730 & 17.60 & 0     & 0     & 3     & 3    \\\\\n",
       "\tMerc 450SLC & 15.2  & 8     & 275.8 & 180   & 3.07  & 3.780 & 18.00 & 0     & 0     & 3     & 3    \\\\\n",
       "\tCadillac Fleetwood & 10.4  & 8     & 472.0 & 205   & 2.93  & 5.250 & 17.98 & 0     & 0     & 3     & 4    \\\\\n",
       "\tLincoln Continental & 10.4  & 8     & 460.0 & 215   & 3.00  & 5.424 & 17.82 & 0     & 0     & 3     & 4    \\\\\n",
       "\tChrysler Imperial & 14.7  & 8     & 440.0 & 230   & 3.23  & 5.345 & 17.42 & 0     & 0     & 3     & 4    \\\\\n",
       "\tFiat 128 & 32.4  & 4     &  78.7 &  66   & 4.08  & 2.200 & 19.47 & 1     & 1     & 4     & 1    \\\\\n",
       "\tHonda Civic & 30.4  & 4     &  75.7 &  52   & 4.93  & 1.615 & 18.52 & 1     & 1     & 4     & 2    \\\\\n",
       "\tToyota Corolla & 33.9  & 4     &  71.1 &  65   & 4.22  & 1.835 & 19.90 & 1     & 1     & 4     & 1    \\\\\n",
       "\tToyota Corona & 21.5  & 4     & 120.1 &  97   & 3.70  & 2.465 & 20.01 & 1     & 0     & 3     & 1    \\\\\n",
       "\tDodge Challenger & 15.5  & 8     & 318.0 & 150   & 2.76  & 3.520 & 16.87 & 0     & 0     & 3     & 2    \\\\\n",
       "\tAMC Javelin & 15.2  & 8     & 304.0 & 150   & 3.15  & 3.435 & 17.30 & 0     & 0     & 3     & 2    \\\\\n",
       "\tCamaro Z28 & 13.3  & 8     & 350.0 & 245   & 3.73  & 3.840 & 15.41 & 0     & 0     & 3     & 4    \\\\\n",
       "\tPontiac Firebird & 19.2  & 8     & 400.0 & 175   & 3.08  & 3.845 & 17.05 & 0     & 0     & 3     & 2    \\\\\n",
       "\tFiat X1-9 & 27.3  & 4     &  79.0 &  66   & 4.08  & 1.935 & 18.90 & 1     & 1     & 4     & 1    \\\\\n",
       "\tPorsche 914-2 & 26.0  & 4     & 120.3 &  91   & 4.43  & 2.140 & 16.70 & 0     & 1     & 5     & 2    \\\\\n",
       "\tLotus Europa & 30.4  & 4     &  95.1 & 113   & 3.77  & 1.513 & 16.90 & 1     & 1     & 5     & 2    \\\\\n",
       "\tFord Pantera L & 15.8  & 8     & 351.0 & 264   & 4.22  & 3.170 & 14.50 & 0     & 1     & 5     & 4    \\\\\n",
       "\tFerrari Dino & 19.7  & 6     & 145.0 & 175   & 3.62  & 2.770 & 15.50 & 0     & 1     & 5     & 6    \\\\\n",
       "\tMaserati Bora & 15.0  & 8     & 301.0 & 335   & 3.54  & 3.570 & 14.60 & 0     & 1     & 5     & 8    \\\\\n",
       "\tVolvo 142E & 21.4  & 4     & 121.0 & 109   & 4.11  & 2.780 & 18.60 & 1     & 1     & 4     & 2    \\\\\n",
       "\\end{tabular}\n"
      ],
      "text/markdown": [
       "\n",
       "| <!--/--> | mpg | cyl | disp | hp | drat | wt | qsec | vs | am | gear | carb |\n",
       "|---|---|---|---|---|---|---|---|---|---|---|---|\n",
       "| Mazda RX4 | 21.0  | 6     | 160.0 | 110   | 3.90  | 2.620 | 16.46 | 0     | 1     | 4     | 4     |\n",
       "| Mazda RX4 Wag | 21.0  | 6     | 160.0 | 110   | 3.90  | 2.875 | 17.02 | 0     | 1     | 4     | 4     |\n",
       "| Datsun 710 | 22.8  | 4     | 108.0 |  93   | 3.85  | 2.320 | 18.61 | 1     | 1     | 4     | 1     |\n",
       "| Hornet 4 Drive | 21.4  | 6     | 258.0 | 110   | 3.08  | 3.215 | 19.44 | 1     | 0     | 3     | 1     |\n",
       "| Hornet Sportabout | 18.7  | 8     | 360.0 | 175   | 3.15  | 3.440 | 17.02 | 0     | 0     | 3     | 2     |\n",
       "| Valiant | 18.1  | 6     | 225.0 | 105   | 2.76  | 3.460 | 20.22 | 1     | 0     | 3     | 1     |\n",
       "| Duster 360 | 14.3  | 8     | 360.0 | 245   | 3.21  | 3.570 | 15.84 | 0     | 0     | 3     | 4     |\n",
       "| Merc 240D | 24.4  | 4     | 146.7 |  62   | 3.69  | 3.190 | 20.00 | 1     | 0     | 4     | 2     |\n",
       "| Merc 230 | 22.8  | 4     | 140.8 |  95   | 3.92  | 3.150 | 22.90 | 1     | 0     | 4     | 2     |\n",
       "| Merc 280 | 19.2  | 6     | 167.6 | 123   | 3.92  | 3.440 | 18.30 | 1     | 0     | 4     | 4     |\n",
       "| Merc 280C | 17.8  | 6     | 167.6 | 123   | 3.92  | 3.440 | 18.90 | 1     | 0     | 4     | 4     |\n",
       "| Merc 450SE | 16.4  | 8     | 275.8 | 180   | 3.07  | 4.070 | 17.40 | 0     | 0     | 3     | 3     |\n",
       "| Merc 450SL | 17.3  | 8     | 275.8 | 180   | 3.07  | 3.730 | 17.60 | 0     | 0     | 3     | 3     |\n",
       "| Merc 450SLC | 15.2  | 8     | 275.8 | 180   | 3.07  | 3.780 | 18.00 | 0     | 0     | 3     | 3     |\n",
       "| Cadillac Fleetwood | 10.4  | 8     | 472.0 | 205   | 2.93  | 5.250 | 17.98 | 0     | 0     | 3     | 4     |\n",
       "| Lincoln Continental | 10.4  | 8     | 460.0 | 215   | 3.00  | 5.424 | 17.82 | 0     | 0     | 3     | 4     |\n",
       "| Chrysler Imperial | 14.7  | 8     | 440.0 | 230   | 3.23  | 5.345 | 17.42 | 0     | 0     | 3     | 4     |\n",
       "| Fiat 128 | 32.4  | 4     |  78.7 |  66   | 4.08  | 2.200 | 19.47 | 1     | 1     | 4     | 1     |\n",
       "| Honda Civic | 30.4  | 4     |  75.7 |  52   | 4.93  | 1.615 | 18.52 | 1     | 1     | 4     | 2     |\n",
       "| Toyota Corolla | 33.9  | 4     |  71.1 |  65   | 4.22  | 1.835 | 19.90 | 1     | 1     | 4     | 1     |\n",
       "| Toyota Corona | 21.5  | 4     | 120.1 |  97   | 3.70  | 2.465 | 20.01 | 1     | 0     | 3     | 1     |\n",
       "| Dodge Challenger | 15.5  | 8     | 318.0 | 150   | 2.76  | 3.520 | 16.87 | 0     | 0     | 3     | 2     |\n",
       "| AMC Javelin | 15.2  | 8     | 304.0 | 150   | 3.15  | 3.435 | 17.30 | 0     | 0     | 3     | 2     |\n",
       "| Camaro Z28 | 13.3  | 8     | 350.0 | 245   | 3.73  | 3.840 | 15.41 | 0     | 0     | 3     | 4     |\n",
       "| Pontiac Firebird | 19.2  | 8     | 400.0 | 175   | 3.08  | 3.845 | 17.05 | 0     | 0     | 3     | 2     |\n",
       "| Fiat X1-9 | 27.3  | 4     |  79.0 |  66   | 4.08  | 1.935 | 18.90 | 1     | 1     | 4     | 1     |\n",
       "| Porsche 914-2 | 26.0  | 4     | 120.3 |  91   | 4.43  | 2.140 | 16.70 | 0     | 1     | 5     | 2     |\n",
       "| Lotus Europa | 30.4  | 4     |  95.1 | 113   | 3.77  | 1.513 | 16.90 | 1     | 1     | 5     | 2     |\n",
       "| Ford Pantera L | 15.8  | 8     | 351.0 | 264   | 4.22  | 3.170 | 14.50 | 0     | 1     | 5     | 4     |\n",
       "| Ferrari Dino | 19.7  | 6     | 145.0 | 175   | 3.62  | 2.770 | 15.50 | 0     | 1     | 5     | 6     |\n",
       "| Maserati Bora | 15.0  | 8     | 301.0 | 335   | 3.54  | 3.570 | 14.60 | 0     | 1     | 5     | 8     |\n",
       "| Volvo 142E | 21.4  | 4     | 121.0 | 109   | 4.11  | 2.780 | 18.60 | 1     | 1     | 4     | 2     |\n",
       "\n"
      ],
      "text/plain": [
       "                    mpg  cyl disp  hp  drat wt    qsec  vs am gear carb\n",
       "Mazda RX4           21.0 6   160.0 110 3.90 2.620 16.46 0  1  4    4   \n",
       "Mazda RX4 Wag       21.0 6   160.0 110 3.90 2.875 17.02 0  1  4    4   \n",
       "Datsun 710          22.8 4   108.0  93 3.85 2.320 18.61 1  1  4    1   \n",
       "Hornet 4 Drive      21.4 6   258.0 110 3.08 3.215 19.44 1  0  3    1   \n",
       "Hornet Sportabout   18.7 8   360.0 175 3.15 3.440 17.02 0  0  3    2   \n",
       "Valiant             18.1 6   225.0 105 2.76 3.460 20.22 1  0  3    1   \n",
       "Duster 360          14.3 8   360.0 245 3.21 3.570 15.84 0  0  3    4   \n",
       "Merc 240D           24.4 4   146.7  62 3.69 3.190 20.00 1  0  4    2   \n",
       "Merc 230            22.8 4   140.8  95 3.92 3.150 22.90 1  0  4    2   \n",
       "Merc 280            19.2 6   167.6 123 3.92 3.440 18.30 1  0  4    4   \n",
       "Merc 280C           17.8 6   167.6 123 3.92 3.440 18.90 1  0  4    4   \n",
       "Merc 450SE          16.4 8   275.8 180 3.07 4.070 17.40 0  0  3    3   \n",
       "Merc 450SL          17.3 8   275.8 180 3.07 3.730 17.60 0  0  3    3   \n",
       "Merc 450SLC         15.2 8   275.8 180 3.07 3.780 18.00 0  0  3    3   \n",
       "Cadillac Fleetwood  10.4 8   472.0 205 2.93 5.250 17.98 0  0  3    4   \n",
       "Lincoln Continental 10.4 8   460.0 215 3.00 5.424 17.82 0  0  3    4   \n",
       "Chrysler Imperial   14.7 8   440.0 230 3.23 5.345 17.42 0  0  3    4   \n",
       "Fiat 128            32.4 4    78.7  66 4.08 2.200 19.47 1  1  4    1   \n",
       "Honda Civic         30.4 4    75.7  52 4.93 1.615 18.52 1  1  4    2   \n",
       "Toyota Corolla      33.9 4    71.1  65 4.22 1.835 19.90 1  1  4    1   \n",
       "Toyota Corona       21.5 4   120.1  97 3.70 2.465 20.01 1  0  3    1   \n",
       "Dodge Challenger    15.5 8   318.0 150 2.76 3.520 16.87 0  0  3    2   \n",
       "AMC Javelin         15.2 8   304.0 150 3.15 3.435 17.30 0  0  3    2   \n",
       "Camaro Z28          13.3 8   350.0 245 3.73 3.840 15.41 0  0  3    4   \n",
       "Pontiac Firebird    19.2 8   400.0 175 3.08 3.845 17.05 0  0  3    2   \n",
       "Fiat X1-9           27.3 4    79.0  66 4.08 1.935 18.90 1  1  4    1   \n",
       "Porsche 914-2       26.0 4   120.3  91 4.43 2.140 16.70 0  1  5    2   \n",
       "Lotus Europa        30.4 4    95.1 113 3.77 1.513 16.90 1  1  5    2   \n",
       "Ford Pantera L      15.8 8   351.0 264 4.22 3.170 14.50 0  1  5    4   \n",
       "Ferrari Dino        19.7 6   145.0 175 3.62 2.770 15.50 0  1  5    6   \n",
       "Maserati Bora       15.0 8   301.0 335 3.54 3.570 14.60 0  1  5    8   \n",
       "Volvo 142E          21.4 4   121.0 109 4.11 2.780 18.60 1  1  4    2   "
      ]
     },
     "metadata": {},
     "output_type": "display_data"
    }
   ],
   "source": [
    "structure(mtcars)"
   ]
  },
  {
   "cell_type": "code",
   "execution_count": 3,
   "id": "e5776075",
   "metadata": {},
   "outputs": [
    {
     "data": {
      "text/html": [
       "<table>\n",
       "<thead><tr><th></th><th scope=col>mpg</th><th scope=col>cyl</th><th scope=col>disp</th><th scope=col>hp</th><th scope=col>drat</th><th scope=col>wt</th><th scope=col>qsec</th><th scope=col>vs</th><th scope=col>am</th><th scope=col>gear</th><th scope=col>carb</th></tr></thead>\n",
       "<tbody>\n",
       "\t<tr><th scope=row>Mazda RX4</th><td>21.0 </td><td>6    </td><td>160  </td><td>110  </td><td>3.90 </td><td>2.620</td><td>16.46</td><td>0    </td><td>1    </td><td>4    </td><td>4    </td></tr>\n",
       "\t<tr><th scope=row>Mazda RX4 Wag</th><td>21.0 </td><td>6    </td><td>160  </td><td>110  </td><td>3.90 </td><td>2.875</td><td>17.02</td><td>0    </td><td>1    </td><td>4    </td><td>4    </td></tr>\n",
       "\t<tr><th scope=row>Datsun 710</th><td>22.8 </td><td>4    </td><td>108  </td><td> 93  </td><td>3.85 </td><td>2.320</td><td>18.61</td><td>1    </td><td>1    </td><td>4    </td><td>1    </td></tr>\n",
       "\t<tr><th scope=row>Hornet 4 Drive</th><td>21.4 </td><td>6    </td><td>258  </td><td>110  </td><td>3.08 </td><td>3.215</td><td>19.44</td><td>1    </td><td>0    </td><td>3    </td><td>1    </td></tr>\n",
       "\t<tr><th scope=row>Hornet Sportabout</th><td>18.7 </td><td>8    </td><td>360  </td><td>175  </td><td>3.15 </td><td>3.440</td><td>17.02</td><td>0    </td><td>0    </td><td>3    </td><td>2    </td></tr>\n",
       "\t<tr><th scope=row>Valiant</th><td>18.1 </td><td>6    </td><td>225  </td><td>105  </td><td>2.76 </td><td>3.460</td><td>20.22</td><td>1    </td><td>0    </td><td>3    </td><td>1    </td></tr>\n",
       "</tbody>\n",
       "</table>\n"
      ],
      "text/latex": [
       "\\begin{tabular}{r|lllllllllll}\n",
       "  & mpg & cyl & disp & hp & drat & wt & qsec & vs & am & gear & carb\\\\\n",
       "\\hline\n",
       "\tMazda RX4 & 21.0  & 6     & 160   & 110   & 3.90  & 2.620 & 16.46 & 0     & 1     & 4     & 4    \\\\\n",
       "\tMazda RX4 Wag & 21.0  & 6     & 160   & 110   & 3.90  & 2.875 & 17.02 & 0     & 1     & 4     & 4    \\\\\n",
       "\tDatsun 710 & 22.8  & 4     & 108   &  93   & 3.85  & 2.320 & 18.61 & 1     & 1     & 4     & 1    \\\\\n",
       "\tHornet 4 Drive & 21.4  & 6     & 258   & 110   & 3.08  & 3.215 & 19.44 & 1     & 0     & 3     & 1    \\\\\n",
       "\tHornet Sportabout & 18.7  & 8     & 360   & 175   & 3.15  & 3.440 & 17.02 & 0     & 0     & 3     & 2    \\\\\n",
       "\tValiant & 18.1  & 6     & 225   & 105   & 2.76  & 3.460 & 20.22 & 1     & 0     & 3     & 1    \\\\\n",
       "\\end{tabular}\n"
      ],
      "text/markdown": [
       "\n",
       "| <!--/--> | mpg | cyl | disp | hp | drat | wt | qsec | vs | am | gear | carb |\n",
       "|---|---|---|---|---|---|---|---|---|---|---|---|\n",
       "| Mazda RX4 | 21.0  | 6     | 160   | 110   | 3.90  | 2.620 | 16.46 | 0     | 1     | 4     | 4     |\n",
       "| Mazda RX4 Wag | 21.0  | 6     | 160   | 110   | 3.90  | 2.875 | 17.02 | 0     | 1     | 4     | 4     |\n",
       "| Datsun 710 | 22.8  | 4     | 108   |  93   | 3.85  | 2.320 | 18.61 | 1     | 1     | 4     | 1     |\n",
       "| Hornet 4 Drive | 21.4  | 6     | 258   | 110   | 3.08  | 3.215 | 19.44 | 1     | 0     | 3     | 1     |\n",
       "| Hornet Sportabout | 18.7  | 8     | 360   | 175   | 3.15  | 3.440 | 17.02 | 0     | 0     | 3     | 2     |\n",
       "| Valiant | 18.1  | 6     | 225   | 105   | 2.76  | 3.460 | 20.22 | 1     | 0     | 3     | 1     |\n",
       "\n"
      ],
      "text/plain": [
       "                  mpg  cyl disp hp  drat wt    qsec  vs am gear carb\n",
       "Mazda RX4         21.0 6   160  110 3.90 2.620 16.46 0  1  4    4   \n",
       "Mazda RX4 Wag     21.0 6   160  110 3.90 2.875 17.02 0  1  4    4   \n",
       "Datsun 710        22.8 4   108   93 3.85 2.320 18.61 1  1  4    1   \n",
       "Hornet 4 Drive    21.4 6   258  110 3.08 3.215 19.44 1  0  3    1   \n",
       "Hornet Sportabout 18.7 8   360  175 3.15 3.440 17.02 0  0  3    2   \n",
       "Valiant           18.1 6   225  105 2.76 3.460 20.22 1  0  3    1   "
      ]
     },
     "metadata": {},
     "output_type": "display_data"
    }
   ],
   "source": [
    "head(mtcars)"
   ]
  },
  {
   "cell_type": "code",
   "execution_count": 4,
   "id": "09a9213c",
   "metadata": {},
   "outputs": [
    {
     "data": {
      "text/html": [
       "32"
      ],
      "text/latex": [
       "32"
      ],
      "text/markdown": [
       "32"
      ],
      "text/plain": [
       "[1] 32"
      ]
     },
     "metadata": {},
     "output_type": "display_data"
    }
   ],
   "source": [
    "nrow(mtcars)"
   ]
  },
  {
   "cell_type": "code",
   "execution_count": 5,
   "id": "001ca111",
   "metadata": {},
   "outputs": [
    {
     "data": {
      "text/html": [
       "11"
      ],
      "text/latex": [
       "11"
      ],
      "text/markdown": [
       "11"
      ],
      "text/plain": [
       "[1] 11"
      ]
     },
     "metadata": {},
     "output_type": "display_data"
    }
   ],
   "source": [
    "ncol(mtcars)"
   ]
  },
  {
   "cell_type": "code",
   "execution_count": 6,
   "id": "ccc9a7fb",
   "metadata": {},
   "outputs": [
    {
     "data": {
      "text/plain": [
       "  Sepal.Length    Sepal.Width     Petal.Length    Petal.Width   \n",
       " Min.   :4.300   Min.   :2.000   Min.   :1.000   Min.   :0.100  \n",
       " 1st Qu.:5.100   1st Qu.:2.800   1st Qu.:1.600   1st Qu.:0.300  \n",
       " Median :5.800   Median :3.000   Median :4.350   Median :1.300  \n",
       " Mean   :5.843   Mean   :3.057   Mean   :3.758   Mean   :1.199  \n",
       " 3rd Qu.:6.400   3rd Qu.:3.300   3rd Qu.:5.100   3rd Qu.:1.800  \n",
       " Max.   :7.900   Max.   :4.400   Max.   :6.900   Max.   :2.500  \n",
       "       Species  \n",
       " setosa    :50  \n",
       " versicolor:50  \n",
       " virginica :50  \n",
       "                \n",
       "                \n",
       "                "
      ]
     },
     "metadata": {},
     "output_type": "display_data"
    }
   ],
   "source": [
    "summary(iris)"
   ]
  },
  {
   "cell_type": "code",
   "execution_count": 7,
   "id": "a8ad5bf4",
   "metadata": {},
   "outputs": [
    {
     "data": {
      "text/html": [
       "<table>\n",
       "<thead><tr><th scope=col>Sepal.Length</th><th scope=col>Sepal.Width</th><th scope=col>Petal.Length</th><th scope=col>Petal.Width</th><th scope=col>Species</th></tr></thead>\n",
       "<tbody>\n",
       "\t<tr><td>5.1   </td><td>3.5   </td><td>1.4   </td><td>0.2   </td><td>setosa</td></tr>\n",
       "\t<tr><td>4.9   </td><td>3.0   </td><td>1.4   </td><td>0.2   </td><td>setosa</td></tr>\n",
       "\t<tr><td>4.7   </td><td>3.2   </td><td>1.3   </td><td>0.2   </td><td>setosa</td></tr>\n",
       "\t<tr><td>4.6   </td><td>3.1   </td><td>1.5   </td><td>0.2   </td><td>setosa</td></tr>\n",
       "\t<tr><td>5.0   </td><td>3.6   </td><td>1.4   </td><td>0.2   </td><td>setosa</td></tr>\n",
       "\t<tr><td>5.4   </td><td>3.9   </td><td>1.7   </td><td>0.4   </td><td>setosa</td></tr>\n",
       "\t<tr><td>4.6   </td><td>3.4   </td><td>1.4   </td><td>0.3   </td><td>setosa</td></tr>\n",
       "\t<tr><td>5.0   </td><td>3.4   </td><td>1.5   </td><td>0.2   </td><td>setosa</td></tr>\n",
       "\t<tr><td>4.4   </td><td>2.9   </td><td>1.4   </td><td>0.2   </td><td>setosa</td></tr>\n",
       "\t<tr><td>4.9   </td><td>3.1   </td><td>1.5   </td><td>0.1   </td><td>setosa</td></tr>\n",
       "\t<tr><td>5.4   </td><td>3.7   </td><td>1.5   </td><td>0.2   </td><td>setosa</td></tr>\n",
       "\t<tr><td>4.8   </td><td>3.4   </td><td>1.6   </td><td>0.2   </td><td>setosa</td></tr>\n",
       "\t<tr><td>4.8   </td><td>3.0   </td><td>1.4   </td><td>0.1   </td><td>setosa</td></tr>\n",
       "\t<tr><td>4.3   </td><td>3.0   </td><td>1.1   </td><td>0.1   </td><td>setosa</td></tr>\n",
       "\t<tr><td>5.8   </td><td>4.0   </td><td>1.2   </td><td>0.2   </td><td>setosa</td></tr>\n",
       "\t<tr><td>5.7   </td><td>4.4   </td><td>1.5   </td><td>0.4   </td><td>setosa</td></tr>\n",
       "\t<tr><td>5.4   </td><td>3.9   </td><td>1.3   </td><td>0.4   </td><td>setosa</td></tr>\n",
       "\t<tr><td>5.1   </td><td>3.5   </td><td>1.4   </td><td>0.3   </td><td>setosa</td></tr>\n",
       "\t<tr><td>5.7   </td><td>3.8   </td><td>1.7   </td><td>0.3   </td><td>setosa</td></tr>\n",
       "\t<tr><td>5.1   </td><td>3.8   </td><td>1.5   </td><td>0.3   </td><td>setosa</td></tr>\n",
       "\t<tr><td>5.4   </td><td>3.4   </td><td>1.7   </td><td>0.2   </td><td>setosa</td></tr>\n",
       "\t<tr><td>5.1   </td><td>3.7   </td><td>1.5   </td><td>0.4   </td><td>setosa</td></tr>\n",
       "\t<tr><td>4.6   </td><td>3.6   </td><td>1.0   </td><td>0.2   </td><td>setosa</td></tr>\n",
       "\t<tr><td>5.1   </td><td>3.3   </td><td>1.7   </td><td>0.5   </td><td>setosa</td></tr>\n",
       "\t<tr><td>4.8   </td><td>3.4   </td><td>1.9   </td><td>0.2   </td><td>setosa</td></tr>\n",
       "\t<tr><td>5.0   </td><td>3.0   </td><td>1.6   </td><td>0.2   </td><td>setosa</td></tr>\n",
       "\t<tr><td>5.0   </td><td>3.4   </td><td>1.6   </td><td>0.4   </td><td>setosa</td></tr>\n",
       "\t<tr><td>5.2   </td><td>3.5   </td><td>1.5   </td><td>0.2   </td><td>setosa</td></tr>\n",
       "\t<tr><td>5.2   </td><td>3.4   </td><td>1.4   </td><td>0.2   </td><td>setosa</td></tr>\n",
       "\t<tr><td>4.7   </td><td>3.2   </td><td>1.6   </td><td>0.2   </td><td>setosa</td></tr>\n",
       "\t<tr><td>...</td><td>...</td><td>...</td><td>...</td><td>...</td></tr>\n",
       "\t<tr><td>6.9      </td><td>3.2      </td><td>5.7      </td><td>2.3      </td><td>virginica</td></tr>\n",
       "\t<tr><td>5.6      </td><td>2.8      </td><td>4.9      </td><td>2.0      </td><td>virginica</td></tr>\n",
       "\t<tr><td>7.7      </td><td>2.8      </td><td>6.7      </td><td>2.0      </td><td>virginica</td></tr>\n",
       "\t<tr><td>6.3      </td><td>2.7      </td><td>4.9      </td><td>1.8      </td><td>virginica</td></tr>\n",
       "\t<tr><td>6.7      </td><td>3.3      </td><td>5.7      </td><td>2.1      </td><td>virginica</td></tr>\n",
       "\t<tr><td>7.2      </td><td>3.2      </td><td>6.0      </td><td>1.8      </td><td>virginica</td></tr>\n",
       "\t<tr><td>6.2      </td><td>2.8      </td><td>4.8      </td><td>1.8      </td><td>virginica</td></tr>\n",
       "\t<tr><td>6.1      </td><td>3.0      </td><td>4.9      </td><td>1.8      </td><td>virginica</td></tr>\n",
       "\t<tr><td>6.4      </td><td>2.8      </td><td>5.6      </td><td>2.1      </td><td>virginica</td></tr>\n",
       "\t<tr><td>7.2      </td><td>3.0      </td><td>5.8      </td><td>1.6      </td><td>virginica</td></tr>\n",
       "\t<tr><td>7.4      </td><td>2.8      </td><td>6.1      </td><td>1.9      </td><td>virginica</td></tr>\n",
       "\t<tr><td>7.9      </td><td>3.8      </td><td>6.4      </td><td>2.0      </td><td>virginica</td></tr>\n",
       "\t<tr><td>6.4      </td><td>2.8      </td><td>5.6      </td><td>2.2      </td><td>virginica</td></tr>\n",
       "\t<tr><td>6.3      </td><td>2.8      </td><td>5.1      </td><td>1.5      </td><td>virginica</td></tr>\n",
       "\t<tr><td>6.1      </td><td>2.6      </td><td>5.6      </td><td>1.4      </td><td>virginica</td></tr>\n",
       "\t<tr><td>7.7      </td><td>3.0      </td><td>6.1      </td><td>2.3      </td><td>virginica</td></tr>\n",
       "\t<tr><td>6.3      </td><td>3.4      </td><td>5.6      </td><td>2.4      </td><td>virginica</td></tr>\n",
       "\t<tr><td>6.4      </td><td>3.1      </td><td>5.5      </td><td>1.8      </td><td>virginica</td></tr>\n",
       "\t<tr><td>6.0      </td><td>3.0      </td><td>4.8      </td><td>1.8      </td><td>virginica</td></tr>\n",
       "\t<tr><td>6.9      </td><td>3.1      </td><td>5.4      </td><td>2.1      </td><td>virginica</td></tr>\n",
       "\t<tr><td>6.7      </td><td>3.1      </td><td>5.6      </td><td>2.4      </td><td>virginica</td></tr>\n",
       "\t<tr><td>6.9      </td><td>3.1      </td><td>5.1      </td><td>2.3      </td><td>virginica</td></tr>\n",
       "\t<tr><td>5.8      </td><td>2.7      </td><td>5.1      </td><td>1.9      </td><td>virginica</td></tr>\n",
       "\t<tr><td>6.8      </td><td>3.2      </td><td>5.9      </td><td>2.3      </td><td>virginica</td></tr>\n",
       "\t<tr><td>6.7      </td><td>3.3      </td><td>5.7      </td><td>2.5      </td><td>virginica</td></tr>\n",
       "\t<tr><td>6.7      </td><td>3.0      </td><td>5.2      </td><td>2.3      </td><td>virginica</td></tr>\n",
       "\t<tr><td>6.3      </td><td>2.5      </td><td>5.0      </td><td>1.9      </td><td>virginica</td></tr>\n",
       "\t<tr><td>6.5      </td><td>3.0      </td><td>5.2      </td><td>2.0      </td><td>virginica</td></tr>\n",
       "\t<tr><td>6.2      </td><td>3.4      </td><td>5.4      </td><td>2.3      </td><td>virginica</td></tr>\n",
       "\t<tr><td>5.9      </td><td>3.0      </td><td>5.1      </td><td>1.8      </td><td>virginica</td></tr>\n",
       "</tbody>\n",
       "</table>\n"
      ],
      "text/latex": [
       "\\begin{tabular}{r|lllll}\n",
       " Sepal.Length & Sepal.Width & Petal.Length & Petal.Width & Species\\\\\n",
       "\\hline\n",
       "\t 5.1    & 3.5    & 1.4    & 0.2    & setosa\\\\\n",
       "\t 4.9    & 3.0    & 1.4    & 0.2    & setosa\\\\\n",
       "\t 4.7    & 3.2    & 1.3    & 0.2    & setosa\\\\\n",
       "\t 4.6    & 3.1    & 1.5    & 0.2    & setosa\\\\\n",
       "\t 5.0    & 3.6    & 1.4    & 0.2    & setosa\\\\\n",
       "\t 5.4    & 3.9    & 1.7    & 0.4    & setosa\\\\\n",
       "\t 4.6    & 3.4    & 1.4    & 0.3    & setosa\\\\\n",
       "\t 5.0    & 3.4    & 1.5    & 0.2    & setosa\\\\\n",
       "\t 4.4    & 2.9    & 1.4    & 0.2    & setosa\\\\\n",
       "\t 4.9    & 3.1    & 1.5    & 0.1    & setosa\\\\\n",
       "\t 5.4    & 3.7    & 1.5    & 0.2    & setosa\\\\\n",
       "\t 4.8    & 3.4    & 1.6    & 0.2    & setosa\\\\\n",
       "\t 4.8    & 3.0    & 1.4    & 0.1    & setosa\\\\\n",
       "\t 4.3    & 3.0    & 1.1    & 0.1    & setosa\\\\\n",
       "\t 5.8    & 4.0    & 1.2    & 0.2    & setosa\\\\\n",
       "\t 5.7    & 4.4    & 1.5    & 0.4    & setosa\\\\\n",
       "\t 5.4    & 3.9    & 1.3    & 0.4    & setosa\\\\\n",
       "\t 5.1    & 3.5    & 1.4    & 0.3    & setosa\\\\\n",
       "\t 5.7    & 3.8    & 1.7    & 0.3    & setosa\\\\\n",
       "\t 5.1    & 3.8    & 1.5    & 0.3    & setosa\\\\\n",
       "\t 5.4    & 3.4    & 1.7    & 0.2    & setosa\\\\\n",
       "\t 5.1    & 3.7    & 1.5    & 0.4    & setosa\\\\\n",
       "\t 4.6    & 3.6    & 1.0    & 0.2    & setosa\\\\\n",
       "\t 5.1    & 3.3    & 1.7    & 0.5    & setosa\\\\\n",
       "\t 4.8    & 3.4    & 1.9    & 0.2    & setosa\\\\\n",
       "\t 5.0    & 3.0    & 1.6    & 0.2    & setosa\\\\\n",
       "\t 5.0    & 3.4    & 1.6    & 0.4    & setosa\\\\\n",
       "\t 5.2    & 3.5    & 1.5    & 0.2    & setosa\\\\\n",
       "\t 5.2    & 3.4    & 1.4    & 0.2    & setosa\\\\\n",
       "\t 4.7    & 3.2    & 1.6    & 0.2    & setosa\\\\\n",
       "\t ... & ... & ... & ... & ...\\\\\n",
       "\t 6.9       & 3.2       & 5.7       & 2.3       & virginica\\\\\n",
       "\t 5.6       & 2.8       & 4.9       & 2.0       & virginica\\\\\n",
       "\t 7.7       & 2.8       & 6.7       & 2.0       & virginica\\\\\n",
       "\t 6.3       & 2.7       & 4.9       & 1.8       & virginica\\\\\n",
       "\t 6.7       & 3.3       & 5.7       & 2.1       & virginica\\\\\n",
       "\t 7.2       & 3.2       & 6.0       & 1.8       & virginica\\\\\n",
       "\t 6.2       & 2.8       & 4.8       & 1.8       & virginica\\\\\n",
       "\t 6.1       & 3.0       & 4.9       & 1.8       & virginica\\\\\n",
       "\t 6.4       & 2.8       & 5.6       & 2.1       & virginica\\\\\n",
       "\t 7.2       & 3.0       & 5.8       & 1.6       & virginica\\\\\n",
       "\t 7.4       & 2.8       & 6.1       & 1.9       & virginica\\\\\n",
       "\t 7.9       & 3.8       & 6.4       & 2.0       & virginica\\\\\n",
       "\t 6.4       & 2.8       & 5.6       & 2.2       & virginica\\\\\n",
       "\t 6.3       & 2.8       & 5.1       & 1.5       & virginica\\\\\n",
       "\t 6.1       & 2.6       & 5.6       & 1.4       & virginica\\\\\n",
       "\t 7.7       & 3.0       & 6.1       & 2.3       & virginica\\\\\n",
       "\t 6.3       & 3.4       & 5.6       & 2.4       & virginica\\\\\n",
       "\t 6.4       & 3.1       & 5.5       & 1.8       & virginica\\\\\n",
       "\t 6.0       & 3.0       & 4.8       & 1.8       & virginica\\\\\n",
       "\t 6.9       & 3.1       & 5.4       & 2.1       & virginica\\\\\n",
       "\t 6.7       & 3.1       & 5.6       & 2.4       & virginica\\\\\n",
       "\t 6.9       & 3.1       & 5.1       & 2.3       & virginica\\\\\n",
       "\t 5.8       & 2.7       & 5.1       & 1.9       & virginica\\\\\n",
       "\t 6.8       & 3.2       & 5.9       & 2.3       & virginica\\\\\n",
       "\t 6.7       & 3.3       & 5.7       & 2.5       & virginica\\\\\n",
       "\t 6.7       & 3.0       & 5.2       & 2.3       & virginica\\\\\n",
       "\t 6.3       & 2.5       & 5.0       & 1.9       & virginica\\\\\n",
       "\t 6.5       & 3.0       & 5.2       & 2.0       & virginica\\\\\n",
       "\t 6.2       & 3.4       & 5.4       & 2.3       & virginica\\\\\n",
       "\t 5.9       & 3.0       & 5.1       & 1.8       & virginica\\\\\n",
       "\\end{tabular}\n"
      ],
      "text/markdown": [
       "\n",
       "| Sepal.Length | Sepal.Width | Petal.Length | Petal.Width | Species |\n",
       "|---|---|---|---|---|\n",
       "| 5.1    | 3.5    | 1.4    | 0.2    | setosa |\n",
       "| 4.9    | 3.0    | 1.4    | 0.2    | setosa |\n",
       "| 4.7    | 3.2    | 1.3    | 0.2    | setosa |\n",
       "| 4.6    | 3.1    | 1.5    | 0.2    | setosa |\n",
       "| 5.0    | 3.6    | 1.4    | 0.2    | setosa |\n",
       "| 5.4    | 3.9    | 1.7    | 0.4    | setosa |\n",
       "| 4.6    | 3.4    | 1.4    | 0.3    | setosa |\n",
       "| 5.0    | 3.4    | 1.5    | 0.2    | setosa |\n",
       "| 4.4    | 2.9    | 1.4    | 0.2    | setosa |\n",
       "| 4.9    | 3.1    | 1.5    | 0.1    | setosa |\n",
       "| 5.4    | 3.7    | 1.5    | 0.2    | setosa |\n",
       "| 4.8    | 3.4    | 1.6    | 0.2    | setosa |\n",
       "| 4.8    | 3.0    | 1.4    | 0.1    | setosa |\n",
       "| 4.3    | 3.0    | 1.1    | 0.1    | setosa |\n",
       "| 5.8    | 4.0    | 1.2    | 0.2    | setosa |\n",
       "| 5.7    | 4.4    | 1.5    | 0.4    | setosa |\n",
       "| 5.4    | 3.9    | 1.3    | 0.4    | setosa |\n",
       "| 5.1    | 3.5    | 1.4    | 0.3    | setosa |\n",
       "| 5.7    | 3.8    | 1.7    | 0.3    | setosa |\n",
       "| 5.1    | 3.8    | 1.5    | 0.3    | setosa |\n",
       "| 5.4    | 3.4    | 1.7    | 0.2    | setosa |\n",
       "| 5.1    | 3.7    | 1.5    | 0.4    | setosa |\n",
       "| 4.6    | 3.6    | 1.0    | 0.2    | setosa |\n",
       "| 5.1    | 3.3    | 1.7    | 0.5    | setosa |\n",
       "| 4.8    | 3.4    | 1.9    | 0.2    | setosa |\n",
       "| 5.0    | 3.0    | 1.6    | 0.2    | setosa |\n",
       "| 5.0    | 3.4    | 1.6    | 0.4    | setosa |\n",
       "| 5.2    | 3.5    | 1.5    | 0.2    | setosa |\n",
       "| 5.2    | 3.4    | 1.4    | 0.2    | setosa |\n",
       "| 4.7    | 3.2    | 1.6    | 0.2    | setosa |\n",
       "| ... | ... | ... | ... | ... |\n",
       "| 6.9       | 3.2       | 5.7       | 2.3       | virginica |\n",
       "| 5.6       | 2.8       | 4.9       | 2.0       | virginica |\n",
       "| 7.7       | 2.8       | 6.7       | 2.0       | virginica |\n",
       "| 6.3       | 2.7       | 4.9       | 1.8       | virginica |\n",
       "| 6.7       | 3.3       | 5.7       | 2.1       | virginica |\n",
       "| 7.2       | 3.2       | 6.0       | 1.8       | virginica |\n",
       "| 6.2       | 2.8       | 4.8       | 1.8       | virginica |\n",
       "| 6.1       | 3.0       | 4.9       | 1.8       | virginica |\n",
       "| 6.4       | 2.8       | 5.6       | 2.1       | virginica |\n",
       "| 7.2       | 3.0       | 5.8       | 1.6       | virginica |\n",
       "| 7.4       | 2.8       | 6.1       | 1.9       | virginica |\n",
       "| 7.9       | 3.8       | 6.4       | 2.0       | virginica |\n",
       "| 6.4       | 2.8       | 5.6       | 2.2       | virginica |\n",
       "| 6.3       | 2.8       | 5.1       | 1.5       | virginica |\n",
       "| 6.1       | 2.6       | 5.6       | 1.4       | virginica |\n",
       "| 7.7       | 3.0       | 6.1       | 2.3       | virginica |\n",
       "| 6.3       | 3.4       | 5.6       | 2.4       | virginica |\n",
       "| 6.4       | 3.1       | 5.5       | 1.8       | virginica |\n",
       "| 6.0       | 3.0       | 4.8       | 1.8       | virginica |\n",
       "| 6.9       | 3.1       | 5.4       | 2.1       | virginica |\n",
       "| 6.7       | 3.1       | 5.6       | 2.4       | virginica |\n",
       "| 6.9       | 3.1       | 5.1       | 2.3       | virginica |\n",
       "| 5.8       | 2.7       | 5.1       | 1.9       | virginica |\n",
       "| 6.8       | 3.2       | 5.9       | 2.3       | virginica |\n",
       "| 6.7       | 3.3       | 5.7       | 2.5       | virginica |\n",
       "| 6.7       | 3.0       | 5.2       | 2.3       | virginica |\n",
       "| 6.3       | 2.5       | 5.0       | 1.9       | virginica |\n",
       "| 6.5       | 3.0       | 5.2       | 2.0       | virginica |\n",
       "| 6.2       | 3.4       | 5.4       | 2.3       | virginica |\n",
       "| 5.9       | 3.0       | 5.1       | 1.8       | virginica |\n",
       "\n"
      ],
      "text/plain": [
       "    Sepal.Length Sepal.Width Petal.Length Petal.Width Species  \n",
       "1   5.1          3.5         1.4          0.2         setosa   \n",
       "2   4.9          3.0         1.4          0.2         setosa   \n",
       "3   4.7          3.2         1.3          0.2         setosa   \n",
       "4   4.6          3.1         1.5          0.2         setosa   \n",
       "5   5.0          3.6         1.4          0.2         setosa   \n",
       "6   5.4          3.9         1.7          0.4         setosa   \n",
       "7   4.6          3.4         1.4          0.3         setosa   \n",
       "8   5.0          3.4         1.5          0.2         setosa   \n",
       "9   4.4          2.9         1.4          0.2         setosa   \n",
       "10  4.9          3.1         1.5          0.1         setosa   \n",
       "11  5.4          3.7         1.5          0.2         setosa   \n",
       "12  4.8          3.4         1.6          0.2         setosa   \n",
       "13  4.8          3.0         1.4          0.1         setosa   \n",
       "14  4.3          3.0         1.1          0.1         setosa   \n",
       "15  5.8          4.0         1.2          0.2         setosa   \n",
       "16  5.7          4.4         1.5          0.4         setosa   \n",
       "17  5.4          3.9         1.3          0.4         setosa   \n",
       "18  5.1          3.5         1.4          0.3         setosa   \n",
       "19  5.7          3.8         1.7          0.3         setosa   \n",
       "20  5.1          3.8         1.5          0.3         setosa   \n",
       "21  5.4          3.4         1.7          0.2         setosa   \n",
       "22  5.1          3.7         1.5          0.4         setosa   \n",
       "23  4.6          3.6         1.0          0.2         setosa   \n",
       "24  5.1          3.3         1.7          0.5         setosa   \n",
       "25  4.8          3.4         1.9          0.2         setosa   \n",
       "26  5.0          3.0         1.6          0.2         setosa   \n",
       "27  5.0          3.4         1.6          0.4         setosa   \n",
       "28  5.2          3.5         1.5          0.2         setosa   \n",
       "29  5.2          3.4         1.4          0.2         setosa   \n",
       "30  4.7          3.2         1.6          0.2         setosa   \n",
       "... ...          ...         ...          ...         ...      \n",
       "121 6.9          3.2         5.7          2.3         virginica\n",
       "122 5.6          2.8         4.9          2.0         virginica\n",
       "123 7.7          2.8         6.7          2.0         virginica\n",
       "124 6.3          2.7         4.9          1.8         virginica\n",
       "125 6.7          3.3         5.7          2.1         virginica\n",
       "126 7.2          3.2         6.0          1.8         virginica\n",
       "127 6.2          2.8         4.8          1.8         virginica\n",
       "128 6.1          3.0         4.9          1.8         virginica\n",
       "129 6.4          2.8         5.6          2.1         virginica\n",
       "130 7.2          3.0         5.8          1.6         virginica\n",
       "131 7.4          2.8         6.1          1.9         virginica\n",
       "132 7.9          3.8         6.4          2.0         virginica\n",
       "133 6.4          2.8         5.6          2.2         virginica\n",
       "134 6.3          2.8         5.1          1.5         virginica\n",
       "135 6.1          2.6         5.6          1.4         virginica\n",
       "136 7.7          3.0         6.1          2.3         virginica\n",
       "137 6.3          3.4         5.6          2.4         virginica\n",
       "138 6.4          3.1         5.5          1.8         virginica\n",
       "139 6.0          3.0         4.8          1.8         virginica\n",
       "140 6.9          3.1         5.4          2.1         virginica\n",
       "141 6.7          3.1         5.6          2.4         virginica\n",
       "142 6.9          3.1         5.1          2.3         virginica\n",
       "143 5.8          2.7         5.1          1.9         virginica\n",
       "144 6.8          3.2         5.9          2.3         virginica\n",
       "145 6.7          3.3         5.7          2.5         virginica\n",
       "146 6.7          3.0         5.2          2.3         virginica\n",
       "147 6.3          2.5         5.0          1.9         virginica\n",
       "148 6.5          3.0         5.2          2.0         virginica\n",
       "149 6.2          3.4         5.4          2.3         virginica\n",
       "150 5.9          3.0         5.1          1.8         virginica"
      ]
     },
     "metadata": {},
     "output_type": "display_data"
    }
   ],
   "source": [
    "structure(iris)"
   ]
  },
  {
   "cell_type": "code",
   "execution_count": 8,
   "id": "c97df33d",
   "metadata": {},
   "outputs": [
    {
     "data": {
      "text/html": [
       "<table>\n",
       "<thead><tr><th scope=col>Sepal.Length</th><th scope=col>Sepal.Width</th><th scope=col>Petal.Length</th><th scope=col>Petal.Width</th><th scope=col>Species</th></tr></thead>\n",
       "<tbody>\n",
       "\t<tr><td>5.1   </td><td>3.5   </td><td>1.4   </td><td>0.2   </td><td>setosa</td></tr>\n",
       "\t<tr><td>4.9   </td><td>3.0   </td><td>1.4   </td><td>0.2   </td><td>setosa</td></tr>\n",
       "\t<tr><td>4.7   </td><td>3.2   </td><td>1.3   </td><td>0.2   </td><td>setosa</td></tr>\n",
       "\t<tr><td>4.6   </td><td>3.1   </td><td>1.5   </td><td>0.2   </td><td>setosa</td></tr>\n",
       "\t<tr><td>5.0   </td><td>3.6   </td><td>1.4   </td><td>0.2   </td><td>setosa</td></tr>\n",
       "\t<tr><td>5.4   </td><td>3.9   </td><td>1.7   </td><td>0.4   </td><td>setosa</td></tr>\n",
       "</tbody>\n",
       "</table>\n"
      ],
      "text/latex": [
       "\\begin{tabular}{r|lllll}\n",
       " Sepal.Length & Sepal.Width & Petal.Length & Petal.Width & Species\\\\\n",
       "\\hline\n",
       "\t 5.1    & 3.5    & 1.4    & 0.2    & setosa\\\\\n",
       "\t 4.9    & 3.0    & 1.4    & 0.2    & setosa\\\\\n",
       "\t 4.7    & 3.2    & 1.3    & 0.2    & setosa\\\\\n",
       "\t 4.6    & 3.1    & 1.5    & 0.2    & setosa\\\\\n",
       "\t 5.0    & 3.6    & 1.4    & 0.2    & setosa\\\\\n",
       "\t 5.4    & 3.9    & 1.7    & 0.4    & setosa\\\\\n",
       "\\end{tabular}\n"
      ],
      "text/markdown": [
       "\n",
       "| Sepal.Length | Sepal.Width | Petal.Length | Petal.Width | Species |\n",
       "|---|---|---|---|---|\n",
       "| 5.1    | 3.5    | 1.4    | 0.2    | setosa |\n",
       "| 4.9    | 3.0    | 1.4    | 0.2    | setosa |\n",
       "| 4.7    | 3.2    | 1.3    | 0.2    | setosa |\n",
       "| 4.6    | 3.1    | 1.5    | 0.2    | setosa |\n",
       "| 5.0    | 3.6    | 1.4    | 0.2    | setosa |\n",
       "| 5.4    | 3.9    | 1.7    | 0.4    | setosa |\n",
       "\n"
      ],
      "text/plain": [
       "  Sepal.Length Sepal.Width Petal.Length Petal.Width Species\n",
       "1 5.1          3.5         1.4          0.2         setosa \n",
       "2 4.9          3.0         1.4          0.2         setosa \n",
       "3 4.7          3.2         1.3          0.2         setosa \n",
       "4 4.6          3.1         1.5          0.2         setosa \n",
       "5 5.0          3.6         1.4          0.2         setosa \n",
       "6 5.4          3.9         1.7          0.4         setosa "
      ]
     },
     "metadata": {},
     "output_type": "display_data"
    }
   ],
   "source": [
    "head(iris)"
   ]
  },
  {
   "cell_type": "code",
   "execution_count": 9,
   "id": "1b4cd3c4",
   "metadata": {},
   "outputs": [
    {
     "data": {
      "text/html": [
       "150"
      ],
      "text/latex": [
       "150"
      ],
      "text/markdown": [
       "150"
      ],
      "text/plain": [
       "[1] 150"
      ]
     },
     "metadata": {},
     "output_type": "display_data"
    }
   ],
   "source": [
    "nrow(iris)"
   ]
  },
  {
   "cell_type": "code",
   "execution_count": 10,
   "id": "e29907f2",
   "metadata": {},
   "outputs": [
    {
     "data": {
      "text/html": [
       "5"
      ],
      "text/latex": [
       "5"
      ],
      "text/markdown": [
       "5"
      ],
      "text/plain": [
       "[1] 5"
      ]
     },
     "metadata": {},
     "output_type": "display_data"
    }
   ],
   "source": [
    "ncol(iris)"
   ]
  },
  {
   "cell_type": "code",
   "execution_count": 11,
   "id": "1591de2e",
   "metadata": {},
   "outputs": [
    {
     "data": {
      "text/plain": [
       "     weight       group   \n",
       " Min.   :3.590   ctrl:10  \n",
       " 1st Qu.:4.550   trt1:10  \n",
       " Median :5.155   trt2:10  \n",
       " Mean   :5.073            \n",
       " 3rd Qu.:5.530            \n",
       " Max.   :6.310            "
      ]
     },
     "metadata": {},
     "output_type": "display_data"
    }
   ],
   "source": [
    "summary(PlantGrowth)"
   ]
  },
  {
   "cell_type": "code",
   "execution_count": 12,
   "id": "c019addb",
   "metadata": {},
   "outputs": [
    {
     "data": {
      "text/html": [
       "<table>\n",
       "<thead><tr><th scope=col>weight</th><th scope=col>group</th></tr></thead>\n",
       "<tbody>\n",
       "\t<tr><td>4.17</td><td>ctrl</td></tr>\n",
       "\t<tr><td>5.58</td><td>ctrl</td></tr>\n",
       "\t<tr><td>5.18</td><td>ctrl</td></tr>\n",
       "\t<tr><td>6.11</td><td>ctrl</td></tr>\n",
       "\t<tr><td>4.50</td><td>ctrl</td></tr>\n",
       "\t<tr><td>4.61</td><td>ctrl</td></tr>\n",
       "\t<tr><td>5.17</td><td>ctrl</td></tr>\n",
       "\t<tr><td>4.53</td><td>ctrl</td></tr>\n",
       "\t<tr><td>5.33</td><td>ctrl</td></tr>\n",
       "\t<tr><td>5.14</td><td>ctrl</td></tr>\n",
       "\t<tr><td>4.81</td><td>trt1</td></tr>\n",
       "\t<tr><td>4.17</td><td>trt1</td></tr>\n",
       "\t<tr><td>4.41</td><td>trt1</td></tr>\n",
       "\t<tr><td>3.59</td><td>trt1</td></tr>\n",
       "\t<tr><td>5.87</td><td>trt1</td></tr>\n",
       "\t<tr><td>3.83</td><td>trt1</td></tr>\n",
       "\t<tr><td>6.03</td><td>trt1</td></tr>\n",
       "\t<tr><td>4.89</td><td>trt1</td></tr>\n",
       "\t<tr><td>4.32</td><td>trt1</td></tr>\n",
       "\t<tr><td>4.69</td><td>trt1</td></tr>\n",
       "\t<tr><td>6.31</td><td>trt2</td></tr>\n",
       "\t<tr><td>5.12</td><td>trt2</td></tr>\n",
       "\t<tr><td>5.54</td><td>trt2</td></tr>\n",
       "\t<tr><td>5.50</td><td>trt2</td></tr>\n",
       "\t<tr><td>5.37</td><td>trt2</td></tr>\n",
       "\t<tr><td>5.29</td><td>trt2</td></tr>\n",
       "\t<tr><td>4.92</td><td>trt2</td></tr>\n",
       "\t<tr><td>6.15</td><td>trt2</td></tr>\n",
       "\t<tr><td>5.80</td><td>trt2</td></tr>\n",
       "\t<tr><td>5.26</td><td>trt2</td></tr>\n",
       "</tbody>\n",
       "</table>\n"
      ],
      "text/latex": [
       "\\begin{tabular}{r|ll}\n",
       " weight & group\\\\\n",
       "\\hline\n",
       "\t 4.17 & ctrl\\\\\n",
       "\t 5.58 & ctrl\\\\\n",
       "\t 5.18 & ctrl\\\\\n",
       "\t 6.11 & ctrl\\\\\n",
       "\t 4.50 & ctrl\\\\\n",
       "\t 4.61 & ctrl\\\\\n",
       "\t 5.17 & ctrl\\\\\n",
       "\t 4.53 & ctrl\\\\\n",
       "\t 5.33 & ctrl\\\\\n",
       "\t 5.14 & ctrl\\\\\n",
       "\t 4.81 & trt1\\\\\n",
       "\t 4.17 & trt1\\\\\n",
       "\t 4.41 & trt1\\\\\n",
       "\t 3.59 & trt1\\\\\n",
       "\t 5.87 & trt1\\\\\n",
       "\t 3.83 & trt1\\\\\n",
       "\t 6.03 & trt1\\\\\n",
       "\t 4.89 & trt1\\\\\n",
       "\t 4.32 & trt1\\\\\n",
       "\t 4.69 & trt1\\\\\n",
       "\t 6.31 & trt2\\\\\n",
       "\t 5.12 & trt2\\\\\n",
       "\t 5.54 & trt2\\\\\n",
       "\t 5.50 & trt2\\\\\n",
       "\t 5.37 & trt2\\\\\n",
       "\t 5.29 & trt2\\\\\n",
       "\t 4.92 & trt2\\\\\n",
       "\t 6.15 & trt2\\\\\n",
       "\t 5.80 & trt2\\\\\n",
       "\t 5.26 & trt2\\\\\n",
       "\\end{tabular}\n"
      ],
      "text/markdown": [
       "\n",
       "| weight | group |\n",
       "|---|---|\n",
       "| 4.17 | ctrl |\n",
       "| 5.58 | ctrl |\n",
       "| 5.18 | ctrl |\n",
       "| 6.11 | ctrl |\n",
       "| 4.50 | ctrl |\n",
       "| 4.61 | ctrl |\n",
       "| 5.17 | ctrl |\n",
       "| 4.53 | ctrl |\n",
       "| 5.33 | ctrl |\n",
       "| 5.14 | ctrl |\n",
       "| 4.81 | trt1 |\n",
       "| 4.17 | trt1 |\n",
       "| 4.41 | trt1 |\n",
       "| 3.59 | trt1 |\n",
       "| 5.87 | trt1 |\n",
       "| 3.83 | trt1 |\n",
       "| 6.03 | trt1 |\n",
       "| 4.89 | trt1 |\n",
       "| 4.32 | trt1 |\n",
       "| 4.69 | trt1 |\n",
       "| 6.31 | trt2 |\n",
       "| 5.12 | trt2 |\n",
       "| 5.54 | trt2 |\n",
       "| 5.50 | trt2 |\n",
       "| 5.37 | trt2 |\n",
       "| 5.29 | trt2 |\n",
       "| 4.92 | trt2 |\n",
       "| 6.15 | trt2 |\n",
       "| 5.80 | trt2 |\n",
       "| 5.26 | trt2 |\n",
       "\n"
      ],
      "text/plain": [
       "   weight group\n",
       "1  4.17   ctrl \n",
       "2  5.58   ctrl \n",
       "3  5.18   ctrl \n",
       "4  6.11   ctrl \n",
       "5  4.50   ctrl \n",
       "6  4.61   ctrl \n",
       "7  5.17   ctrl \n",
       "8  4.53   ctrl \n",
       "9  5.33   ctrl \n",
       "10 5.14   ctrl \n",
       "11 4.81   trt1 \n",
       "12 4.17   trt1 \n",
       "13 4.41   trt1 \n",
       "14 3.59   trt1 \n",
       "15 5.87   trt1 \n",
       "16 3.83   trt1 \n",
       "17 6.03   trt1 \n",
       "18 4.89   trt1 \n",
       "19 4.32   trt1 \n",
       "20 4.69   trt1 \n",
       "21 6.31   trt2 \n",
       "22 5.12   trt2 \n",
       "23 5.54   trt2 \n",
       "24 5.50   trt2 \n",
       "25 5.37   trt2 \n",
       "26 5.29   trt2 \n",
       "27 4.92   trt2 \n",
       "28 6.15   trt2 \n",
       "29 5.80   trt2 \n",
       "30 5.26   trt2 "
      ]
     },
     "metadata": {},
     "output_type": "display_data"
    }
   ],
   "source": [
    "structure(PlantGrowth)"
   ]
  },
  {
   "cell_type": "code",
   "execution_count": 13,
   "id": "9df56fcc",
   "metadata": {},
   "outputs": [
    {
     "data": {
      "text/html": [
       "<table>\n",
       "<thead><tr><th scope=col>weight</th><th scope=col>group</th></tr></thead>\n",
       "<tbody>\n",
       "\t<tr><td>4.17</td><td>ctrl</td></tr>\n",
       "\t<tr><td>5.58</td><td>ctrl</td></tr>\n",
       "\t<tr><td>5.18</td><td>ctrl</td></tr>\n",
       "\t<tr><td>6.11</td><td>ctrl</td></tr>\n",
       "\t<tr><td>4.50</td><td>ctrl</td></tr>\n",
       "\t<tr><td>4.61</td><td>ctrl</td></tr>\n",
       "</tbody>\n",
       "</table>\n"
      ],
      "text/latex": [
       "\\begin{tabular}{r|ll}\n",
       " weight & group\\\\\n",
       "\\hline\n",
       "\t 4.17 & ctrl\\\\\n",
       "\t 5.58 & ctrl\\\\\n",
       "\t 5.18 & ctrl\\\\\n",
       "\t 6.11 & ctrl\\\\\n",
       "\t 4.50 & ctrl\\\\\n",
       "\t 4.61 & ctrl\\\\\n",
       "\\end{tabular}\n"
      ],
      "text/markdown": [
       "\n",
       "| weight | group |\n",
       "|---|---|\n",
       "| 4.17 | ctrl |\n",
       "| 5.58 | ctrl |\n",
       "| 5.18 | ctrl |\n",
       "| 6.11 | ctrl |\n",
       "| 4.50 | ctrl |\n",
       "| 4.61 | ctrl |\n",
       "\n"
      ],
      "text/plain": [
       "  weight group\n",
       "1 4.17   ctrl \n",
       "2 5.58   ctrl \n",
       "3 5.18   ctrl \n",
       "4 6.11   ctrl \n",
       "5 4.50   ctrl \n",
       "6 4.61   ctrl "
      ]
     },
     "metadata": {},
     "output_type": "display_data"
    }
   ],
   "source": [
    "head(PlantGrowth)"
   ]
  },
  {
   "cell_type": "code",
   "execution_count": 14,
   "id": "9b69ab06",
   "metadata": {},
   "outputs": [
    {
     "data": {
      "text/html": [
       "30"
      ],
      "text/latex": [
       "30"
      ],
      "text/markdown": [
       "30"
      ],
      "text/plain": [
       "[1] 30"
      ]
     },
     "metadata": {},
     "output_type": "display_data"
    }
   ],
   "source": [
    "nrow(PlantGrowth)"
   ]
  },
  {
   "cell_type": "code",
   "execution_count": 15,
   "id": "cd050745",
   "metadata": {},
   "outputs": [
    {
     "data": {
      "text/html": [
       "2"
      ],
      "text/latex": [
       "2"
      ],
      "text/markdown": [
       "2"
      ],
      "text/plain": [
       "[1] 2"
      ]
     },
     "metadata": {},
     "output_type": "display_data"
    }
   ],
   "source": [
    "ncol(PlantGrowth)"
   ]
  },
  {
   "cell_type": "code",
   "execution_count": 16,
   "id": "d1c17a7e",
   "metadata": {},
   "outputs": [
    {
     "data": {
      "text/plain": [
       "     Murder          Assault         UrbanPop          Rape      \n",
       " Min.   : 0.800   Min.   : 45.0   Min.   :32.00   Min.   : 7.30  \n",
       " 1st Qu.: 4.075   1st Qu.:109.0   1st Qu.:54.50   1st Qu.:15.07  \n",
       " Median : 7.250   Median :159.0   Median :66.00   Median :20.10  \n",
       " Mean   : 7.788   Mean   :170.8   Mean   :65.54   Mean   :21.23  \n",
       " 3rd Qu.:11.250   3rd Qu.:249.0   3rd Qu.:77.75   3rd Qu.:26.18  \n",
       " Max.   :17.400   Max.   :337.0   Max.   :91.00   Max.   :46.00  "
      ]
     },
     "metadata": {},
     "output_type": "display_data"
    }
   ],
   "source": [
    "summary(USArrests)"
   ]
  },
  {
   "cell_type": "code",
   "execution_count": 17,
   "id": "b52a4d9c",
   "metadata": {},
   "outputs": [
    {
     "data": {
      "text/html": [
       "<table>\n",
       "<thead><tr><th></th><th scope=col>Murder</th><th scope=col>Assault</th><th scope=col>UrbanPop</th><th scope=col>Rape</th></tr></thead>\n",
       "<tbody>\n",
       "\t<tr><th scope=row>Alabama</th><td>13.2</td><td>236 </td><td>58  </td><td>21.2</td></tr>\n",
       "\t<tr><th scope=row>Alaska</th><td>10.0</td><td>263 </td><td>48  </td><td>44.5</td></tr>\n",
       "\t<tr><th scope=row>Arizona</th><td> 8.1</td><td>294 </td><td>80  </td><td>31.0</td></tr>\n",
       "\t<tr><th scope=row>Arkansas</th><td> 8.8</td><td>190 </td><td>50  </td><td>19.5</td></tr>\n",
       "\t<tr><th scope=row>California</th><td> 9.0</td><td>276 </td><td>91  </td><td>40.6</td></tr>\n",
       "\t<tr><th scope=row>Colorado</th><td> 7.9</td><td>204 </td><td>78  </td><td>38.7</td></tr>\n",
       "\t<tr><th scope=row>Connecticut</th><td> 3.3</td><td>110 </td><td>77  </td><td>11.1</td></tr>\n",
       "\t<tr><th scope=row>Delaware</th><td> 5.9</td><td>238 </td><td>72  </td><td>15.8</td></tr>\n",
       "\t<tr><th scope=row>Florida</th><td>15.4</td><td>335 </td><td>80  </td><td>31.9</td></tr>\n",
       "\t<tr><th scope=row>Georgia</th><td>17.4</td><td>211 </td><td>60  </td><td>25.8</td></tr>\n",
       "\t<tr><th scope=row>Hawaii</th><td> 5.3</td><td> 46 </td><td>83  </td><td>20.2</td></tr>\n",
       "\t<tr><th scope=row>Idaho</th><td> 2.6</td><td>120 </td><td>54  </td><td>14.2</td></tr>\n",
       "\t<tr><th scope=row>Illinois</th><td>10.4</td><td>249 </td><td>83  </td><td>24.0</td></tr>\n",
       "\t<tr><th scope=row>Indiana</th><td> 7.2</td><td>113 </td><td>65  </td><td>21.0</td></tr>\n",
       "\t<tr><th scope=row>Iowa</th><td> 2.2</td><td> 56 </td><td>57  </td><td>11.3</td></tr>\n",
       "\t<tr><th scope=row>Kansas</th><td> 6.0</td><td>115 </td><td>66  </td><td>18.0</td></tr>\n",
       "\t<tr><th scope=row>Kentucky</th><td> 9.7</td><td>109 </td><td>52  </td><td>16.3</td></tr>\n",
       "\t<tr><th scope=row>Louisiana</th><td>15.4</td><td>249 </td><td>66  </td><td>22.2</td></tr>\n",
       "\t<tr><th scope=row>Maine</th><td> 2.1</td><td> 83 </td><td>51  </td><td> 7.8</td></tr>\n",
       "\t<tr><th scope=row>Maryland</th><td>11.3</td><td>300 </td><td>67  </td><td>27.8</td></tr>\n",
       "\t<tr><th scope=row>Massachusetts</th><td> 4.4</td><td>149 </td><td>85  </td><td>16.3</td></tr>\n",
       "\t<tr><th scope=row>Michigan</th><td>12.1</td><td>255 </td><td>74  </td><td>35.1</td></tr>\n",
       "\t<tr><th scope=row>Minnesota</th><td> 2.7</td><td> 72 </td><td>66  </td><td>14.9</td></tr>\n",
       "\t<tr><th scope=row>Mississippi</th><td>16.1</td><td>259 </td><td>44  </td><td>17.1</td></tr>\n",
       "\t<tr><th scope=row>Missouri</th><td> 9.0</td><td>178 </td><td>70  </td><td>28.2</td></tr>\n",
       "\t<tr><th scope=row>Montana</th><td> 6.0</td><td>109 </td><td>53  </td><td>16.4</td></tr>\n",
       "\t<tr><th scope=row>Nebraska</th><td> 4.3</td><td>102 </td><td>62  </td><td>16.5</td></tr>\n",
       "\t<tr><th scope=row>Nevada</th><td>12.2</td><td>252 </td><td>81  </td><td>46.0</td></tr>\n",
       "\t<tr><th scope=row>New Hampshire</th><td> 2.1</td><td> 57 </td><td>56  </td><td> 9.5</td></tr>\n",
       "\t<tr><th scope=row>New Jersey</th><td> 7.4</td><td>159 </td><td>89  </td><td>18.8</td></tr>\n",
       "\t<tr><th scope=row>New Mexico</th><td>11.4</td><td>285 </td><td>70  </td><td>32.1</td></tr>\n",
       "\t<tr><th scope=row>New York</th><td>11.1</td><td>254 </td><td>86  </td><td>26.1</td></tr>\n",
       "\t<tr><th scope=row>North Carolina</th><td>13.0</td><td>337 </td><td>45  </td><td>16.1</td></tr>\n",
       "\t<tr><th scope=row>North Dakota</th><td> 0.8</td><td> 45 </td><td>44  </td><td> 7.3</td></tr>\n",
       "\t<tr><th scope=row>Ohio</th><td> 7.3</td><td>120 </td><td>75  </td><td>21.4</td></tr>\n",
       "\t<tr><th scope=row>Oklahoma</th><td> 6.6</td><td>151 </td><td>68  </td><td>20.0</td></tr>\n",
       "\t<tr><th scope=row>Oregon</th><td> 4.9</td><td>159 </td><td>67  </td><td>29.3</td></tr>\n",
       "\t<tr><th scope=row>Pennsylvania</th><td> 6.3</td><td>106 </td><td>72  </td><td>14.9</td></tr>\n",
       "\t<tr><th scope=row>Rhode Island</th><td> 3.4</td><td>174 </td><td>87  </td><td> 8.3</td></tr>\n",
       "\t<tr><th scope=row>South Carolina</th><td>14.4</td><td>279 </td><td>48  </td><td>22.5</td></tr>\n",
       "\t<tr><th scope=row>South Dakota</th><td> 3.8</td><td> 86 </td><td>45  </td><td>12.8</td></tr>\n",
       "\t<tr><th scope=row>Tennessee</th><td>13.2</td><td>188 </td><td>59  </td><td>26.9</td></tr>\n",
       "\t<tr><th scope=row>Texas</th><td>12.7</td><td>201 </td><td>80  </td><td>25.5</td></tr>\n",
       "\t<tr><th scope=row>Utah</th><td> 3.2</td><td>120 </td><td>80  </td><td>22.9</td></tr>\n",
       "\t<tr><th scope=row>Vermont</th><td> 2.2</td><td> 48 </td><td>32  </td><td>11.2</td></tr>\n",
       "\t<tr><th scope=row>Virginia</th><td> 8.5</td><td>156 </td><td>63  </td><td>20.7</td></tr>\n",
       "\t<tr><th scope=row>Washington</th><td> 4.0</td><td>145 </td><td>73  </td><td>26.2</td></tr>\n",
       "\t<tr><th scope=row>West Virginia</th><td> 5.7</td><td> 81 </td><td>39  </td><td> 9.3</td></tr>\n",
       "\t<tr><th scope=row>Wisconsin</th><td> 2.6</td><td> 53 </td><td>66  </td><td>10.8</td></tr>\n",
       "\t<tr><th scope=row>Wyoming</th><td> 6.8</td><td>161 </td><td>60  </td><td>15.6</td></tr>\n",
       "</tbody>\n",
       "</table>\n"
      ],
      "text/latex": [
       "\\begin{tabular}{r|llll}\n",
       "  & Murder & Assault & UrbanPop & Rape\\\\\n",
       "\\hline\n",
       "\tAlabama & 13.2 & 236  & 58   & 21.2\\\\\n",
       "\tAlaska & 10.0 & 263  & 48   & 44.5\\\\\n",
       "\tArizona &  8.1 & 294  & 80   & 31.0\\\\\n",
       "\tArkansas &  8.8 & 190  & 50   & 19.5\\\\\n",
       "\tCalifornia &  9.0 & 276  & 91   & 40.6\\\\\n",
       "\tColorado &  7.9 & 204  & 78   & 38.7\\\\\n",
       "\tConnecticut &  3.3 & 110  & 77   & 11.1\\\\\n",
       "\tDelaware &  5.9 & 238  & 72   & 15.8\\\\\n",
       "\tFlorida & 15.4 & 335  & 80   & 31.9\\\\\n",
       "\tGeorgia & 17.4 & 211  & 60   & 25.8\\\\\n",
       "\tHawaii &  5.3 &  46  & 83   & 20.2\\\\\n",
       "\tIdaho &  2.6 & 120  & 54   & 14.2\\\\\n",
       "\tIllinois & 10.4 & 249  & 83   & 24.0\\\\\n",
       "\tIndiana &  7.2 & 113  & 65   & 21.0\\\\\n",
       "\tIowa &  2.2 &  56  & 57   & 11.3\\\\\n",
       "\tKansas &  6.0 & 115  & 66   & 18.0\\\\\n",
       "\tKentucky &  9.7 & 109  & 52   & 16.3\\\\\n",
       "\tLouisiana & 15.4 & 249  & 66   & 22.2\\\\\n",
       "\tMaine &  2.1 &  83  & 51   &  7.8\\\\\n",
       "\tMaryland & 11.3 & 300  & 67   & 27.8\\\\\n",
       "\tMassachusetts &  4.4 & 149  & 85   & 16.3\\\\\n",
       "\tMichigan & 12.1 & 255  & 74   & 35.1\\\\\n",
       "\tMinnesota &  2.7 &  72  & 66   & 14.9\\\\\n",
       "\tMississippi & 16.1 & 259  & 44   & 17.1\\\\\n",
       "\tMissouri &  9.0 & 178  & 70   & 28.2\\\\\n",
       "\tMontana &  6.0 & 109  & 53   & 16.4\\\\\n",
       "\tNebraska &  4.3 & 102  & 62   & 16.5\\\\\n",
       "\tNevada & 12.2 & 252  & 81   & 46.0\\\\\n",
       "\tNew Hampshire &  2.1 &  57  & 56   &  9.5\\\\\n",
       "\tNew Jersey &  7.4 & 159  & 89   & 18.8\\\\\n",
       "\tNew Mexico & 11.4 & 285  & 70   & 32.1\\\\\n",
       "\tNew York & 11.1 & 254  & 86   & 26.1\\\\\n",
       "\tNorth Carolina & 13.0 & 337  & 45   & 16.1\\\\\n",
       "\tNorth Dakota &  0.8 &  45  & 44   &  7.3\\\\\n",
       "\tOhio &  7.3 & 120  & 75   & 21.4\\\\\n",
       "\tOklahoma &  6.6 & 151  & 68   & 20.0\\\\\n",
       "\tOregon &  4.9 & 159  & 67   & 29.3\\\\\n",
       "\tPennsylvania &  6.3 & 106  & 72   & 14.9\\\\\n",
       "\tRhode Island &  3.4 & 174  & 87   &  8.3\\\\\n",
       "\tSouth Carolina & 14.4 & 279  & 48   & 22.5\\\\\n",
       "\tSouth Dakota &  3.8 &  86  & 45   & 12.8\\\\\n",
       "\tTennessee & 13.2 & 188  & 59   & 26.9\\\\\n",
       "\tTexas & 12.7 & 201  & 80   & 25.5\\\\\n",
       "\tUtah &  3.2 & 120  & 80   & 22.9\\\\\n",
       "\tVermont &  2.2 &  48  & 32   & 11.2\\\\\n",
       "\tVirginia &  8.5 & 156  & 63   & 20.7\\\\\n",
       "\tWashington &  4.0 & 145  & 73   & 26.2\\\\\n",
       "\tWest Virginia &  5.7 &  81  & 39   &  9.3\\\\\n",
       "\tWisconsin &  2.6 &  53  & 66   & 10.8\\\\\n",
       "\tWyoming &  6.8 & 161  & 60   & 15.6\\\\\n",
       "\\end{tabular}\n"
      ],
      "text/markdown": [
       "\n",
       "| <!--/--> | Murder | Assault | UrbanPop | Rape |\n",
       "|---|---|---|---|---|\n",
       "| Alabama | 13.2 | 236  | 58   | 21.2 |\n",
       "| Alaska | 10.0 | 263  | 48   | 44.5 |\n",
       "| Arizona |  8.1 | 294  | 80   | 31.0 |\n",
       "| Arkansas |  8.8 | 190  | 50   | 19.5 |\n",
       "| California |  9.0 | 276  | 91   | 40.6 |\n",
       "| Colorado |  7.9 | 204  | 78   | 38.7 |\n",
       "| Connecticut |  3.3 | 110  | 77   | 11.1 |\n",
       "| Delaware |  5.9 | 238  | 72   | 15.8 |\n",
       "| Florida | 15.4 | 335  | 80   | 31.9 |\n",
       "| Georgia | 17.4 | 211  | 60   | 25.8 |\n",
       "| Hawaii |  5.3 |  46  | 83   | 20.2 |\n",
       "| Idaho |  2.6 | 120  | 54   | 14.2 |\n",
       "| Illinois | 10.4 | 249  | 83   | 24.0 |\n",
       "| Indiana |  7.2 | 113  | 65   | 21.0 |\n",
       "| Iowa |  2.2 |  56  | 57   | 11.3 |\n",
       "| Kansas |  6.0 | 115  | 66   | 18.0 |\n",
       "| Kentucky |  9.7 | 109  | 52   | 16.3 |\n",
       "| Louisiana | 15.4 | 249  | 66   | 22.2 |\n",
       "| Maine |  2.1 |  83  | 51   |  7.8 |\n",
       "| Maryland | 11.3 | 300  | 67   | 27.8 |\n",
       "| Massachusetts |  4.4 | 149  | 85   | 16.3 |\n",
       "| Michigan | 12.1 | 255  | 74   | 35.1 |\n",
       "| Minnesota |  2.7 |  72  | 66   | 14.9 |\n",
       "| Mississippi | 16.1 | 259  | 44   | 17.1 |\n",
       "| Missouri |  9.0 | 178  | 70   | 28.2 |\n",
       "| Montana |  6.0 | 109  | 53   | 16.4 |\n",
       "| Nebraska |  4.3 | 102  | 62   | 16.5 |\n",
       "| Nevada | 12.2 | 252  | 81   | 46.0 |\n",
       "| New Hampshire |  2.1 |  57  | 56   |  9.5 |\n",
       "| New Jersey |  7.4 | 159  | 89   | 18.8 |\n",
       "| New Mexico | 11.4 | 285  | 70   | 32.1 |\n",
       "| New York | 11.1 | 254  | 86   | 26.1 |\n",
       "| North Carolina | 13.0 | 337  | 45   | 16.1 |\n",
       "| North Dakota |  0.8 |  45  | 44   |  7.3 |\n",
       "| Ohio |  7.3 | 120  | 75   | 21.4 |\n",
       "| Oklahoma |  6.6 | 151  | 68   | 20.0 |\n",
       "| Oregon |  4.9 | 159  | 67   | 29.3 |\n",
       "| Pennsylvania |  6.3 | 106  | 72   | 14.9 |\n",
       "| Rhode Island |  3.4 | 174  | 87   |  8.3 |\n",
       "| South Carolina | 14.4 | 279  | 48   | 22.5 |\n",
       "| South Dakota |  3.8 |  86  | 45   | 12.8 |\n",
       "| Tennessee | 13.2 | 188  | 59   | 26.9 |\n",
       "| Texas | 12.7 | 201  | 80   | 25.5 |\n",
       "| Utah |  3.2 | 120  | 80   | 22.9 |\n",
       "| Vermont |  2.2 |  48  | 32   | 11.2 |\n",
       "| Virginia |  8.5 | 156  | 63   | 20.7 |\n",
       "| Washington |  4.0 | 145  | 73   | 26.2 |\n",
       "| West Virginia |  5.7 |  81  | 39   |  9.3 |\n",
       "| Wisconsin |  2.6 |  53  | 66   | 10.8 |\n",
       "| Wyoming |  6.8 | 161  | 60   | 15.6 |\n",
       "\n"
      ],
      "text/plain": [
       "               Murder Assault UrbanPop Rape\n",
       "Alabama        13.2   236     58       21.2\n",
       "Alaska         10.0   263     48       44.5\n",
       "Arizona         8.1   294     80       31.0\n",
       "Arkansas        8.8   190     50       19.5\n",
       "California      9.0   276     91       40.6\n",
       "Colorado        7.9   204     78       38.7\n",
       "Connecticut     3.3   110     77       11.1\n",
       "Delaware        5.9   238     72       15.8\n",
       "Florida        15.4   335     80       31.9\n",
       "Georgia        17.4   211     60       25.8\n",
       "Hawaii          5.3    46     83       20.2\n",
       "Idaho           2.6   120     54       14.2\n",
       "Illinois       10.4   249     83       24.0\n",
       "Indiana         7.2   113     65       21.0\n",
       "Iowa            2.2    56     57       11.3\n",
       "Kansas          6.0   115     66       18.0\n",
       "Kentucky        9.7   109     52       16.3\n",
       "Louisiana      15.4   249     66       22.2\n",
       "Maine           2.1    83     51        7.8\n",
       "Maryland       11.3   300     67       27.8\n",
       "Massachusetts   4.4   149     85       16.3\n",
       "Michigan       12.1   255     74       35.1\n",
       "Minnesota       2.7    72     66       14.9\n",
       "Mississippi    16.1   259     44       17.1\n",
       "Missouri        9.0   178     70       28.2\n",
       "Montana         6.0   109     53       16.4\n",
       "Nebraska        4.3   102     62       16.5\n",
       "Nevada         12.2   252     81       46.0\n",
       "New Hampshire   2.1    57     56        9.5\n",
       "New Jersey      7.4   159     89       18.8\n",
       "New Mexico     11.4   285     70       32.1\n",
       "New York       11.1   254     86       26.1\n",
       "North Carolina 13.0   337     45       16.1\n",
       "North Dakota    0.8    45     44        7.3\n",
       "Ohio            7.3   120     75       21.4\n",
       "Oklahoma        6.6   151     68       20.0\n",
       "Oregon          4.9   159     67       29.3\n",
       "Pennsylvania    6.3   106     72       14.9\n",
       "Rhode Island    3.4   174     87        8.3\n",
       "South Carolina 14.4   279     48       22.5\n",
       "South Dakota    3.8    86     45       12.8\n",
       "Tennessee      13.2   188     59       26.9\n",
       "Texas          12.7   201     80       25.5\n",
       "Utah            3.2   120     80       22.9\n",
       "Vermont         2.2    48     32       11.2\n",
       "Virginia        8.5   156     63       20.7\n",
       "Washington      4.0   145     73       26.2\n",
       "West Virginia   5.7    81     39        9.3\n",
       "Wisconsin       2.6    53     66       10.8\n",
       "Wyoming         6.8   161     60       15.6"
      ]
     },
     "metadata": {},
     "output_type": "display_data"
    }
   ],
   "source": [
    "structure(USArrests)"
   ]
  },
  {
   "cell_type": "code",
   "execution_count": 18,
   "id": "37c45fe6",
   "metadata": {},
   "outputs": [
    {
     "data": {
      "text/html": [
       "<table>\n",
       "<thead><tr><th></th><th scope=col>Murder</th><th scope=col>Assault</th><th scope=col>UrbanPop</th><th scope=col>Rape</th></tr></thead>\n",
       "<tbody>\n",
       "\t<tr><th scope=row>Alabama</th><td>13.2</td><td>236 </td><td>58  </td><td>21.2</td></tr>\n",
       "\t<tr><th scope=row>Alaska</th><td>10.0</td><td>263 </td><td>48  </td><td>44.5</td></tr>\n",
       "\t<tr><th scope=row>Arizona</th><td> 8.1</td><td>294 </td><td>80  </td><td>31.0</td></tr>\n",
       "\t<tr><th scope=row>Arkansas</th><td> 8.8</td><td>190 </td><td>50  </td><td>19.5</td></tr>\n",
       "\t<tr><th scope=row>California</th><td> 9.0</td><td>276 </td><td>91  </td><td>40.6</td></tr>\n",
       "\t<tr><th scope=row>Colorado</th><td> 7.9</td><td>204 </td><td>78  </td><td>38.7</td></tr>\n",
       "</tbody>\n",
       "</table>\n"
      ],
      "text/latex": [
       "\\begin{tabular}{r|llll}\n",
       "  & Murder & Assault & UrbanPop & Rape\\\\\n",
       "\\hline\n",
       "\tAlabama & 13.2 & 236  & 58   & 21.2\\\\\n",
       "\tAlaska & 10.0 & 263  & 48   & 44.5\\\\\n",
       "\tArizona &  8.1 & 294  & 80   & 31.0\\\\\n",
       "\tArkansas &  8.8 & 190  & 50   & 19.5\\\\\n",
       "\tCalifornia &  9.0 & 276  & 91   & 40.6\\\\\n",
       "\tColorado &  7.9 & 204  & 78   & 38.7\\\\\n",
       "\\end{tabular}\n"
      ],
      "text/markdown": [
       "\n",
       "| <!--/--> | Murder | Assault | UrbanPop | Rape |\n",
       "|---|---|---|---|---|\n",
       "| Alabama | 13.2 | 236  | 58   | 21.2 |\n",
       "| Alaska | 10.0 | 263  | 48   | 44.5 |\n",
       "| Arizona |  8.1 | 294  | 80   | 31.0 |\n",
       "| Arkansas |  8.8 | 190  | 50   | 19.5 |\n",
       "| California |  9.0 | 276  | 91   | 40.6 |\n",
       "| Colorado |  7.9 | 204  | 78   | 38.7 |\n",
       "\n"
      ],
      "text/plain": [
       "           Murder Assault UrbanPop Rape\n",
       "Alabama    13.2   236     58       21.2\n",
       "Alaska     10.0   263     48       44.5\n",
       "Arizona     8.1   294     80       31.0\n",
       "Arkansas    8.8   190     50       19.5\n",
       "California  9.0   276     91       40.6\n",
       "Colorado    7.9   204     78       38.7"
      ]
     },
     "metadata": {},
     "output_type": "display_data"
    }
   ],
   "source": [
    "head(USArrests)"
   ]
  },
  {
   "cell_type": "code",
   "execution_count": 19,
   "id": "7fe638a6",
   "metadata": {},
   "outputs": [
    {
     "data": {
      "text/html": [
       "50"
      ],
      "text/latex": [
       "50"
      ],
      "text/markdown": [
       "50"
      ],
      "text/plain": [
       "[1] 50"
      ]
     },
     "metadata": {},
     "output_type": "display_data"
    }
   ],
   "source": [
    "nrow(USArrests)"
   ]
  },
  {
   "cell_type": "code",
   "execution_count": 20,
   "id": "bd82b67d",
   "metadata": {},
   "outputs": [
    {
     "data": {
      "text/html": [
       "4"
      ],
      "text/latex": [
       "4"
      ],
      "text/markdown": [
       "4"
      ],
      "text/plain": [
       "[1] 4"
      ]
     },
     "metadata": {},
     "output_type": "display_data"
    }
   ],
   "source": [
    "ncol(USArrests)"
   ]
  },
  {
   "cell_type": "code",
   "execution_count": 21,
   "id": "ab5de16d",
   "metadata": {},
   "outputs": [
    {
     "data": {
      "text/plain": [
       "      len        supp         dose      \n",
       " Min.   : 4.20   OJ:30   Min.   :0.500  \n",
       " 1st Qu.:13.07   VC:30   1st Qu.:0.500  \n",
       " Median :19.25           Median :1.000  \n",
       " Mean   :18.81           Mean   :1.167  \n",
       " 3rd Qu.:25.27           3rd Qu.:2.000  \n",
       " Max.   :33.90           Max.   :2.000  "
      ]
     },
     "metadata": {},
     "output_type": "display_data"
    }
   ],
   "source": [
    "summary(ToothGrowth)"
   ]
  },
  {
   "cell_type": "code",
   "execution_count": 22,
   "id": "6839bae7",
   "metadata": {},
   "outputs": [
    {
     "data": {
      "text/html": [
       "<table>\n",
       "<thead><tr><th scope=col>len</th><th scope=col>supp</th><th scope=col>dose</th></tr></thead>\n",
       "<tbody>\n",
       "\t<tr><td> 4.2</td><td>VC  </td><td>0.5 </td></tr>\n",
       "\t<tr><td>11.5</td><td>VC  </td><td>0.5 </td></tr>\n",
       "\t<tr><td> 7.3</td><td>VC  </td><td>0.5 </td></tr>\n",
       "\t<tr><td> 5.8</td><td>VC  </td><td>0.5 </td></tr>\n",
       "\t<tr><td> 6.4</td><td>VC  </td><td>0.5 </td></tr>\n",
       "\t<tr><td>10.0</td><td>VC  </td><td>0.5 </td></tr>\n",
       "\t<tr><td>11.2</td><td>VC  </td><td>0.5 </td></tr>\n",
       "\t<tr><td>11.2</td><td>VC  </td><td>0.5 </td></tr>\n",
       "\t<tr><td> 5.2</td><td>VC  </td><td>0.5 </td></tr>\n",
       "\t<tr><td> 7.0</td><td>VC  </td><td>0.5 </td></tr>\n",
       "\t<tr><td>16.5</td><td>VC  </td><td>1.0 </td></tr>\n",
       "\t<tr><td>16.5</td><td>VC  </td><td>1.0 </td></tr>\n",
       "\t<tr><td>15.2</td><td>VC  </td><td>1.0 </td></tr>\n",
       "\t<tr><td>17.3</td><td>VC  </td><td>1.0 </td></tr>\n",
       "\t<tr><td>22.5</td><td>VC  </td><td>1.0 </td></tr>\n",
       "\t<tr><td>17.3</td><td>VC  </td><td>1.0 </td></tr>\n",
       "\t<tr><td>13.6</td><td>VC  </td><td>1.0 </td></tr>\n",
       "\t<tr><td>14.5</td><td>VC  </td><td>1.0 </td></tr>\n",
       "\t<tr><td>18.8</td><td>VC  </td><td>1.0 </td></tr>\n",
       "\t<tr><td>15.5</td><td>VC  </td><td>1.0 </td></tr>\n",
       "\t<tr><td>23.6</td><td>VC  </td><td>2.0 </td></tr>\n",
       "\t<tr><td>18.5</td><td>VC  </td><td>2.0 </td></tr>\n",
       "\t<tr><td>33.9</td><td>VC  </td><td>2.0 </td></tr>\n",
       "\t<tr><td>25.5</td><td>VC  </td><td>2.0 </td></tr>\n",
       "\t<tr><td>26.4</td><td>VC  </td><td>2.0 </td></tr>\n",
       "\t<tr><td>32.5</td><td>VC  </td><td>2.0 </td></tr>\n",
       "\t<tr><td>26.7</td><td>VC  </td><td>2.0 </td></tr>\n",
       "\t<tr><td>21.5</td><td>VC  </td><td>2.0 </td></tr>\n",
       "\t<tr><td>23.3</td><td>VC  </td><td>2.0 </td></tr>\n",
       "\t<tr><td>29.5</td><td>VC  </td><td>2.0 </td></tr>\n",
       "\t<tr><td>15.2</td><td>OJ  </td><td>0.5 </td></tr>\n",
       "\t<tr><td>21.5</td><td>OJ  </td><td>0.5 </td></tr>\n",
       "\t<tr><td>17.6</td><td>OJ  </td><td>0.5 </td></tr>\n",
       "\t<tr><td> 9.7</td><td>OJ  </td><td>0.5 </td></tr>\n",
       "\t<tr><td>14.5</td><td>OJ  </td><td>0.5 </td></tr>\n",
       "\t<tr><td>10.0</td><td>OJ  </td><td>0.5 </td></tr>\n",
       "\t<tr><td> 8.2</td><td>OJ  </td><td>0.5 </td></tr>\n",
       "\t<tr><td> 9.4</td><td>OJ  </td><td>0.5 </td></tr>\n",
       "\t<tr><td>16.5</td><td>OJ  </td><td>0.5 </td></tr>\n",
       "\t<tr><td> 9.7</td><td>OJ  </td><td>0.5 </td></tr>\n",
       "\t<tr><td>19.7</td><td>OJ  </td><td>1.0 </td></tr>\n",
       "\t<tr><td>23.3</td><td>OJ  </td><td>1.0 </td></tr>\n",
       "\t<tr><td>23.6</td><td>OJ  </td><td>1.0 </td></tr>\n",
       "\t<tr><td>26.4</td><td>OJ  </td><td>1.0 </td></tr>\n",
       "\t<tr><td>20.0</td><td>OJ  </td><td>1.0 </td></tr>\n",
       "\t<tr><td>25.2</td><td>OJ  </td><td>1.0 </td></tr>\n",
       "\t<tr><td>25.8</td><td>OJ  </td><td>1.0 </td></tr>\n",
       "\t<tr><td>21.2</td><td>OJ  </td><td>1.0 </td></tr>\n",
       "\t<tr><td>14.5</td><td>OJ  </td><td>1.0 </td></tr>\n",
       "\t<tr><td>27.3</td><td>OJ  </td><td>1.0 </td></tr>\n",
       "\t<tr><td>25.5</td><td>OJ  </td><td>2.0 </td></tr>\n",
       "\t<tr><td>26.4</td><td>OJ  </td><td>2.0 </td></tr>\n",
       "\t<tr><td>22.4</td><td>OJ  </td><td>2.0 </td></tr>\n",
       "\t<tr><td>24.5</td><td>OJ  </td><td>2.0 </td></tr>\n",
       "\t<tr><td>24.8</td><td>OJ  </td><td>2.0 </td></tr>\n",
       "\t<tr><td>30.9</td><td>OJ  </td><td>2.0 </td></tr>\n",
       "\t<tr><td>26.4</td><td>OJ  </td><td>2.0 </td></tr>\n",
       "\t<tr><td>27.3</td><td>OJ  </td><td>2.0 </td></tr>\n",
       "\t<tr><td>29.4</td><td>OJ  </td><td>2.0 </td></tr>\n",
       "\t<tr><td>23.0</td><td>OJ  </td><td>2.0 </td></tr>\n",
       "</tbody>\n",
       "</table>\n"
      ],
      "text/latex": [
       "\\begin{tabular}{r|lll}\n",
       " len & supp & dose\\\\\n",
       "\\hline\n",
       "\t  4.2 & VC   & 0.5 \\\\\n",
       "\t 11.5 & VC   & 0.5 \\\\\n",
       "\t  7.3 & VC   & 0.5 \\\\\n",
       "\t  5.8 & VC   & 0.5 \\\\\n",
       "\t  6.4 & VC   & 0.5 \\\\\n",
       "\t 10.0 & VC   & 0.5 \\\\\n",
       "\t 11.2 & VC   & 0.5 \\\\\n",
       "\t 11.2 & VC   & 0.5 \\\\\n",
       "\t  5.2 & VC   & 0.5 \\\\\n",
       "\t  7.0 & VC   & 0.5 \\\\\n",
       "\t 16.5 & VC   & 1.0 \\\\\n",
       "\t 16.5 & VC   & 1.0 \\\\\n",
       "\t 15.2 & VC   & 1.0 \\\\\n",
       "\t 17.3 & VC   & 1.0 \\\\\n",
       "\t 22.5 & VC   & 1.0 \\\\\n",
       "\t 17.3 & VC   & 1.0 \\\\\n",
       "\t 13.6 & VC   & 1.0 \\\\\n",
       "\t 14.5 & VC   & 1.0 \\\\\n",
       "\t 18.8 & VC   & 1.0 \\\\\n",
       "\t 15.5 & VC   & 1.0 \\\\\n",
       "\t 23.6 & VC   & 2.0 \\\\\n",
       "\t 18.5 & VC   & 2.0 \\\\\n",
       "\t 33.9 & VC   & 2.0 \\\\\n",
       "\t 25.5 & VC   & 2.0 \\\\\n",
       "\t 26.4 & VC   & 2.0 \\\\\n",
       "\t 32.5 & VC   & 2.0 \\\\\n",
       "\t 26.7 & VC   & 2.0 \\\\\n",
       "\t 21.5 & VC   & 2.0 \\\\\n",
       "\t 23.3 & VC   & 2.0 \\\\\n",
       "\t 29.5 & VC   & 2.0 \\\\\n",
       "\t 15.2 & OJ   & 0.5 \\\\\n",
       "\t 21.5 & OJ   & 0.5 \\\\\n",
       "\t 17.6 & OJ   & 0.5 \\\\\n",
       "\t  9.7 & OJ   & 0.5 \\\\\n",
       "\t 14.5 & OJ   & 0.5 \\\\\n",
       "\t 10.0 & OJ   & 0.5 \\\\\n",
       "\t  8.2 & OJ   & 0.5 \\\\\n",
       "\t  9.4 & OJ   & 0.5 \\\\\n",
       "\t 16.5 & OJ   & 0.5 \\\\\n",
       "\t  9.7 & OJ   & 0.5 \\\\\n",
       "\t 19.7 & OJ   & 1.0 \\\\\n",
       "\t 23.3 & OJ   & 1.0 \\\\\n",
       "\t 23.6 & OJ   & 1.0 \\\\\n",
       "\t 26.4 & OJ   & 1.0 \\\\\n",
       "\t 20.0 & OJ   & 1.0 \\\\\n",
       "\t 25.2 & OJ   & 1.0 \\\\\n",
       "\t 25.8 & OJ   & 1.0 \\\\\n",
       "\t 21.2 & OJ   & 1.0 \\\\\n",
       "\t 14.5 & OJ   & 1.0 \\\\\n",
       "\t 27.3 & OJ   & 1.0 \\\\\n",
       "\t 25.5 & OJ   & 2.0 \\\\\n",
       "\t 26.4 & OJ   & 2.0 \\\\\n",
       "\t 22.4 & OJ   & 2.0 \\\\\n",
       "\t 24.5 & OJ   & 2.0 \\\\\n",
       "\t 24.8 & OJ   & 2.0 \\\\\n",
       "\t 30.9 & OJ   & 2.0 \\\\\n",
       "\t 26.4 & OJ   & 2.0 \\\\\n",
       "\t 27.3 & OJ   & 2.0 \\\\\n",
       "\t 29.4 & OJ   & 2.0 \\\\\n",
       "\t 23.0 & OJ   & 2.0 \\\\\n",
       "\\end{tabular}\n"
      ],
      "text/markdown": [
       "\n",
       "| len | supp | dose |\n",
       "|---|---|---|\n",
       "|  4.2 | VC   | 0.5  |\n",
       "| 11.5 | VC   | 0.5  |\n",
       "|  7.3 | VC   | 0.5  |\n",
       "|  5.8 | VC   | 0.5  |\n",
       "|  6.4 | VC   | 0.5  |\n",
       "| 10.0 | VC   | 0.5  |\n",
       "| 11.2 | VC   | 0.5  |\n",
       "| 11.2 | VC   | 0.5  |\n",
       "|  5.2 | VC   | 0.5  |\n",
       "|  7.0 | VC   | 0.5  |\n",
       "| 16.5 | VC   | 1.0  |\n",
       "| 16.5 | VC   | 1.0  |\n",
       "| 15.2 | VC   | 1.0  |\n",
       "| 17.3 | VC   | 1.0  |\n",
       "| 22.5 | VC   | 1.0  |\n",
       "| 17.3 | VC   | 1.0  |\n",
       "| 13.6 | VC   | 1.0  |\n",
       "| 14.5 | VC   | 1.0  |\n",
       "| 18.8 | VC   | 1.0  |\n",
       "| 15.5 | VC   | 1.0  |\n",
       "| 23.6 | VC   | 2.0  |\n",
       "| 18.5 | VC   | 2.0  |\n",
       "| 33.9 | VC   | 2.0  |\n",
       "| 25.5 | VC   | 2.0  |\n",
       "| 26.4 | VC   | 2.0  |\n",
       "| 32.5 | VC   | 2.0  |\n",
       "| 26.7 | VC   | 2.0  |\n",
       "| 21.5 | VC   | 2.0  |\n",
       "| 23.3 | VC   | 2.0  |\n",
       "| 29.5 | VC   | 2.0  |\n",
       "| 15.2 | OJ   | 0.5  |\n",
       "| 21.5 | OJ   | 0.5  |\n",
       "| 17.6 | OJ   | 0.5  |\n",
       "|  9.7 | OJ   | 0.5  |\n",
       "| 14.5 | OJ   | 0.5  |\n",
       "| 10.0 | OJ   | 0.5  |\n",
       "|  8.2 | OJ   | 0.5  |\n",
       "|  9.4 | OJ   | 0.5  |\n",
       "| 16.5 | OJ   | 0.5  |\n",
       "|  9.7 | OJ   | 0.5  |\n",
       "| 19.7 | OJ   | 1.0  |\n",
       "| 23.3 | OJ   | 1.0  |\n",
       "| 23.6 | OJ   | 1.0  |\n",
       "| 26.4 | OJ   | 1.0  |\n",
       "| 20.0 | OJ   | 1.0  |\n",
       "| 25.2 | OJ   | 1.0  |\n",
       "| 25.8 | OJ   | 1.0  |\n",
       "| 21.2 | OJ   | 1.0  |\n",
       "| 14.5 | OJ   | 1.0  |\n",
       "| 27.3 | OJ   | 1.0  |\n",
       "| 25.5 | OJ   | 2.0  |\n",
       "| 26.4 | OJ   | 2.0  |\n",
       "| 22.4 | OJ   | 2.0  |\n",
       "| 24.5 | OJ   | 2.0  |\n",
       "| 24.8 | OJ   | 2.0  |\n",
       "| 30.9 | OJ   | 2.0  |\n",
       "| 26.4 | OJ   | 2.0  |\n",
       "| 27.3 | OJ   | 2.0  |\n",
       "| 29.4 | OJ   | 2.0  |\n",
       "| 23.0 | OJ   | 2.0  |\n",
       "\n"
      ],
      "text/plain": [
       "   len  supp dose\n",
       "1   4.2 VC   0.5 \n",
       "2  11.5 VC   0.5 \n",
       "3   7.3 VC   0.5 \n",
       "4   5.8 VC   0.5 \n",
       "5   6.4 VC   0.5 \n",
       "6  10.0 VC   0.5 \n",
       "7  11.2 VC   0.5 \n",
       "8  11.2 VC   0.5 \n",
       "9   5.2 VC   0.5 \n",
       "10  7.0 VC   0.5 \n",
       "11 16.5 VC   1.0 \n",
       "12 16.5 VC   1.0 \n",
       "13 15.2 VC   1.0 \n",
       "14 17.3 VC   1.0 \n",
       "15 22.5 VC   1.0 \n",
       "16 17.3 VC   1.0 \n",
       "17 13.6 VC   1.0 \n",
       "18 14.5 VC   1.0 \n",
       "19 18.8 VC   1.0 \n",
       "20 15.5 VC   1.0 \n",
       "21 23.6 VC   2.0 \n",
       "22 18.5 VC   2.0 \n",
       "23 33.9 VC   2.0 \n",
       "24 25.5 VC   2.0 \n",
       "25 26.4 VC   2.0 \n",
       "26 32.5 VC   2.0 \n",
       "27 26.7 VC   2.0 \n",
       "28 21.5 VC   2.0 \n",
       "29 23.3 VC   2.0 \n",
       "30 29.5 VC   2.0 \n",
       "31 15.2 OJ   0.5 \n",
       "32 21.5 OJ   0.5 \n",
       "33 17.6 OJ   0.5 \n",
       "34  9.7 OJ   0.5 \n",
       "35 14.5 OJ   0.5 \n",
       "36 10.0 OJ   0.5 \n",
       "37  8.2 OJ   0.5 \n",
       "38  9.4 OJ   0.5 \n",
       "39 16.5 OJ   0.5 \n",
       "40  9.7 OJ   0.5 \n",
       "41 19.7 OJ   1.0 \n",
       "42 23.3 OJ   1.0 \n",
       "43 23.6 OJ   1.0 \n",
       "44 26.4 OJ   1.0 \n",
       "45 20.0 OJ   1.0 \n",
       "46 25.2 OJ   1.0 \n",
       "47 25.8 OJ   1.0 \n",
       "48 21.2 OJ   1.0 \n",
       "49 14.5 OJ   1.0 \n",
       "50 27.3 OJ   1.0 \n",
       "51 25.5 OJ   2.0 \n",
       "52 26.4 OJ   2.0 \n",
       "53 22.4 OJ   2.0 \n",
       "54 24.5 OJ   2.0 \n",
       "55 24.8 OJ   2.0 \n",
       "56 30.9 OJ   2.0 \n",
       "57 26.4 OJ   2.0 \n",
       "58 27.3 OJ   2.0 \n",
       "59 29.4 OJ   2.0 \n",
       "60 23.0 OJ   2.0 "
      ]
     },
     "metadata": {},
     "output_type": "display_data"
    }
   ],
   "source": [
    "structure(ToothGrowth)"
   ]
  },
  {
   "cell_type": "code",
   "execution_count": 23,
   "id": "9ac07d16",
   "metadata": {},
   "outputs": [
    {
     "data": {
      "text/html": [
       "<table>\n",
       "<thead><tr><th scope=col>len</th><th scope=col>supp</th><th scope=col>dose</th></tr></thead>\n",
       "<tbody>\n",
       "\t<tr><td> 4.2</td><td>VC  </td><td>0.5 </td></tr>\n",
       "\t<tr><td>11.5</td><td>VC  </td><td>0.5 </td></tr>\n",
       "\t<tr><td> 7.3</td><td>VC  </td><td>0.5 </td></tr>\n",
       "\t<tr><td> 5.8</td><td>VC  </td><td>0.5 </td></tr>\n",
       "\t<tr><td> 6.4</td><td>VC  </td><td>0.5 </td></tr>\n",
       "\t<tr><td>10.0</td><td>VC  </td><td>0.5 </td></tr>\n",
       "</tbody>\n",
       "</table>\n"
      ],
      "text/latex": [
       "\\begin{tabular}{r|lll}\n",
       " len & supp & dose\\\\\n",
       "\\hline\n",
       "\t  4.2 & VC   & 0.5 \\\\\n",
       "\t 11.5 & VC   & 0.5 \\\\\n",
       "\t  7.3 & VC   & 0.5 \\\\\n",
       "\t  5.8 & VC   & 0.5 \\\\\n",
       "\t  6.4 & VC   & 0.5 \\\\\n",
       "\t 10.0 & VC   & 0.5 \\\\\n",
       "\\end{tabular}\n"
      ],
      "text/markdown": [
       "\n",
       "| len | supp | dose |\n",
       "|---|---|---|\n",
       "|  4.2 | VC   | 0.5  |\n",
       "| 11.5 | VC   | 0.5  |\n",
       "|  7.3 | VC   | 0.5  |\n",
       "|  5.8 | VC   | 0.5  |\n",
       "|  6.4 | VC   | 0.5  |\n",
       "| 10.0 | VC   | 0.5  |\n",
       "\n"
      ],
      "text/plain": [
       "  len  supp dose\n",
       "1  4.2 VC   0.5 \n",
       "2 11.5 VC   0.5 \n",
       "3  7.3 VC   0.5 \n",
       "4  5.8 VC   0.5 \n",
       "5  6.4 VC   0.5 \n",
       "6 10.0 VC   0.5 "
      ]
     },
     "metadata": {},
     "output_type": "display_data"
    }
   ],
   "source": [
    "head(ToothGrowth)"
   ]
  },
  {
   "cell_type": "code",
   "execution_count": 24,
   "id": "7696dd3b",
   "metadata": {},
   "outputs": [
    {
     "data": {
      "text/html": [
       "60"
      ],
      "text/latex": [
       "60"
      ],
      "text/markdown": [
       "60"
      ],
      "text/plain": [
       "[1] 60"
      ]
     },
     "metadata": {},
     "output_type": "display_data"
    }
   ],
   "source": [
    "nrow(ToothGrowth)"
   ]
  },
  {
   "cell_type": "code",
   "execution_count": 25,
   "id": "42148fdd",
   "metadata": {},
   "outputs": [
    {
     "data": {
      "text/html": [
       "3"
      ],
      "text/latex": [
       "3"
      ],
      "text/markdown": [
       "3"
      ],
      "text/plain": [
       "[1] 3"
      ]
     },
     "metadata": {},
     "output_type": "display_data"
    }
   ],
   "source": [
    "ncol(ToothGrowth)"
   ]
  },
  {
   "cell_type": "markdown",
   "id": "4a57ad45",
   "metadata": {},
   "source": [
    "<h6 align=\"center\" style=\"font-family: oxanium;font-size: 15px;\">1906354 RUDRASHIS KUMAR DUTTA</h6>"
   ]
  },
  {
   "cell_type": "markdown",
   "id": "bb38ffb5",
   "metadata": {},
   "source": [
    "# 2. Explore any built-in dataset and plot the following\n",
    "\n",
    "* Line Charts\n",
    "\n",
    "* Bar Plot\n",
    "\n",
    "* Histogram\n",
    "\n",
    "* Pie Chart\n",
    "\n",
    "* Dot Plots\n",
    "\n",
    "* Box Plot\n",
    "\n",
    "* Scatter Plot\n",
    "\n",
    "* Kernel Density Plot"
   ]
  },
  {
   "cell_type": "code",
   "execution_count": 26,
   "id": "047ec3e0",
   "metadata": {},
   "outputs": [
    {
     "data": {
      "image/png": "[encoded data removed]",
      "text/plain": [
       "Plot with title \"Line Chart\""
      ]
     },
     "metadata": {},
     "output_type": "display_data"
    }
   ],
   "source": [
    "plot(as.matrix(USArrests), type=\"l\", main=\"Line Chart\")"
   ]
  },
  {
   "cell_type": "code",
   "execution_count": 27,
   "id": "7b3a7d25",
   "metadata": {},
   "outputs": [
    {
     "data": {
      "image/png": "[encoded data removed]",
      "text/plain": [
       "Plot with title \"Bar Plot\""
      ]
     },
     "metadata": {},
     "output_type": "display_data"
    }
   ],
   "source": [
    "barplot(as.matrix(USArrests), main=\"Bar Plot\")"
   ]
  },
  {
   "cell_type": "code",
   "execution_count": 28,
   "id": "dd2e96e8",
   "metadata": {},
   "outputs": [
    {
     "data": {
      "image/png": "[encoded data removed]",
      "text/plain": [
       "Plot with title \"Histogram\""
      ]
     },
     "metadata": {},
     "output_type": "display_data"
    }
   ],
   "source": [
    "hist(as.matrix(USArrests), main=\"Histogram\")"
   ]
  },
  {
   "cell_type": "code",
   "execution_count": 29,
   "id": "dda1758d",
   "metadata": {},
   "outputs": [
    {
     "data": {
      "image/png": "[encoded data removed]",
      "text/plain": [
       "Plot with title \"Pie Chart\""
      ]
     },
     "metadata": {},
     "output_type": "display_data"
    }
   ],
   "source": [
    "pie(as.matrix(USArrests), main=\"Pie Chart\")"
   ]
  },
  {
   "cell_type": "code",
   "execution_count": 30,
   "id": "effd893c",
   "metadata": {},
   "outputs": [
    {
     "data": {
      "image/png": "[encoded data removed]",
      "text/plain": [
       "Plot with title \"Dot Chart\""
      ]
     },
     "metadata": {},
     "output_type": "display_data"
    }
   ],
   "source": [
    "dotchart(as.matrix(USArrests),cex=0.3, main=\"Dot Chart\")"
   ]
  },
  {
   "cell_type": "code",
   "execution_count": 31,
   "id": "5b7fd3a3",
   "metadata": {},
   "outputs": [
    {
     "data": {
      "image/png": "[encoded data removed]",
      "text/plain": [
       "Plot with title \"Box Plot\""
      ]
     },
     "metadata": {},
     "output_type": "display_data"
    }
   ],
   "source": [
    "boxplot(as.matrix(USArrests), main=\"Box Plot\")"
   ]
  },
  {
   "cell_type": "code",
   "execution_count": 32,
   "id": "df1423cb",
   "metadata": {},
   "outputs": [
    {
     "data": {
      "image/png": "[encoded data removed]",
      "text/plain": [
       "plot without title"
      ]
     },
     "metadata": {},
     "output_type": "display_data"
    }
   ],
   "source": [
    "plot(USArrests, main=\"Scatter Plot\")"
   ]
  },
  {
   "cell_type": "code",
   "execution_count": 33,
   "id": "40a094c5",
   "metadata": {},
   "outputs": [
    {
     "data": {
      "image/png": "[encoded data removed]",
      "text/plain": [
       "Plot with title \"Kernel Density Plot\""
      ]
     },
     "metadata": {},
     "output_type": "display_data"
    }
   ],
   "source": [
    "den = density(as.matrix(USArrests))\n",
    "plot(den, main=\"Kernel Density Plot\")"
   ]
  },
  {
   "cell_type": "markdown",
   "id": "3b7e5268",
   "metadata": {},
   "source": [
    "<h6 align=\"center\" style=\"font-family: oxanium;font-size: 15px;\">1906354 RUDRASHIS KUMAR DUTTA</h6>"
   ]
  },
  {
   "cell_type": "markdown",
   "id": "eb5e6154",
   "metadata": {},
   "source": [
    "# 3. List and count the number of packages installed in the workspace"
   ]
  },
  {
   "cell_type": "code",
   "execution_count": 34,
   "id": "c26722da",
   "metadata": {},
   "outputs": [],
   "source": [
    "allPackage <- installed.packages()"
   ]
  },
  {
   "cell_type": "code",
   "execution_count": 35,
   "id": "4dd4e43b",
   "metadata": {
    "scrolled": false
   },
   "outputs": [
    {
     "data": {
      "text/html": [
       "<dl class=dl-horizontal>\n",
       "\t<dt>askpass</dt>\n",
       "\t\t<dd>'askpass'</dd>\n",
       "\t<dt>assertthat</dt>\n",
       "\t\t<dd>'assertthat'</dd>\n",
       "\t<dt>backports</dt>\n",
       "\t\t<dd>'backports'</dd>\n",
       "\t<dt>base</dt>\n",
       "\t\t<dd>'base'</dd>\n",
       "\t<dt>base64enc</dt>\n",
       "\t\t<dd>'base64enc'</dd>\n",
       "\t<dt>BH</dt>\n",
       "\t\t<dd>'BH'</dd>\n",
       "\t<dt>boot</dt>\n",
       "\t\t<dd>'boot'</dd>\n",
       "\t<dt>broom</dt>\n",
       "\t\t<dd>'broom'</dd>\n",
       "\t<dt>callr</dt>\n",
       "\t\t<dd>'callr'</dd>\n",
       "\t<dt>caret</dt>\n",
       "\t\t<dd>'caret'</dd>\n",
       "\t<dt>cellranger</dt>\n",
       "\t\t<dd>'cellranger'</dd>\n",
       "\t<dt>class</dt>\n",
       "\t\t<dd>'class'</dd>\n",
       "\t<dt>cli</dt>\n",
       "\t\t<dd>'cli'</dd>\n",
       "\t<dt>clipr</dt>\n",
       "\t\t<dd>'clipr'</dd>\n",
       "\t<dt>cluster</dt>\n",
       "\t\t<dd>'cluster'</dd>\n",
       "\t<dt>codetools</dt>\n",
       "\t\t<dd>'codetools'</dd>\n",
       "\t<dt>colorspace</dt>\n",
       "\t\t<dd>'colorspace'</dd>\n",
       "\t<dt>compiler</dt>\n",
       "\t\t<dd>'compiler'</dd>\n",
       "\t<dt>crayon</dt>\n",
       "\t\t<dd>'crayon'</dd>\n",
       "\t<dt>curl</dt>\n",
       "\t\t<dd>'curl'</dd>\n",
       "\t<dt>data.table</dt>\n",
       "\t\t<dd>'data.table'</dd>\n",
       "\t<dt>datasets</dt>\n",
       "\t\t<dd>'datasets'</dd>\n",
       "\t<dt>DBI</dt>\n",
       "\t\t<dd>'DBI'</dd>\n",
       "\t<dt>dbplyr</dt>\n",
       "\t\t<dd>'dbplyr'</dd>\n",
       "\t<dt>dichromat</dt>\n",
       "\t\t<dd>'dichromat'</dd>\n",
       "\t<dt>digest</dt>\n",
       "\t\t<dd>'digest'</dd>\n",
       "\t<dt>dplyr</dt>\n",
       "\t\t<dd>'dplyr'</dd>\n",
       "\t<dt>ellipsis</dt>\n",
       "\t\t<dd>'ellipsis'</dd>\n",
       "\t<dt>evaluate</dt>\n",
       "\t\t<dd>'evaluate'</dd>\n",
       "\t<dt>fansi</dt>\n",
       "\t\t<dd>'fansi'</dd>\n",
       "\t<dt>forcats</dt>\n",
       "\t\t<dd>'forcats'</dd>\n",
       "\t<dt>foreach</dt>\n",
       "\t\t<dd>'foreach'</dd>\n",
       "\t<dt>foreign</dt>\n",
       "\t\t<dd>'foreign'</dd>\n",
       "\t<dt>formatR</dt>\n",
       "\t\t<dd>'formatR'</dd>\n",
       "\t<dt>fs</dt>\n",
       "\t\t<dd>'fs'</dd>\n",
       "\t<dt>generics</dt>\n",
       "\t\t<dd>'generics'</dd>\n",
       "\t<dt>ggplot2</dt>\n",
       "\t\t<dd>'ggplot2'</dd>\n",
       "\t<dt>ggplot2movies</dt>\n",
       "\t\t<dd>'ggplot2movies'</dd>\n",
       "\t<dt>glmnet</dt>\n",
       "\t\t<dd>'glmnet'</dd>\n",
       "\t<dt>glue</dt>\n",
       "\t\t<dd>'glue'</dd>\n",
       "\t<dt>gower</dt>\n",
       "\t\t<dd>'gower'</dd>\n",
       "\t<dt>graphics</dt>\n",
       "\t\t<dd>'graphics'</dd>\n",
       "\t<dt>grDevices</dt>\n",
       "\t\t<dd>'grDevices'</dd>\n",
       "\t<dt>grid</dt>\n",
       "\t\t<dd>'grid'</dd>\n",
       "\t<dt>gtable</dt>\n",
       "\t\t<dd>'gtable'</dd>\n",
       "\t<dt>haven</dt>\n",
       "\t\t<dd>'haven'</dd>\n",
       "\t<dt>hexbin</dt>\n",
       "\t\t<dd>'hexbin'</dd>\n",
       "\t<dt>highr</dt>\n",
       "\t\t<dd>'highr'</dd>\n",
       "\t<dt>hms</dt>\n",
       "\t\t<dd>'hms'</dd>\n",
       "\t<dt>htmltools</dt>\n",
       "\t\t<dd>'htmltools'</dd>\n",
       "\t<dt>htmlwidgets</dt>\n",
       "\t\t<dd>'htmlwidgets'</dd>\n",
       "\t<dt>httpuv</dt>\n",
       "\t\t<dd>'httpuv'</dd>\n",
       "\t<dt>httr</dt>\n",
       "\t\t<dd>'httr'</dd>\n",
       "\t<dt>ipred</dt>\n",
       "\t\t<dd>'ipred'</dd>\n",
       "\t<dt>IRdisplay</dt>\n",
       "\t\t<dd>'IRdisplay'</dd>\n",
       "\t<dt>IRkernel</dt>\n",
       "\t\t<dd>'IRkernel'</dd>\n",
       "\t<dt>isoband</dt>\n",
       "\t\t<dd>'isoband'</dd>\n",
       "\t<dt>iterators</dt>\n",
       "\t\t<dd>'iterators'</dd>\n",
       "\t<dt>jsonlite</dt>\n",
       "\t\t<dd>'jsonlite'</dd>\n",
       "\t<dt>KernSmooth</dt>\n",
       "\t\t<dd>'KernSmooth'</dd>\n",
       "\t<dt>knitr</dt>\n",
       "\t\t<dd>'knitr'</dd>\n",
       "\t<dt>labeling</dt>\n",
       "\t\t<dd>'labeling'</dd>\n",
       "\t<dt>later</dt>\n",
       "\t\t<dd>'later'</dd>\n",
       "\t<dt>lattice</dt>\n",
       "\t\t<dd>'lattice'</dd>\n",
       "\t<dt>lava</dt>\n",
       "\t\t<dd>'lava'</dd>\n",
       "\t<dt>lazyeval</dt>\n",
       "\t\t<dd>'lazyeval'</dd>\n",
       "\t<dt>lubridate</dt>\n",
       "\t\t<dd>'lubridate'</dd>\n",
       "\t<dt>magrittr</dt>\n",
       "\t\t<dd>'magrittr'</dd>\n",
       "\t<dt>maps</dt>\n",
       "\t\t<dd>'maps'</dd>\n",
       "\t<dt>markdown</dt>\n",
       "\t\t<dd>'markdown'</dd>\n",
       "\t<dt>MASS</dt>\n",
       "\t\t<dd>'MASS'</dd>\n",
       "\t<dt>Matrix</dt>\n",
       "\t\t<dd>'Matrix'</dd>\n",
       "\t<dt>methods</dt>\n",
       "\t\t<dd>'methods'</dd>\n",
       "\t<dt>mgcv</dt>\n",
       "\t\t<dd>'mgcv'</dd>\n",
       "\t<dt>mime</dt>\n",
       "\t\t<dd>'mime'</dd>\n",
       "\t<dt>ModelMetrics</dt>\n",
       "\t\t<dd>'ModelMetrics'</dd>\n",
       "\t<dt>modelr</dt>\n",
       "\t\t<dd>'modelr'</dd>\n",
       "\t<dt>munsell</dt>\n",
       "\t\t<dd>'munsell'</dd>\n",
       "\t<dt>nlme</dt>\n",
       "\t\t<dd>'nlme'</dd>\n",
       "\t<dt>nnet</dt>\n",
       "\t\t<dd>'nnet'</dd>\n",
       "\t<dt>numDeriv</dt>\n",
       "\t\t<dd>'numDeriv'</dd>\n",
       "\t<dt>openssl</dt>\n",
       "\t\t<dd>'openssl'</dd>\n",
       "\t<dt>parallel</dt>\n",
       "\t\t<dd>'parallel'</dd>\n",
       "\t<dt>pbdZMQ</dt>\n",
       "\t\t<dd>'pbdZMQ'</dd>\n",
       "\t<dt>pillar</dt>\n",
       "\t\t<dd>'pillar'</dd>\n",
       "\t<dt>pkgconfig</dt>\n",
       "\t\t<dd>'pkgconfig'</dd>\n",
       "\t<dt>plogr</dt>\n",
       "\t\t<dd>'plogr'</dd>\n",
       "\t<dt>plyr</dt>\n",
       "\t\t<dd>'plyr'</dd>\n",
       "\t<dt>prettyunits</dt>\n",
       "\t\t<dd>'prettyunits'</dd>\n",
       "\t<dt>processx</dt>\n",
       "\t\t<dd>'processx'</dd>\n",
       "\t<dt>prodlim</dt>\n",
       "\t\t<dd>'prodlim'</dd>\n",
       "\t<dt>progress</dt>\n",
       "\t\t<dd>'progress'</dd>\n",
       "\t<dt>promises</dt>\n",
       "\t\t<dd>'promises'</dd>\n",
       "\t<dt>ps</dt>\n",
       "\t\t<dd>'ps'</dd>\n",
       "\t<dt>purrr</dt>\n",
       "\t\t<dd>'purrr'</dd>\n",
       "\t<dt>quantmod</dt>\n",
       "\t\t<dd>'quantmod'</dd>\n",
       "\t<dt>R6</dt>\n",
       "\t\t<dd>'R6'</dd>\n",
       "\t<dt>randomForest</dt>\n",
       "\t\t<dd>'randomForest'</dd>\n",
       "\t<dt>rbokeh</dt>\n",
       "\t\t<dd>'rbokeh'</dd>\n",
       "\t<dt>RColorBrewer</dt>\n",
       "\t\t<dd>'RColorBrewer'</dd>\n",
       "\t<dt>Rcpp</dt>\n",
       "\t\t<dd>'Rcpp'</dd>\n",
       "\t<dt>RcppRoll</dt>\n",
       "\t\t<dd>'RcppRoll'</dd>\n",
       "\t<dt>readr</dt>\n",
       "\t\t<dd>'readr'</dd>\n",
       "\t<dt>readxl</dt>\n",
       "\t\t<dd>'readxl'</dd>\n",
       "\t<dt>recipes</dt>\n",
       "\t\t<dd>'recipes'</dd>\n",
       "\t<dt>rematch</dt>\n",
       "\t\t<dd>'rematch'</dd>\n",
       "\t<dt>repr</dt>\n",
       "\t\t<dd>'repr'</dd>\n",
       "\t<dt>reprex</dt>\n",
       "\t\t<dd>'reprex'</dd>\n",
       "\t<dt>reshape2</dt>\n",
       "\t\t<dd>'reshape2'</dd>\n",
       "\t<dt>rlang</dt>\n",
       "\t\t<dd>'rlang'</dd>\n",
       "\t<dt>rmarkdown</dt>\n",
       "\t\t<dd>'rmarkdown'</dd>\n",
       "\t<dt>rpart</dt>\n",
       "\t\t<dd>'rpart'</dd>\n",
       "\t<dt>rstudioapi</dt>\n",
       "\t\t<dd>'rstudioapi'</dd>\n",
       "\t<dt>rvest</dt>\n",
       "\t\t<dd>'rvest'</dd>\n",
       "\t<dt>scales</dt>\n",
       "\t\t<dd>'scales'</dd>\n",
       "\t<dt>selectr</dt>\n",
       "\t\t<dd>'selectr'</dd>\n",
       "\t<dt>shiny</dt>\n",
       "\t\t<dd>'shiny'</dd>\n",
       "\t<dt>sourcetools</dt>\n",
       "\t\t<dd>'sourcetools'</dd>\n",
       "\t<dt>spatial</dt>\n",
       "\t\t<dd>'spatial'</dd>\n",
       "\t<dt>splines</dt>\n",
       "\t\t<dd>'splines'</dd>\n",
       "\t<dt>SQUAREM</dt>\n",
       "\t\t<dd>'SQUAREM'</dd>\n",
       "\t<dt>stats</dt>\n",
       "\t\t<dd>'stats'</dd>\n",
       "\t<dt>stats4</dt>\n",
       "\t\t<dd>'stats4'</dd>\n",
       "\t<dt>stringi</dt>\n",
       "\t\t<dd>'stringi'</dd>\n",
       "\t<dt>stringr</dt>\n",
       "\t\t<dd>'stringr'</dd>\n",
       "\t<dt>survival</dt>\n",
       "\t\t<dd>'survival'</dd>\n",
       "\t<dt>sys</dt>\n",
       "\t\t<dd>'sys'</dd>\n",
       "\t<dt>tcltk</dt>\n",
       "\t\t<dd>'tcltk'</dd>\n",
       "\t<dt>tibble</dt>\n",
       "\t\t<dd>'tibble'</dd>\n",
       "\t<dt>tidyr</dt>\n",
       "\t\t<dd>'tidyr'</dd>\n",
       "\t<dt>tidyselect</dt>\n",
       "\t\t<dd>'tidyselect'</dd>\n",
       "\t<dt>tidyverse</dt>\n",
       "\t\t<dd>'tidyverse'</dd>\n",
       "\t<dt>timeDate</dt>\n",
       "\t\t<dd>'timeDate'</dd>\n",
       "\t<dt>tinytex</dt>\n",
       "\t\t<dd>'tinytex'</dd>\n",
       "\t<dt>tools</dt>\n",
       "\t\t<dd>'tools'</dd>\n",
       "\t<dt>translations</dt>\n",
       "\t\t<dd>'translations'</dd>\n",
       "\t<dt>TTR</dt>\n",
       "\t\t<dd>'TTR'</dd>\n",
       "\t<dt>utf8</dt>\n",
       "\t\t<dd>'utf8'</dd>\n",
       "\t<dt>utils</dt>\n",
       "\t\t<dd>'utils'</dd>\n",
       "\t<dt>uuid</dt>\n",
       "\t\t<dd>'uuid'</dd>\n",
       "\t<dt>viridisLite</dt>\n",
       "\t\t<dd>'viridisLite'</dd>\n",
       "\t<dt>whisker</dt>\n",
       "\t\t<dd>'whisker'</dd>\n",
       "\t<dt>withr</dt>\n",
       "\t\t<dd>'withr'</dd>\n",
       "\t<dt>xfun</dt>\n",
       "\t\t<dd>'xfun'</dd>\n",
       "\t<dt>xml2</dt>\n",
       "\t\t<dd>'xml2'</dd>\n",
       "\t<dt>xtable</dt>\n",
       "\t\t<dd>'xtable'</dd>\n",
       "\t<dt>xts</dt>\n",
       "\t\t<dd>'xts'</dd>\n",
       "\t<dt>yaml</dt>\n",
       "\t\t<dd>'yaml'</dd>\n",
       "\t<dt>zoo</dt>\n",
       "\t\t<dd>'zoo'</dd>\n",
       "</dl>\n"
      ],
      "text/latex": [
       "\\begin{description*}\n",
       "\\item[askpass] 'askpass'\n",
       "\\item[assertthat] 'assertthat'\n",
       "\\item[backports] 'backports'\n",
       "\\item[base] 'base'\n",
       "\\item[base64enc] 'base64enc'\n",
       "\\item[BH] 'BH'\n",
       "\\item[boot] 'boot'\n",
       "\\item[broom] 'broom'\n",
       "\\item[callr] 'callr'\n",
       "\\item[caret] 'caret'\n",
       "\\item[cellranger] 'cellranger'\n",
       "\\item[class] 'class'\n",
       "\\item[cli] 'cli'\n",
       "\\item[clipr] 'clipr'\n",
       "\\item[cluster] 'cluster'\n",
       "\\item[codetools] 'codetools'\n",
       "\\item[colorspace] 'colorspace'\n",
       "\\item[compiler] 'compiler'\n",
       "\\item[crayon] 'crayon'\n",
       "\\item[curl] 'curl'\n",
       "\\item[data.table] 'data.table'\n",
       "\\item[datasets] 'datasets'\n",
       "\\item[DBI] 'DBI'\n",
       "\\item[dbplyr] 'dbplyr'\n",
       "\\item[dichromat] 'dichromat'\n",
       "\\item[digest] 'digest'\n",
       "\\item[dplyr] 'dplyr'\n",
       "\\item[ellipsis] 'ellipsis'\n",
       "\\item[evaluate] 'evaluate'\n",
       "\\item[fansi] 'fansi'\n",
       "\\item[forcats] 'forcats'\n",
       "\\item[foreach] 'foreach'\n",
       "\\item[foreign] 'foreign'\n",
       "\\item[formatR] 'formatR'\n",
       "\\item[fs] 'fs'\n",
       "\\item[generics] 'generics'\n",
       "\\item[ggplot2] 'ggplot2'\n",
       "\\item[ggplot2movies] 'ggplot2movies'\n",
       "\\item[glmnet] 'glmnet'\n",
       "\\item[glue] 'glue'\n",
       "\\item[gower] 'gower'\n",
       "\\item[graphics] 'graphics'\n",
       "\\item[grDevices] 'grDevices'\n",
       "\\item[grid] 'grid'\n",
       "\\item[gtable] 'gtable'\n",
       "\\item[haven] 'haven'\n",
       "\\item[hexbin] 'hexbin'\n",
       "\\item[highr] 'highr'\n",
       "\\item[hms] 'hms'\n",
       "\\item[htmltools] 'htmltools'\n",
       "\\item[htmlwidgets] 'htmlwidgets'\n",
       "\\item[httpuv] 'httpuv'\n",
       "\\item[httr] 'httr'\n",
       "\\item[ipred] 'ipred'\n",
       "\\item[IRdisplay] 'IRdisplay'\n",
       "\\item[IRkernel] 'IRkernel'\n",
       "\\item[isoband] 'isoband'\n",
       "\\item[iterators] 'iterators'\n",
       "\\item[jsonlite] 'jsonlite'\n",
       "\\item[KernSmooth] 'KernSmooth'\n",
       "\\item[knitr] 'knitr'\n",
       "\\item[labeling] 'labeling'\n",
       "\\item[later] 'later'\n",
       "\\item[lattice] 'lattice'\n",
       "\\item[lava] 'lava'\n",
       "\\item[lazyeval] 'lazyeval'\n",
       "\\item[lubridate] 'lubridate'\n",
       "\\item[magrittr] 'magrittr'\n",
       "\\item[maps] 'maps'\n",
       "\\item[markdown] 'markdown'\n",
       "\\item[MASS] 'MASS'\n",
       "\\item[Matrix] 'Matrix'\n",
       "\\item[methods] 'methods'\n",
       "\\item[mgcv] 'mgcv'\n",
       "\\item[mime] 'mime'\n",
       "\\item[ModelMetrics] 'ModelMetrics'\n",
       "\\item[modelr] 'modelr'\n",
       "\\item[munsell] 'munsell'\n",
       "\\item[nlme] 'nlme'\n",
       "\\item[nnet] 'nnet'\n",
       "\\item[numDeriv] 'numDeriv'\n",
       "\\item[openssl] 'openssl'\n",
       "\\item[parallel] 'parallel'\n",
       "\\item[pbdZMQ] 'pbdZMQ'\n",
       "\\item[pillar] 'pillar'\n",
       "\\item[pkgconfig] 'pkgconfig'\n",
       "\\item[plogr] 'plogr'\n",
       "\\item[plyr] 'plyr'\n",
       "\\item[prettyunits] 'prettyunits'\n",
       "\\item[processx] 'processx'\n",
       "\\item[prodlim] 'prodlim'\n",
       "\\item[progress] 'progress'\n",
       "\\item[promises] 'promises'\n",
       "\\item[ps] 'ps'\n",
       "\\item[purrr] 'purrr'\n",
       "\\item[quantmod] 'quantmod'\n",
       "\\item[R6] 'R6'\n",
       "\\item[randomForest] 'randomForest'\n",
       "\\item[rbokeh] 'rbokeh'\n",
       "\\item[RColorBrewer] 'RColorBrewer'\n",
       "\\item[Rcpp] 'Rcpp'\n",
       "\\item[RcppRoll] 'RcppRoll'\n",
       "\\item[readr] 'readr'\n",
       "\\item[readxl] 'readxl'\n",
       "\\item[recipes] 'recipes'\n",
       "\\item[rematch] 'rematch'\n",
       "\\item[repr] 'repr'\n",
       "\\item[reprex] 'reprex'\n",
       "\\item[reshape2] 'reshape2'\n",
       "\\item[rlang] 'rlang'\n",
       "\\item[rmarkdown] 'rmarkdown'\n",
       "\\item[rpart] 'rpart'\n",
       "\\item[rstudioapi] 'rstudioapi'\n",
       "\\item[rvest] 'rvest'\n",
       "\\item[scales] 'scales'\n",
       "\\item[selectr] 'selectr'\n",
       "\\item[shiny] 'shiny'\n",
       "\\item[sourcetools] 'sourcetools'\n",
       "\\item[spatial] 'spatial'\n",
       "\\item[splines] 'splines'\n",
       "\\item[SQUAREM] 'SQUAREM'\n",
       "\\item[stats] 'stats'\n",
       "\\item[stats4] 'stats4'\n",
       "\\item[stringi] 'stringi'\n",
       "\\item[stringr] 'stringr'\n",
       "\\item[survival] 'survival'\n",
       "\\item[sys] 'sys'\n",
       "\\item[tcltk] 'tcltk'\n",
       "\\item[tibble] 'tibble'\n",
       "\\item[tidyr] 'tidyr'\n",
       "\\item[tidyselect] 'tidyselect'\n",
       "\\item[tidyverse] 'tidyverse'\n",
       "\\item[timeDate] 'timeDate'\n",
       "\\item[tinytex] 'tinytex'\n",
       "\\item[tools] 'tools'\n",
       "\\item[translations] 'translations'\n",
       "\\item[TTR] 'TTR'\n",
       "\\item[utf8] 'utf8'\n",
       "\\item[utils] 'utils'\n",
       "\\item[uuid] 'uuid'\n",
       "\\item[viridisLite] 'viridisLite'\n",
       "\\item[whisker] 'whisker'\n",
       "\\item[withr] 'withr'\n",
       "\\item[xfun] 'xfun'\n",
       "\\item[xml2] 'xml2'\n",
       "\\item[xtable] 'xtable'\n",
       "\\item[xts] 'xts'\n",
       "\\item[yaml] 'yaml'\n",
       "\\item[zoo] 'zoo'\n",
       "\\end{description*}\n"
      ],
      "text/markdown": [
       "askpass\n",
       ":   'askpass'assertthat\n",
       ":   'assertthat'backports\n",
       ":   'backports'base\n",
       ":   'base'base64enc\n",
       ":   'base64enc'BH\n",
       ":   'BH'boot\n",
       ":   'boot'broom\n",
       ":   'broom'callr\n",
       ":   'callr'caret\n",
       ":   'caret'cellranger\n",
       ":   'cellranger'class\n",
       ":   'class'cli\n",
       ":   'cli'clipr\n",
       ":   'clipr'cluster\n",
       ":   'cluster'codetools\n",
       ":   'codetools'colorspace\n",
       ":   'colorspace'compiler\n",
       ":   'compiler'crayon\n",
       ":   'crayon'curl\n",
       ":   'curl'data.table\n",
       ":   'data.table'datasets\n",
       ":   'datasets'DBI\n",
       ":   'DBI'dbplyr\n",
       ":   'dbplyr'dichromat\n",
       ":   'dichromat'digest\n",
       ":   'digest'dplyr\n",
       ":   'dplyr'ellipsis\n",
       ":   'ellipsis'evaluate\n",
       ":   'evaluate'fansi\n",
       ":   'fansi'forcats\n",
       ":   'forcats'foreach\n",
       ":   'foreach'foreign\n",
       ":   'foreign'formatR\n",
       ":   'formatR'fs\n",
       ":   'fs'generics\n",
       ":   'generics'ggplot2\n",
       ":   'ggplot2'ggplot2movies\n",
       ":   'ggplot2movies'glmnet\n",
       ":   'glmnet'glue\n",
       ":   'glue'gower\n",
       ":   'gower'graphics\n",
       ":   'graphics'grDevices\n",
       ":   'grDevices'grid\n",
       ":   'grid'gtable\n",
       ":   'gtable'haven\n",
       ":   'haven'hexbin\n",
       ":   'hexbin'highr\n",
       ":   'highr'hms\n",
       ":   'hms'htmltools\n",
       ":   'htmltools'htmlwidgets\n",
       ":   'htmlwidgets'httpuv\n",
       ":   'httpuv'httr\n",
       ":   'httr'ipred\n",
       ":   'ipred'IRdisplay\n",
       ":   'IRdisplay'IRkernel\n",
       ":   'IRkernel'isoband\n",
       ":   'isoband'iterators\n",
       ":   'iterators'jsonlite\n",
       ":   'jsonlite'KernSmooth\n",
       ":   'KernSmooth'knitr\n",
       ":   'knitr'labeling\n",
       ":   'labeling'later\n",
       ":   'later'lattice\n",
       ":   'lattice'lava\n",
       ":   'lava'lazyeval\n",
       ":   'lazyeval'lubridate\n",
       ":   'lubridate'magrittr\n",
       ":   'magrittr'maps\n",
       ":   'maps'markdown\n",
       ":   'markdown'MASS\n",
       ":   'MASS'Matrix\n",
       ":   'Matrix'methods\n",
       ":   'methods'mgcv\n",
       ":   'mgcv'mime\n",
       ":   'mime'ModelMetrics\n",
       ":   'ModelMetrics'modelr\n",
       ":   'modelr'munsell\n",
       ":   'munsell'nlme\n",
       ":   'nlme'nnet\n",
       ":   'nnet'numDeriv\n",
       ":   'numDeriv'openssl\n",
       ":   'openssl'parallel\n",
       ":   'parallel'pbdZMQ\n",
       ":   'pbdZMQ'pillar\n",
       ":   'pillar'pkgconfig\n",
       ":   'pkgconfig'plogr\n",
       ":   'plogr'plyr\n",
       ":   'plyr'prettyunits\n",
       ":   'prettyunits'processx\n",
       ":   'processx'prodlim\n",
       ":   'prodlim'progress\n",
       ":   'progress'promises\n",
       ":   'promises'ps\n",
       ":   'ps'purrr\n",
       ":   'purrr'quantmod\n",
       ":   'quantmod'R6\n",
       ":   'R6'randomForest\n",
       ":   'randomForest'rbokeh\n",
       ":   'rbokeh'RColorBrewer\n",
       ":   'RColorBrewer'Rcpp\n",
       ":   'Rcpp'RcppRoll\n",
       ":   'RcppRoll'readr\n",
       ":   'readr'readxl\n",
       ":   'readxl'recipes\n",
       ":   'recipes'rematch\n",
       ":   'rematch'repr\n",
       ":   'repr'reprex\n",
       ":   'reprex'reshape2\n",
       ":   'reshape2'rlang\n",
       ":   'rlang'rmarkdown\n",
       ":   'rmarkdown'rpart\n",
       ":   'rpart'rstudioapi\n",
       ":   'rstudioapi'rvest\n",
       ":   'rvest'scales\n",
       ":   'scales'selectr\n",
       ":   'selectr'shiny\n",
       ":   'shiny'sourcetools\n",
       ":   'sourcetools'spatial\n",
       ":   'spatial'splines\n",
       ":   'splines'SQUAREM\n",
       ":   'SQUAREM'stats\n",
       ":   'stats'stats4\n",
       ":   'stats4'stringi\n",
       ":   'stringi'stringr\n",
       ":   'stringr'survival\n",
       ":   'survival'sys\n",
       ":   'sys'tcltk\n",
       ":   'tcltk'tibble\n",
       ":   'tibble'tidyr\n",
       ":   'tidyr'tidyselect\n",
       ":   'tidyselect'tidyverse\n",
       ":   'tidyverse'timeDate\n",
       ":   'timeDate'tinytex\n",
       ":   'tinytex'tools\n",
       ":   'tools'translations\n",
       ":   'translations'TTR\n",
       ":   'TTR'utf8\n",
       ":   'utf8'utils\n",
       ":   'utils'uuid\n",
       ":   'uuid'viridisLite\n",
       ":   'viridisLite'whisker\n",
       ":   'whisker'withr\n",
       ":   'withr'xfun\n",
       ":   'xfun'xml2\n",
       ":   'xml2'xtable\n",
       ":   'xtable'xts\n",
       ":   'xts'yaml\n",
       ":   'yaml'zoo\n",
       ":   'zoo'\n",
       "\n"
      ],
      "text/plain": [
       "        askpass      assertthat       backports            base       base64enc \n",
       "      \"askpass\"    \"assertthat\"     \"backports\"          \"base\"     \"base64enc\" \n",
       "             BH            boot           broom           callr           caret \n",
       "           \"BH\"          \"boot\"         \"broom\"         \"callr\"         \"caret\" \n",
       "     cellranger           class             cli           clipr         cluster \n",
       "   \"cellranger\"         \"class\"           \"cli\"         \"clipr\"       \"cluster\" \n",
       "      codetools      colorspace        compiler          crayon            curl \n",
       "    \"codetools\"    \"colorspace\"      \"compiler\"        \"crayon\"          \"curl\" \n",
       "     data.table        datasets             DBI          dbplyr       dichromat \n",
       "   \"data.table\"      \"datasets\"           \"DBI\"        \"dbplyr\"     \"dichromat\" \n",
       "         digest           dplyr        ellipsis        evaluate           fansi \n",
       "       \"digest\"         \"dplyr\"      \"ellipsis\"      \"evaluate\"         \"fansi\" \n",
       "        forcats         foreach         foreign         formatR              fs \n",
       "      \"forcats\"       \"foreach\"       \"foreign\"       \"formatR\"            \"fs\" \n",
       "       generics         ggplot2   ggplot2movies          glmnet            glue \n",
       "     \"generics\"       \"ggplot2\" \"ggplot2movies\"        \"glmnet\"          \"glue\" \n",
       "          gower        graphics       grDevices            grid          gtable \n",
       "        \"gower\"      \"graphics\"     \"grDevices\"          \"grid\"        \"gtable\" \n",
       "          haven          hexbin           highr             hms       htmltools \n",
       "        \"haven\"        \"hexbin\"         \"highr\"           \"hms\"     \"htmltools\" \n",
       "    htmlwidgets          httpuv            httr           ipred       IRdisplay \n",
       "  \"htmlwidgets\"        \"httpuv\"          \"httr\"         \"ipred\"     \"IRdisplay\" \n",
       "       IRkernel         isoband       iterators        jsonlite      KernSmooth \n",
       "     \"IRkernel\"       \"isoband\"     \"iterators\"      \"jsonlite\"    \"KernSmooth\" \n",
       "          knitr        labeling           later         lattice            lava \n",
       "        \"knitr\"      \"labeling\"         \"later\"       \"lattice\"          \"lava\" \n",
       "       lazyeval       lubridate        magrittr            maps        markdown \n",
       "     \"lazyeval\"     \"lubridate\"      \"magrittr\"          \"maps\"      \"markdown\" \n",
       "           MASS          Matrix         methods            mgcv            mime \n",
       "         \"MASS\"        \"Matrix\"       \"methods\"          \"mgcv\"          \"mime\" \n",
       "   ModelMetrics          modelr         munsell            nlme            nnet \n",
       " \"ModelMetrics\"        \"modelr\"       \"munsell\"          \"nlme\"          \"nnet\" \n",
       "       numDeriv         openssl        parallel          pbdZMQ          pillar \n",
       "     \"numDeriv\"       \"openssl\"      \"parallel\"        \"pbdZMQ\"        \"pillar\" \n",
       "      pkgconfig           plogr            plyr     prettyunits        processx \n",
       "    \"pkgconfig\"         \"plogr\"          \"plyr\"   \"prettyunits\"      \"processx\" \n",
       "        prodlim        progress        promises              ps           purrr \n",
       "      \"prodlim\"      \"progress\"      \"promises\"            \"ps\"         \"purrr\" \n",
       "       quantmod              R6    randomForest          rbokeh    RColorBrewer \n",
       "     \"quantmod\"            \"R6\"  \"randomForest\"        \"rbokeh\"  \"RColorBrewer\" \n",
       "           Rcpp        RcppRoll           readr          readxl         recipes \n",
       "         \"Rcpp\"      \"RcppRoll\"         \"readr\"        \"readxl\"       \"recipes\" \n",
       "        rematch            repr          reprex        reshape2           rlang \n",
       "      \"rematch\"          \"repr\"        \"reprex\"      \"reshape2\"         \"rlang\" \n",
       "      rmarkdown           rpart      rstudioapi           rvest          scales \n",
       "    \"rmarkdown\"         \"rpart\"    \"rstudioapi\"         \"rvest\"        \"scales\" \n",
       "        selectr           shiny     sourcetools         spatial         splines \n",
       "      \"selectr\"         \"shiny\"   \"sourcetools\"       \"spatial\"       \"splines\" \n",
       "        SQUAREM           stats          stats4         stringi         stringr \n",
       "      \"SQUAREM\"         \"stats\"        \"stats4\"       \"stringi\"       \"stringr\" \n",
       "       survival             sys           tcltk          tibble           tidyr \n",
       "     \"survival\"           \"sys\"         \"tcltk\"        \"tibble\"         \"tidyr\" \n",
       "     tidyselect       tidyverse        timeDate         tinytex           tools \n",
       "   \"tidyselect\"     \"tidyverse\"      \"timeDate\"       \"tinytex\"         \"tools\" \n",
       "   translations             TTR            utf8           utils            uuid \n",
       " \"translations\"           \"TTR\"          \"utf8\"         \"utils\"          \"uuid\" \n",
       "    viridisLite         whisker           withr            xfun            xml2 \n",
       "  \"viridisLite\"       \"whisker\"         \"withr\"          \"xfun\"          \"xml2\" \n",
       "         xtable             xts            yaml             zoo \n",
       "       \"xtable\"           \"xts\"          \"yaml\"           \"zoo\" "
      ]
     },
     "metadata": {},
     "output_type": "display_data"
    }
   ],
   "source": [
    "packages <- allPackage[, 'Package']\n",
    "packages"
   ]
  },
  {
   "cell_type": "code",
   "execution_count": 36,
   "id": "26b220a2",
   "metadata": {},
   "outputs": [
    {
     "data": {
      "text/html": [
       "149"
      ],
      "text/latex": [
       "149"
      ],
      "text/markdown": [
       "149"
      ],
      "text/plain": [
       "[1] 149"
      ]
     },
     "metadata": {},
     "output_type": "display_data"
    }
   ],
   "source": [
    "length(packages)"
   ]
  },
  {
   "cell_type": "markdown",
   "id": "ec6ece03",
   "metadata": {},
   "source": [
    "<h6 align=\"center\" style=\"font-family: oxanium;font-size: 15px;\">1906354 RUDRASHIS KUMAR DUTTA</h6>"
   ]
  },
  {
   "cell_type": "markdown",
   "id": "badb01f2",
   "metadata": {},
   "source": [
    "# 4. Draw a Bubble Chart using ggplot2 package"
   ]
  },
  {
   "cell_type": "code",
   "execution_count": 37,
   "id": "c5d104f4",
   "metadata": {},
   "outputs": [],
   "source": [
    "library(ggplot2)"
   ]
  },
  {
   "cell_type": "code",
   "execution_count": 38,
   "id": "af937406",
   "metadata": {},
   "outputs": [
    {
     "data": {
      "text/html": [
       "<table>\n",
       "<thead><tr><th scope=col>x</th><th scope=col>y</th><th scope=col>r</th></tr></thead>\n",
       "<tbody>\n",
       "\t<tr><td> 12</td><td>12 </td><td> 1 </td></tr>\n",
       "\t<tr><td> 23</td><td>54 </td><td> 5 </td></tr>\n",
       "\t<tr><td> 43</td><td>34 </td><td>13 </td></tr>\n",
       "\t<tr><td> 61</td><td>76 </td><td> 8 </td></tr>\n",
       "\t<tr><td> 78</td><td>54 </td><td>12 </td></tr>\n",
       "\t<tr><td> 54</td><td>23 </td><td> 3 </td></tr>\n",
       "\t<tr><td> 34</td><td>43 </td><td> 2 </td></tr>\n",
       "\t<tr><td> 76</td><td>61 </td><td>16 </td></tr>\n",
       "\t<tr><td> 58</td><td>78 </td><td> 7 </td></tr>\n",
       "\t<tr><td>103</td><td>23 </td><td>40 </td></tr>\n",
       "\t<tr><td> 39</td><td>12 </td><td>23 </td></tr>\n",
       "\t<tr><td> 46</td><td>34 </td><td>45 </td></tr>\n",
       "\t<tr><td> 52</td><td>56 </td><td>76 </td></tr>\n",
       "\t<tr><td> 33</td><td>98 </td><td> 8 </td></tr>\n",
       "\t<tr><td> 11</td><td>67 </td><td> 7 </td></tr>\n",
       "\t<tr><td>  9</td><td>36 </td><td>41 </td></tr>\n",
       "\t<tr><td> 60</td><td>54 </td><td>23 </td></tr>\n",
       "</tbody>\n",
       "</table>\n"
      ],
      "text/latex": [
       "\\begin{tabular}{r|lll}\n",
       " x & y & r\\\\\n",
       "\\hline\n",
       "\t  12 & 12  &  1 \\\\\n",
       "\t  23 & 54  &  5 \\\\\n",
       "\t  43 & 34  & 13 \\\\\n",
       "\t  61 & 76  &  8 \\\\\n",
       "\t  78 & 54  & 12 \\\\\n",
       "\t  54 & 23  &  3 \\\\\n",
       "\t  34 & 43  &  2 \\\\\n",
       "\t  76 & 61  & 16 \\\\\n",
       "\t  58 & 78  &  7 \\\\\n",
       "\t 103 & 23  & 40 \\\\\n",
       "\t  39 & 12  & 23 \\\\\n",
       "\t  46 & 34  & 45 \\\\\n",
       "\t  52 & 56  & 76 \\\\\n",
       "\t  33 & 98  &  8 \\\\\n",
       "\t  11 & 67  &  7 \\\\\n",
       "\t   9 & 36  & 41 \\\\\n",
       "\t  60 & 54  & 23 \\\\\n",
       "\\end{tabular}\n"
      ],
      "text/markdown": [
       "\n",
       "| x | y | r |\n",
       "|---|---|---|\n",
       "|  12 | 12  |  1  |\n",
       "|  23 | 54  |  5  |\n",
       "|  43 | 34  | 13  |\n",
       "|  61 | 76  |  8  |\n",
       "|  78 | 54  | 12  |\n",
       "|  54 | 23  |  3  |\n",
       "|  34 | 43  |  2  |\n",
       "|  76 | 61  | 16  |\n",
       "|  58 | 78  |  7  |\n",
       "| 103 | 23  | 40  |\n",
       "|  39 | 12  | 23  |\n",
       "|  46 | 34  | 45  |\n",
       "|  52 | 56  | 76  |\n",
       "|  33 | 98  |  8  |\n",
       "|  11 | 67  |  7  |\n",
       "|   9 | 36  | 41  |\n",
       "|  60 | 54  | 23  |\n",
       "\n"
      ],
      "text/plain": [
       "   x   y  r \n",
       "1   12 12  1\n",
       "2   23 54  5\n",
       "3   43 34 13\n",
       "4   61 76  8\n",
       "5   78 54 12\n",
       "6   54 23  3\n",
       "7   34 43  2\n",
       "8   76 61 16\n",
       "9   58 78  7\n",
       "10 103 23 40\n",
       "11  39 12 23\n",
       "12  46 34 45\n",
       "13  52 56 76\n",
       "14  33 98  8\n",
       "15  11 67  7\n",
       "16   9 36 41\n",
       "17  60 54 23"
      ]
     },
     "metadata": {},
     "output_type": "display_data"
    }
   ],
   "source": [
    "x <- c(12,23,43,61,78,54,34,76,58,103,39,46,52,33,11,9,60)\n",
    "y <- c(12,54,34,76,54,23,43,61,78,23,12,34,56,98,67,36,54)\n",
    "r <- c(1,5,13,8,12,3,2,16,7,40,23,45,76,8,7,41,23)\n",
    "\n",
    "data <- data.frame(x, y, r)\n",
    "data"
   ]
  },
  {
   "cell_type": "code",
   "execution_count": 39,
   "id": "e1f2b7ca",
   "metadata": {},
   "outputs": [
    {
     "data": {
      "image/png": "[encoded data removed]",
      "text/plain": [
       "plot without title"
      ]
     },
     "metadata": {},
     "output_type": "display_data"
    }
   ],
   "source": [
    "ggplot(data, aes(x = x, y = y,size = r))+ geom_point(alpha = 0.7)"
   ]
  },
  {
   "cell_type": "markdown",
   "id": "d7b3e935",
   "metadata": {},
   "source": [
    "<h6 align=\"center\" style=\"font-family: oxanium;font-size: 15px;\">1906354 RUDRASHIS KUMAR DUTTA</h6>"
   ]
  }
 ],
 "metadata": {
  "kernelspec": {
   "display_name": "R",
   "language": "R",
   "name": "ir"
  },
  "language_info": {
   "codemirror_mode": "r",
   "file_extension": ".r",
   "mimetype": "text/x-r-source",
   "name": "R",
   "pygments_lexer": "r",
   "version": "3.6.1"
  }
 },
 "nbformat": 4,
 "nbformat_minor": 5
}
