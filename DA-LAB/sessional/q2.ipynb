{
 "cells": [
  {
   "cell_type": "markdown",
   "id": "2394cec9",
   "metadata": {},
   "source": [
    "<h6 align='center' style='font-size:20px;font:oxanium'>1906354 RUDRASHIS DUTTA</h6>"
   ]
  },
  {
   "cell_type": "markdown",
   "id": "368a92f1",
   "metadata": {},
   "source": [
    "<h1 align='center' style='font-size:50px'>1906354 DA SESSIONAL</h1>"
   ]
  },
  {
   "cell_type": "markdown",
   "id": "8170b45c",
   "metadata": {},
   "source": [
    "# Q.2) Create an Excel file as Candidate.xlsx, where sheet1 contains Reg_No, Name, Qualification, and sheet2 contains Reg_No, Written_Exam, Viva with 5 records. Now perform the following operations-\n",
    "> - i) Write the commands to install and load xlsx package to the R workspace.\n",
    "> - ii) Read the details of Sheet1 and Sheet2 from Candidate.xlsx to the R workspace and display that.\n",
    "> - iii) Retrieve the details of those candidates whose Viva mark is more than 80 and write that subset of data to a particular sheet of new Excel file.\n"
   ]
  },
  {
   "cell_type": "code",
   "execution_count": 1,
   "id": "6aba9eef",
   "metadata": {
    "vscode": {
     "languageId": "r"
    }
   },
   "outputs": [
    {
     "name": "stderr",
     "output_type": "stream",
     "text": [
      "Warning message:\n",
      "\"package 'xlsx' was built under R version 3.6.3\""
     ]
    }
   ],
   "source": [
    "library(xlsx)"
   ]
  },
  {
   "cell_type": "code",
   "execution_count": 2,
   "id": "fbc37c7d",
   "metadata": {
    "scrolled": true,
    "vscode": {
     "languageId": "r"
    }
   },
   "outputs": [
    {
     "data": {
      "text/html": [
       "<table>\n",
       "<thead><tr><th scope=col>Reg_no</th><th scope=col>Name</th><th scope=col>Qualification</th></tr></thead>\n",
       "<tbody>\n",
       "\t<tr><td>1   </td><td>gus </td><td>yes </td></tr>\n",
       "\t<tr><td>2   </td><td>ddv </td><td>yes </td></tr>\n",
       "\t<tr><td>3   </td><td>dvd </td><td>no  </td></tr>\n",
       "\t<tr><td>4   </td><td>ssf </td><td>no  </td></tr>\n",
       "\t<tr><td>5   </td><td>sfsg</td><td>yes </td></tr>\n",
       "</tbody>\n",
       "</table>\n"
      ],
      "text/latex": [
       "\\begin{tabular}{r|lll}\n",
       " Reg\\_no & Name & Qualification\\\\\n",
       "\\hline\n",
       "\t 1    & gus  & yes \\\\\n",
       "\t 2    & ddv  & yes \\\\\n",
       "\t 3    & dvd  & no  \\\\\n",
       "\t 4    & ssf  & no  \\\\\n",
       "\t 5    & sfsg & yes \\\\\n",
       "\\end{tabular}\n"
      ],
      "text/markdown": [
       "\n",
       "| Reg_no | Name | Qualification |\n",
       "|---|---|---|\n",
       "| 1    | gus  | yes  |\n",
       "| 2    | ddv  | yes  |\n",
       "| 3    | dvd  | no   |\n",
       "| 4    | ssf  | no   |\n",
       "| 5    | sfsg | yes  |\n",
       "\n"
      ],
      "text/plain": [
       "  Reg_no Name Qualification\n",
       "1 1      gus  yes          \n",
       "2 2      ddv  yes          \n",
       "3 3      dvd  no           \n",
       "4 4      ssf  no           \n",
       "5 5      sfsg yes          "
      ]
     },
     "metadata": {},
     "output_type": "display_data"
    }
   ],
   "source": [
    "data1 <- read.xlsx('Candidate.xlsx', sheetName='Sheet1')\n",
    "data1"
   ]
  },
  {
   "cell_type": "code",
   "execution_count": 3,
   "id": "8d2cc698",
   "metadata": {
    "scrolled": true,
    "vscode": {
     "languageId": "r"
    }
   },
   "outputs": [
    {
     "data": {
      "text/html": [
       "<table>\n",
       "<thead><tr><th scope=col>Reg_no</th><th scope=col>Written_Exam</th><th scope=col>Viva</th></tr></thead>\n",
       "<tbody>\n",
       "\t<tr><td>1 </td><td>56</td><td>56</td></tr>\n",
       "\t<tr><td>2 </td><td>89</td><td>89</td></tr>\n",
       "\t<tr><td>3 </td><td>97</td><td>97</td></tr>\n",
       "\t<tr><td>4 </td><td>78</td><td>78</td></tr>\n",
       "\t<tr><td>5 </td><td>90</td><td>90</td></tr>\n",
       "</tbody>\n",
       "</table>\n"
      ],
      "text/latex": [
       "\\begin{tabular}{r|lll}\n",
       " Reg\\_no & Written\\_Exam & Viva\\\\\n",
       "\\hline\n",
       "\t 1  & 56 & 56\\\\\n",
       "\t 2  & 89 & 89\\\\\n",
       "\t 3  & 97 & 97\\\\\n",
       "\t 4  & 78 & 78\\\\\n",
       "\t 5  & 90 & 90\\\\\n",
       "\\end{tabular}\n"
      ],
      "text/markdown": [
       "\n",
       "| Reg_no | Written_Exam | Viva |\n",
       "|---|---|---|\n",
       "| 1  | 56 | 56 |\n",
       "| 2  | 89 | 89 |\n",
       "| 3  | 97 | 97 |\n",
       "| 4  | 78 | 78 |\n",
       "| 5  | 90 | 90 |\n",
       "\n"
      ],
      "text/plain": [
       "  Reg_no Written_Exam Viva\n",
       "1 1      56           56  \n",
       "2 2      89           89  \n",
       "3 3      97           97  \n",
       "4 4      78           78  \n",
       "5 5      90           90  "
      ]
     },
     "metadata": {},
     "output_type": "display_data"
    }
   ],
   "source": [
    "data2 <- read.xlsx('Candidate.xlsx', sheetName='Sheet2')\n",
    "data2"
   ]
  },
  {
   "cell_type": "code",
   "execution_count": 4,
   "id": "3c52da7a",
   "metadata": {
    "vscode": {
     "languageId": "r"
    }
   },
   "outputs": [
    {
     "data": {
      "text/html": [
       "<table>\n",
       "<thead><tr><th></th><th scope=col>Reg_no</th><th scope=col>Written_Exam</th><th scope=col>Viva</th></tr></thead>\n",
       "<tbody>\n",
       "\t<tr><th scope=row>2</th><td>2 </td><td>89</td><td>89</td></tr>\n",
       "\t<tr><th scope=row>3</th><td>3 </td><td>97</td><td>97</td></tr>\n",
       "\t<tr><th scope=row>5</th><td>5 </td><td>90</td><td>90</td></tr>\n",
       "</tbody>\n",
       "</table>\n"
      ],
      "text/latex": [
       "\\begin{tabular}{r|lll}\n",
       "  & Reg\\_no & Written\\_Exam & Viva\\\\\n",
       "\\hline\n",
       "\t2 & 2  & 89 & 89\\\\\n",
       "\t3 & 3  & 97 & 97\\\\\n",
       "\t5 & 5  & 90 & 90\\\\\n",
       "\\end{tabular}\n"
      ],
      "text/markdown": [
       "\n",
       "| <!--/--> | Reg_no | Written_Exam | Viva |\n",
       "|---|---|---|---|\n",
       "| 2 | 2  | 89 | 89 |\n",
       "| 3 | 3  | 97 | 97 |\n",
       "| 5 | 5  | 90 | 90 |\n",
       "\n"
      ],
      "text/plain": [
       "  Reg_no Written_Exam Viva\n",
       "2 2      89           89  \n",
       "3 3      97           97  \n",
       "5 5      90           90  "
      ]
     },
     "metadata": {},
     "output_type": "display_data"
    }
   ],
   "source": [
    "data3 <- subset(data2, Viva >= 80)\n",
    "data3"
   ]
  },
  {
   "cell_type": "code",
   "execution_count": 5,
   "id": "3fa63edf",
   "metadata": {
    "vscode": {
     "languageId": "r"
    }
   },
   "outputs": [],
   "source": [
    "write.xlsx(data3, 'OP.xlsx', sheetName='ans')"
   ]
  }
 ],
 "metadata": {
  "kernelspec": {
   "display_name": "R",
   "language": "R",
   "name": "ir"
  },
  "language_info": {
   "codemirror_mode": "r",
   "file_extension": ".r",
   "mimetype": "text/x-r-source",
   "name": "R",
   "pygments_lexer": "r",
   "version": "3.6.1"
  }
 },
 "nbformat": 4,
 "nbformat_minor": 5
}
